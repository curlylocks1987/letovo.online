{
 "cells": [
  {
   "cell_type": "markdown",
   "metadata": {},
   "source": [
    "**Table of contents**<a id='toc0_'></a>    \n",
    "- [Imports](#toc1_1_)    \n",
    "- [Help functions](#toc2_)    \n",
    "- [Модель успешного абитуриента 2022-2023. Данные за весь год.](#toc3_)    \n",
    "  - [Задача](#toc3_1_)    \n",
    "  - [Load](#toc3_2_)    \n",
    "  - [Transform](#toc3_3_)    \n",
    "  - [Preprocessing](#toc3_4_)    \n",
    "    - [Дополнительные признаки](#toc3_4_1_)    \n",
    "    - [Заполнение пропусков (imputer)](#toc3_4_2_)    \n",
    "    - [Поменяем тип для категорной переменной `grade`](#toc3_4_3_)    \n",
    "  - [Model](#toc3_5_)    \n",
    "  - [Baseline](#toc3_6_)    \n",
    "    - [2021-2022](#toc3_6_1_)    \n",
    "    - [2022-2023](#toc3_6_2_)    \n",
    "    - [Все года](#toc3_6_3_)    \n",
    "  - [Tuning](#toc3_7_)    \n",
    "  - [Предсказание для 5-7 классов](#toc3_8_)    \n",
    "  - [Граница скоринга для 2023-2024 уч. года](#toc3_9_)    \n",
    "  - [Вывод](#toc3_10_)    \n",
    "\n",
    "<!-- vscode-jupyter-toc-config\n",
    "\tnumbering=false\n",
    "\tanchor=true\n",
    "\tflat=false\n",
    "\tminLevel=1\n",
    "\tmaxLevel=6\n",
    "\t/vscode-jupyter-toc-config -->\n",
    "<!-- THIS CELL WILL BE REPLACED ON TOC UPDATE. DO NOT WRITE YOUR TEXT IN THIS CELL -->"
   ]
  },
  {
   "cell_type": "markdown",
   "metadata": {},
   "source": [
    "## <a id='toc1_1_'></a>[Imports](#toc0_)"
   ]
  },
  {
   "cell_type": "code",
   "execution_count": 450,
   "metadata": {},
   "outputs": [],
   "source": [
    "import pandas as pd\n",
    "import numpy as np\n",
    "import matplotlib.pyplot as plt\n",
    "import matplotlib.ticker as ticker\n",
    "import seaborn as sns\n",
    "import random\n",
    "\n",
    "from typing import Optional, Union\n",
    "\n",
    "from catboost import CatBoostClassifier, cv, Pool\n",
    "\n",
    "from sklearn.model_selection import cross_val_score, cross_validate\n",
    "from sklearn.impute import SimpleImputer\n",
    "from sklearn.pipeline import Pipeline\n",
    "from sklearn.preprocessing import FunctionTransformer\n",
    "from sklearn.compose import ColumnTransformer\n",
    "from sklearn.compose import make_column_selector\n",
    "from sklearn.decomposition import PCA\n",
    "from sklearn.feature_selection import SelectFromModel\n",
    "from sklearn.ensemble import ExtraTreesClassifier\n",
    "\n",
    "from optuna import Trial, create_study\n",
    "from optuna.visualization import plot_param_importances, plot_optimization_history\n",
    "\n",
    "from joblib import dump, load\n",
    "\n",
    "LETOVO_PALETTE = [\"#0D3174\", \"#FDC300\", \"#A40C30\", \"#00ADB9\", \"#B2B2B2\"]\n",
    "sns.set_style(\"darkgrid\")\n",
    "sns.set_palette(\"Set2\")\n",
    "\n",
    "plt.rcParams[\"figure.figsize\"] = (16, 10)\n",
    "plt.rcParams[\"font.size\"] = 20\n",
    "\n",
    "YELLOW = \"#FDC300\"\n",
    "BLUE = \"#0D3174\"\n",
    "palette_dict = {1: YELLOW, 0: \"grey\"}\n",
    "\n",
    "import warnings\n",
    "\n",
    "warnings.filterwarnings(\"ignore\")\n",
    "\n",
    "YEARS = [22, 23]\n",
    "PATH = \"../../Выгрузки/\"\n",
    "OPTUNA_N_TRIALS = 100"
   ]
  },
  {
   "cell_type": "markdown",
   "metadata": {},
   "source": [
    "# <a id='toc2_'></a>[Help functions](#toc0_)"
   ]
  },
  {
   "cell_type": "markdown",
   "metadata": {},
   "source": [
    "# <a id='toc3_'></a>[Модель успешного абитуриента 2022-2023. Данные за весь год.](#toc0_)"
   ]
  },
  {
   "cell_type": "markdown",
   "metadata": {},
   "source": [
    "## <a id='toc3_1_'></a>[Задача](#toc0_)"
   ]
  },
  {
   "attachments": {},
   "cell_type": "markdown",
   "metadata": {},
   "source": [
    "Задача по результатам занятий на ЛО предсказать, что ученик будет рекомендован к поступлению в школу Летово.\n",
    "\n",
    "Еще точнее нам нужно узнать какие из текущих учеников 5 класса похожи на рекомендованных 6 класса, и так далее для 6 и 7 классов.\n",
    "\n",
    "__О наших данных__\n",
    "\n",
    "- Срез данных делается по 01.03.2023 года\n",
    "- Тесты берем по трем основным предметам (Рус, Англ, Мат) и только базовой сложности "
   ]
  },
  {
   "attachments": {},
   "cell_type": "markdown",
   "metadata": {},
   "source": [
    "__Поля__\n",
    "\n",
    "Признаки успешности абитуриента \n",
    "\n",
    "(во всех полях с тестами, курсами и т.д. NULL - означает, что не присупал)\n",
    "\n",
    "- `old_lo_id` - старый ЛО ID (в схеме letovo_do_2020, а также lo_20XX)\n",
    "- `lo_id` - новый ЛО ID (в схемах letovo_online) \n",
    "- `crm_lead_id` - старый ID ЕЛК\n",
    "- `first_attempt_avg_score` - средняя оценка за начальные тесты\n",
    "- `train_count_avg` - кол-во тренировочных попыток в тесте (среднее по всем предметам).\n",
    "- `final_score_avg` - средняя финальная оценка за тесты\n",
    "- `train_count_80_avg` - кол-во тренировочных попыток для достижения 80% в тесте (среднее по всем предметам). \n",
    "- `oz_done_count` - кол-во решенных ОЗ (с ненулевым баллом)\n",
    "- `oz_subject_count` - кол-во различных предметов, в которых были набраны баллы ОЗ\n",
    "- `oz_percent_avg` - средний балл за ОЗ в процентах от максимального балла за задание\n",
    "- `course_start` - кол-во курсов, в которых отправлено хотя бы одно задание\n",
    "- `course_50` - кол-во курсов, в которых отправлено хотя бы половина заданий\n",
    "- `olymp_start` - кол-во олимпиад, в которых отправлено хотя бы одно задание\n",
    "- `wave_login_first` - уч.год первого логина, 0 - текущий, 1 - предыдущий и т.д.\n",
    "- `week_first_login_wave` - порядковый номер недели учебного года, когда был первый логин в год первого логина\n",
    "- `week_first_login_this_year` - порядковый номер недели учебного года, когда был первый логин в этом году\n",
    "- `grade` - класс ученика в данном учебном году"
   ]
  },
  {
   "cell_type": "markdown",
   "metadata": {},
   "source": [
    "## <a id='toc3_2_'></a>[Load](#toc0_)"
   ]
  },
  {
   "attachments": {},
   "cell_type": "markdown",
   "metadata": {},
   "source": [
    "Загружаем признаки для 5-8 класса"
   ]
  },
  {
   "cell_type": "code",
   "execution_count": 221,
   "metadata": {},
   "outputs": [],
   "source": [
    "feat = {}"
   ]
  },
  {
   "cell_type": "code",
   "execution_count": 368,
   "metadata": {},
   "outputs": [
    {
     "data": {
      "text/html": [
       "<div>\n",
       "<style scoped>\n",
       "    .dataframe tbody tr th:only-of-type {\n",
       "        vertical-align: middle;\n",
       "    }\n",
       "\n",
       "    .dataframe tbody tr th {\n",
       "        vertical-align: top;\n",
       "    }\n",
       "\n",
       "    .dataframe thead th {\n",
       "        text-align: right;\n",
       "    }\n",
       "</style>\n",
       "<table border=\"1\" class=\"dataframe\">\n",
       "  <thead>\n",
       "    <tr style=\"text-align: right;\">\n",
       "      <th></th>\n",
       "      <th>lo_id</th>\n",
       "      <th>old_lo_id</th>\n",
       "      <th>crm_lead_id</th>\n",
       "      <th>first_attempt_avg_score</th>\n",
       "      <th>train_count_avg</th>\n",
       "      <th>final_score_avg</th>\n",
       "      <th>train_count_80_avg</th>\n",
       "      <th>oz_done_count</th>\n",
       "      <th>oz_subject_count</th>\n",
       "      <th>oz_percent_avg</th>\n",
       "      <th>course_start</th>\n",
       "      <th>course_50</th>\n",
       "      <th>olymp_start</th>\n",
       "      <th>week_first_login_this_year</th>\n",
       "      <th>week_first_login_wave</th>\n",
       "      <th>wave_login_first</th>\n",
       "      <th>grade</th>\n",
       "    </tr>\n",
       "  </thead>\n",
       "  <tbody>\n",
       "    <tr>\n",
       "      <th>0</th>\n",
       "      <td>380726</td>\n",
       "      <td>9803</td>\n",
       "      <td>1995</td>\n",
       "      <td>66.0</td>\n",
       "      <td>23.0</td>\n",
       "      <td>100.0</td>\n",
       "      <td>2.0</td>\n",
       "      <td>NaN</td>\n",
       "      <td>NaN</td>\n",
       "      <td>NaN</td>\n",
       "      <td>NaN</td>\n",
       "      <td>NaN</td>\n",
       "      <td>NaN</td>\n",
       "      <td>2</td>\n",
       "      <td>18</td>\n",
       "      <td>2</td>\n",
       "      <td>7</td>\n",
       "    </tr>\n",
       "    <tr>\n",
       "      <th>1</th>\n",
       "      <td>380802</td>\n",
       "      <td>9881</td>\n",
       "      <td>36617</td>\n",
       "      <td>64.0</td>\n",
       "      <td>0.0</td>\n",
       "      <td>64.0</td>\n",
       "      <td>NaN</td>\n",
       "      <td>8.0</td>\n",
       "      <td>1.0</td>\n",
       "      <td>50.000000</td>\n",
       "      <td>NaN</td>\n",
       "      <td>NaN</td>\n",
       "      <td>NaN</td>\n",
       "      <td>1</td>\n",
       "      <td>3</td>\n",
       "      <td>2</td>\n",
       "      <td>8</td>\n",
       "    </tr>\n",
       "    <tr>\n",
       "      <th>2</th>\n",
       "      <td>380803</td>\n",
       "      <td>9882</td>\n",
       "      <td>713</td>\n",
       "      <td>100.0</td>\n",
       "      <td>0.0</td>\n",
       "      <td>100.0</td>\n",
       "      <td>0.0</td>\n",
       "      <td>1.0</td>\n",
       "      <td>1.0</td>\n",
       "      <td>33.333333</td>\n",
       "      <td>NaN</td>\n",
       "      <td>NaN</td>\n",
       "      <td>NaN</td>\n",
       "      <td>19</td>\n",
       "      <td>17</td>\n",
       "      <td>2</td>\n",
       "      <td>7</td>\n",
       "    </tr>\n",
       "    <tr>\n",
       "      <th>3</th>\n",
       "      <td>380867</td>\n",
       "      <td>9946</td>\n",
       "      <td>36638</td>\n",
       "      <td>NaN</td>\n",
       "      <td>NaN</td>\n",
       "      <td>NaN</td>\n",
       "      <td>NaN</td>\n",
       "      <td>0.0</td>\n",
       "      <td>0.0</td>\n",
       "      <td>0.000000</td>\n",
       "      <td>NaN</td>\n",
       "      <td>NaN</td>\n",
       "      <td>NaN</td>\n",
       "      <td>1</td>\n",
       "      <td>11</td>\n",
       "      <td>2</td>\n",
       "      <td>7</td>\n",
       "    </tr>\n",
       "    <tr>\n",
       "      <th>4</th>\n",
       "      <td>380908</td>\n",
       "      <td>9987</td>\n",
       "      <td>1672</td>\n",
       "      <td>26.5</td>\n",
       "      <td>0.0</td>\n",
       "      <td>26.5</td>\n",
       "      <td>NaN</td>\n",
       "      <td>NaN</td>\n",
       "      <td>NaN</td>\n",
       "      <td>NaN</td>\n",
       "      <td>NaN</td>\n",
       "      <td>NaN</td>\n",
       "      <td>1.0</td>\n",
       "      <td>1</td>\n",
       "      <td>16</td>\n",
       "      <td>2</td>\n",
       "      <td>8</td>\n",
       "    </tr>\n",
       "    <tr>\n",
       "      <th>...</th>\n",
       "      <td>...</td>\n",
       "      <td>...</td>\n",
       "      <td>...</td>\n",
       "      <td>...</td>\n",
       "      <td>...</td>\n",
       "      <td>...</td>\n",
       "      <td>...</td>\n",
       "      <td>...</td>\n",
       "      <td>...</td>\n",
       "      <td>...</td>\n",
       "      <td>...</td>\n",
       "      <td>...</td>\n",
       "      <td>...</td>\n",
       "      <td>...</td>\n",
       "      <td>...</td>\n",
       "      <td>...</td>\n",
       "      <td>...</td>\n",
       "    </tr>\n",
       "    <tr>\n",
       "      <th>24040</th>\n",
       "      <td>599343</td>\n",
       "      <td>222985</td>\n",
       "      <td>225822</td>\n",
       "      <td>13.5</td>\n",
       "      <td>0.0</td>\n",
       "      <td>13.5</td>\n",
       "      <td>NaN</td>\n",
       "      <td>0.0</td>\n",
       "      <td>0.0</td>\n",
       "      <td>0.000000</td>\n",
       "      <td>NaN</td>\n",
       "      <td>NaN</td>\n",
       "      <td>NaN</td>\n",
       "      <td>26</td>\n",
       "      <td>26</td>\n",
       "      <td>0</td>\n",
       "      <td>7</td>\n",
       "    </tr>\n",
       "    <tr>\n",
       "      <th>24041</th>\n",
       "      <td>599345</td>\n",
       "      <td>223038</td>\n",
       "      <td>225875</td>\n",
       "      <td>0.0</td>\n",
       "      <td>0.0</td>\n",
       "      <td>0.0</td>\n",
       "      <td>NaN</td>\n",
       "      <td>NaN</td>\n",
       "      <td>NaN</td>\n",
       "      <td>NaN</td>\n",
       "      <td>NaN</td>\n",
       "      <td>NaN</td>\n",
       "      <td>NaN</td>\n",
       "      <td>26</td>\n",
       "      <td>26</td>\n",
       "      <td>0</td>\n",
       "      <td>5</td>\n",
       "    </tr>\n",
       "    <tr>\n",
       "      <th>24042</th>\n",
       "      <td>599346</td>\n",
       "      <td>223042</td>\n",
       "      <td>225879</td>\n",
       "      <td>9.0</td>\n",
       "      <td>0.0</td>\n",
       "      <td>9.0</td>\n",
       "      <td>NaN</td>\n",
       "      <td>NaN</td>\n",
       "      <td>NaN</td>\n",
       "      <td>NaN</td>\n",
       "      <td>NaN</td>\n",
       "      <td>NaN</td>\n",
       "      <td>NaN</td>\n",
       "      <td>26</td>\n",
       "      <td>26</td>\n",
       "      <td>0</td>\n",
       "      <td>7</td>\n",
       "    </tr>\n",
       "    <tr>\n",
       "      <th>24043</th>\n",
       "      <td>599348</td>\n",
       "      <td>223133</td>\n",
       "      <td>225969</td>\n",
       "      <td>0.0</td>\n",
       "      <td>0.0</td>\n",
       "      <td>0.0</td>\n",
       "      <td>NaN</td>\n",
       "      <td>0.0</td>\n",
       "      <td>0.0</td>\n",
       "      <td>0.000000</td>\n",
       "      <td>NaN</td>\n",
       "      <td>NaN</td>\n",
       "      <td>NaN</td>\n",
       "      <td>26</td>\n",
       "      <td>26</td>\n",
       "      <td>0</td>\n",
       "      <td>5</td>\n",
       "    </tr>\n",
       "    <tr>\n",
       "      <th>24044</th>\n",
       "      <td>599349</td>\n",
       "      <td>223156</td>\n",
       "      <td>225992</td>\n",
       "      <td>NaN</td>\n",
       "      <td>NaN</td>\n",
       "      <td>NaN</td>\n",
       "      <td>NaN</td>\n",
       "      <td>0.0</td>\n",
       "      <td>0.0</td>\n",
       "      <td>0.000000</td>\n",
       "      <td>NaN</td>\n",
       "      <td>NaN</td>\n",
       "      <td>NaN</td>\n",
       "      <td>26</td>\n",
       "      <td>26</td>\n",
       "      <td>0</td>\n",
       "      <td>7</td>\n",
       "    </tr>\n",
       "  </tbody>\n",
       "</table>\n",
       "<p>24045 rows × 17 columns</p>\n",
       "</div>"
      ],
      "text/plain": [
       "        lo_id  old_lo_id  crm_lead_id  first_attempt_avg_score  \\\n",
       "0      380726       9803         1995                     66.0   \n",
       "1      380802       9881        36617                     64.0   \n",
       "2      380803       9882          713                    100.0   \n",
       "3      380867       9946        36638                      NaN   \n",
       "4      380908       9987         1672                     26.5   \n",
       "...       ...        ...          ...                      ...   \n",
       "24040  599343     222985       225822                     13.5   \n",
       "24041  599345     223038       225875                      0.0   \n",
       "24042  599346     223042       225879                      9.0   \n",
       "24043  599348     223133       225969                      0.0   \n",
       "24044  599349     223156       225992                      NaN   \n",
       "\n",
       "       train_count_avg  final_score_avg  train_count_80_avg  oz_done_count  \\\n",
       "0                 23.0            100.0                 2.0            NaN   \n",
       "1                  0.0             64.0                 NaN            8.0   \n",
       "2                  0.0            100.0                 0.0            1.0   \n",
       "3                  NaN              NaN                 NaN            0.0   \n",
       "4                  0.0             26.5                 NaN            NaN   \n",
       "...                ...              ...                 ...            ...   \n",
       "24040              0.0             13.5                 NaN            0.0   \n",
       "24041              0.0              0.0                 NaN            NaN   \n",
       "24042              0.0              9.0                 NaN            NaN   \n",
       "24043              0.0              0.0                 NaN            0.0   \n",
       "24044              NaN              NaN                 NaN            0.0   \n",
       "\n",
       "       oz_subject_count  oz_percent_avg  course_start  course_50  olymp_start  \\\n",
       "0                   NaN             NaN           NaN        NaN          NaN   \n",
       "1                   1.0       50.000000           NaN        NaN          NaN   \n",
       "2                   1.0       33.333333           NaN        NaN          NaN   \n",
       "3                   0.0        0.000000           NaN        NaN          NaN   \n",
       "4                   NaN             NaN           NaN        NaN          1.0   \n",
       "...                 ...             ...           ...        ...          ...   \n",
       "24040               0.0        0.000000           NaN        NaN          NaN   \n",
       "24041               NaN             NaN           NaN        NaN          NaN   \n",
       "24042               NaN             NaN           NaN        NaN          NaN   \n",
       "24043               0.0        0.000000           NaN        NaN          NaN   \n",
       "24044               0.0        0.000000           NaN        NaN          NaN   \n",
       "\n",
       "       week_first_login_this_year  week_first_login_wave  wave_login_first  \\\n",
       "0                               2                     18                 2   \n",
       "1                               1                      3                 2   \n",
       "2                              19                     17                 2   \n",
       "3                               1                     11                 2   \n",
       "4                               1                     16                 2   \n",
       "...                           ...                    ...               ...   \n",
       "24040                          26                     26                 0   \n",
       "24041                          26                     26                 0   \n",
       "24042                          26                     26                 0   \n",
       "24043                          26                     26                 0   \n",
       "24044                          26                     26                 0   \n",
       "\n",
       "       grade  \n",
       "0          7  \n",
       "1          8  \n",
       "2          7  \n",
       "3          7  \n",
       "4          8  \n",
       "...      ...  \n",
       "24040      7  \n",
       "24041      5  \n",
       "24042      7  \n",
       "24043      5  \n",
       "24044      7  \n",
       "\n",
       "[24045 rows x 17 columns]"
      ]
     },
     "metadata": {},
     "output_type": "display_data"
    },
    {
     "data": {
      "text/html": [
       "<div>\n",
       "<style scoped>\n",
       "    .dataframe tbody tr th:only-of-type {\n",
       "        vertical-align: middle;\n",
       "    }\n",
       "\n",
       "    .dataframe tbody tr th {\n",
       "        vertical-align: top;\n",
       "    }\n",
       "\n",
       "    .dataframe thead th {\n",
       "        text-align: right;\n",
       "    }\n",
       "</style>\n",
       "<table border=\"1\" class=\"dataframe\">\n",
       "  <thead>\n",
       "    <tr style=\"text-align: right;\">\n",
       "      <th></th>\n",
       "      <th>lo_id</th>\n",
       "      <th>first_attempt_avg_score</th>\n",
       "      <th>train_count_avg</th>\n",
       "      <th>final_score_avg</th>\n",
       "      <th>train_count_80_avg</th>\n",
       "      <th>oz_done_count</th>\n",
       "      <th>oz_subject_count</th>\n",
       "      <th>oz_percent_avg</th>\n",
       "      <th>course_start</th>\n",
       "      <th>course_50</th>\n",
       "      <th>olymp_start</th>\n",
       "      <th>week_first_login_this_year</th>\n",
       "      <th>wave_login_first</th>\n",
       "      <th>week_first_login_wave</th>\n",
       "      <th>grade</th>\n",
       "    </tr>\n",
       "  </thead>\n",
       "  <tbody>\n",
       "    <tr>\n",
       "      <th>0</th>\n",
       "      <td>528789</td>\n",
       "      <td>76.631700</td>\n",
       "      <td>1.6667</td>\n",
       "      <td>92.657333</td>\n",
       "      <td>0.6667</td>\n",
       "      <td>NaN</td>\n",
       "      <td>NaN</td>\n",
       "      <td>NaN</td>\n",
       "      <td>NaN</td>\n",
       "      <td>NaN</td>\n",
       "      <td>1.0</td>\n",
       "      <td>0</td>\n",
       "      <td>1</td>\n",
       "      <td>2</td>\n",
       "      <td>6</td>\n",
       "    </tr>\n",
       "    <tr>\n",
       "      <th>1</th>\n",
       "      <td>587048</td>\n",
       "      <td>NaN</td>\n",
       "      <td>NaN</td>\n",
       "      <td>NaN</td>\n",
       "      <td>NaN</td>\n",
       "      <td>4.0</td>\n",
       "      <td>1.0</td>\n",
       "      <td>80.000000</td>\n",
       "      <td>NaN</td>\n",
       "      <td>NaN</td>\n",
       "      <td>NaN</td>\n",
       "      <td>0</td>\n",
       "      <td>1</td>\n",
       "      <td>23</td>\n",
       "      <td>8</td>\n",
       "    </tr>\n",
       "    <tr>\n",
       "      <th>2</th>\n",
       "      <td>593642</td>\n",
       "      <td>NaN</td>\n",
       "      <td>0.0000</td>\n",
       "      <td>NaN</td>\n",
       "      <td>NaN</td>\n",
       "      <td>12.0</td>\n",
       "      <td>2.0</td>\n",
       "      <td>92.307692</td>\n",
       "      <td>NaN</td>\n",
       "      <td>NaN</td>\n",
       "      <td>NaN</td>\n",
       "      <td>0</td>\n",
       "      <td>1</td>\n",
       "      <td>37</td>\n",
       "      <td>7</td>\n",
       "    </tr>\n",
       "    <tr>\n",
       "      <th>3</th>\n",
       "      <td>601156</td>\n",
       "      <td>66.259233</td>\n",
       "      <td>1.3333</td>\n",
       "      <td>74.051433</td>\n",
       "      <td>1.0000</td>\n",
       "      <td>14.0</td>\n",
       "      <td>1.0</td>\n",
       "      <td>53.846154</td>\n",
       "      <td>7.0</td>\n",
       "      <td>4.0</td>\n",
       "      <td>1.0</td>\n",
       "      <td>0</td>\n",
       "      <td>1</td>\n",
       "      <td>41</td>\n",
       "      <td>8</td>\n",
       "    </tr>\n",
       "    <tr>\n",
       "      <th>4</th>\n",
       "      <td>527197</td>\n",
       "      <td>52.840900</td>\n",
       "      <td>9.5000</td>\n",
       "      <td>52.840900</td>\n",
       "      <td>0.0000</td>\n",
       "      <td>1.0</td>\n",
       "      <td>1.0</td>\n",
       "      <td>100.000000</td>\n",
       "      <td>8.0</td>\n",
       "      <td>6.0</td>\n",
       "      <td>NaN</td>\n",
       "      <td>0</td>\n",
       "      <td>2</td>\n",
       "      <td>42</td>\n",
       "      <td>6</td>\n",
       "    </tr>\n",
       "    <tr>\n",
       "      <th>...</th>\n",
       "      <td>...</td>\n",
       "      <td>...</td>\n",
       "      <td>...</td>\n",
       "      <td>...</td>\n",
       "      <td>...</td>\n",
       "      <td>...</td>\n",
       "      <td>...</td>\n",
       "      <td>...</td>\n",
       "      <td>...</td>\n",
       "      <td>...</td>\n",
       "      <td>...</td>\n",
       "      <td>...</td>\n",
       "      <td>...</td>\n",
       "      <td>...</td>\n",
       "      <td>...</td>\n",
       "    </tr>\n",
       "    <tr>\n",
       "      <th>12617</th>\n",
       "      <td>657926</td>\n",
       "      <td>NaN</td>\n",
       "      <td>NaN</td>\n",
       "      <td>NaN</td>\n",
       "      <td>NaN</td>\n",
       "      <td>0.0</td>\n",
       "      <td>NaN</td>\n",
       "      <td>0.000000</td>\n",
       "      <td>NaN</td>\n",
       "      <td>NaN</td>\n",
       "      <td>NaN</td>\n",
       "      <td>26</td>\n",
       "      <td>0</td>\n",
       "      <td>26</td>\n",
       "      <td>6</td>\n",
       "    </tr>\n",
       "    <tr>\n",
       "      <th>12618</th>\n",
       "      <td>657935</td>\n",
       "      <td>12.500000</td>\n",
       "      <td>0.0000</td>\n",
       "      <td>12.500000</td>\n",
       "      <td>NaN</td>\n",
       "      <td>NaN</td>\n",
       "      <td>NaN</td>\n",
       "      <td>NaN</td>\n",
       "      <td>NaN</td>\n",
       "      <td>NaN</td>\n",
       "      <td>NaN</td>\n",
       "      <td>26</td>\n",
       "      <td>0</td>\n",
       "      <td>26</td>\n",
       "      <td>6</td>\n",
       "    </tr>\n",
       "    <tr>\n",
       "      <th>12619</th>\n",
       "      <td>657937</td>\n",
       "      <td>48.701300</td>\n",
       "      <td>1.0000</td>\n",
       "      <td>48.701300</td>\n",
       "      <td>NaN</td>\n",
       "      <td>NaN</td>\n",
       "      <td>NaN</td>\n",
       "      <td>NaN</td>\n",
       "      <td>NaN</td>\n",
       "      <td>NaN</td>\n",
       "      <td>NaN</td>\n",
       "      <td>26</td>\n",
       "      <td>0</td>\n",
       "      <td>26</td>\n",
       "      <td>8</td>\n",
       "    </tr>\n",
       "    <tr>\n",
       "      <th>12620</th>\n",
       "      <td>648331</td>\n",
       "      <td>21.428600</td>\n",
       "      <td>0.0000</td>\n",
       "      <td>21.428600</td>\n",
       "      <td>NaN</td>\n",
       "      <td>5.0</td>\n",
       "      <td>2.0</td>\n",
       "      <td>50.000000</td>\n",
       "      <td>NaN</td>\n",
       "      <td>NaN</td>\n",
       "      <td>NaN</td>\n",
       "      <td>26</td>\n",
       "      <td>0</td>\n",
       "      <td>26</td>\n",
       "      <td>8</td>\n",
       "    </tr>\n",
       "    <tr>\n",
       "      <th>12621</th>\n",
       "      <td>654271</td>\n",
       "      <td>NaN</td>\n",
       "      <td>NaN</td>\n",
       "      <td>NaN</td>\n",
       "      <td>NaN</td>\n",
       "      <td>1.0</td>\n",
       "      <td>1.0</td>\n",
       "      <td>25.000000</td>\n",
       "      <td>NaN</td>\n",
       "      <td>NaN</td>\n",
       "      <td>NaN</td>\n",
       "      <td>26</td>\n",
       "      <td>0</td>\n",
       "      <td>26</td>\n",
       "      <td>8</td>\n",
       "    </tr>\n",
       "  </tbody>\n",
       "</table>\n",
       "<p>12622 rows × 15 columns</p>\n",
       "</div>"
      ],
      "text/plain": [
       "        lo_id  first_attempt_avg_score  train_count_avg  final_score_avg  \\\n",
       "0      528789                76.631700           1.6667        92.657333   \n",
       "1      587048                      NaN              NaN              NaN   \n",
       "2      593642                      NaN           0.0000              NaN   \n",
       "3      601156                66.259233           1.3333        74.051433   \n",
       "4      527197                52.840900           9.5000        52.840900   \n",
       "...       ...                      ...              ...              ...   \n",
       "12617  657926                      NaN              NaN              NaN   \n",
       "12618  657935                12.500000           0.0000        12.500000   \n",
       "12619  657937                48.701300           1.0000        48.701300   \n",
       "12620  648331                21.428600           0.0000        21.428600   \n",
       "12621  654271                      NaN              NaN              NaN   \n",
       "\n",
       "       train_count_80_avg  oz_done_count  oz_subject_count  oz_percent_avg  \\\n",
       "0                  0.6667            NaN               NaN             NaN   \n",
       "1                     NaN            4.0               1.0       80.000000   \n",
       "2                     NaN           12.0               2.0       92.307692   \n",
       "3                  1.0000           14.0               1.0       53.846154   \n",
       "4                  0.0000            1.0               1.0      100.000000   \n",
       "...                   ...            ...               ...             ...   \n",
       "12617                 NaN            0.0               NaN        0.000000   \n",
       "12618                 NaN            NaN               NaN             NaN   \n",
       "12619                 NaN            NaN               NaN             NaN   \n",
       "12620                 NaN            5.0               2.0       50.000000   \n",
       "12621                 NaN            1.0               1.0       25.000000   \n",
       "\n",
       "       course_start  course_50  olymp_start  week_first_login_this_year  \\\n",
       "0               NaN        NaN          1.0                           0   \n",
       "1               NaN        NaN          NaN                           0   \n",
       "2               NaN        NaN          NaN                           0   \n",
       "3               7.0        4.0          1.0                           0   \n",
       "4               8.0        6.0          NaN                           0   \n",
       "...             ...        ...          ...                         ...   \n",
       "12617           NaN        NaN          NaN                          26   \n",
       "12618           NaN        NaN          NaN                          26   \n",
       "12619           NaN        NaN          NaN                          26   \n",
       "12620           NaN        NaN          NaN                          26   \n",
       "12621           NaN        NaN          NaN                          26   \n",
       "\n",
       "       wave_login_first  week_first_login_wave  grade  \n",
       "0                     1                      2      6  \n",
       "1                     1                     23      8  \n",
       "2                     1                     37      7  \n",
       "3                     1                     41      8  \n",
       "4                     2                     42      6  \n",
       "...                 ...                    ...    ...  \n",
       "12617                 0                     26      6  \n",
       "12618                 0                     26      6  \n",
       "12619                 0                     26      8  \n",
       "12620                 0                     26      8  \n",
       "12621                 0                     26      8  \n",
       "\n",
       "[12622 rows x 15 columns]"
      ]
     },
     "execution_count": 368,
     "metadata": {},
     "output_type": "execute_result"
    }
   ],
   "source": [
    "feat[22] = pd.read_csv(PATH + \"success_features_2021_2022_up_to_03_01.csv\")\n",
    "feat[23] = pd.read_csv(PATH + \"success_features_2022_2023_up_to_03_01.csv\")\n",
    "display(feat[22])\n",
    "feat[23]"
   ]
  },
  {
   "cell_type": "code",
   "execution_count": 369,
   "metadata": {},
   "outputs": [
    {
     "data": {
      "text/plain": [
       "grade\n",
       "7    6738\n",
       "6    6582\n",
       "8    6531\n",
       "5    4194\n",
       "Name: count, dtype: int64"
      ]
     },
     "execution_count": 369,
     "metadata": {},
     "output_type": "execute_result"
    }
   ],
   "source": [
    "feat[22].grade.value_counts()"
   ]
  },
  {
   "cell_type": "code",
   "execution_count": 370,
   "metadata": {},
   "outputs": [
    {
     "data": {
      "text/plain": [
       "grade\n",
       "8    4167\n",
       "7    3619\n",
       "6    3583\n",
       "5    1253\n",
       "Name: count, dtype: int64"
      ]
     },
     "execution_count": 370,
     "metadata": {},
     "output_type": "execute_result"
    }
   ],
   "source": [
    "feat[23].grade.value_counts()"
   ]
  },
  {
   "attachments": {},
   "cell_type": "markdown",
   "metadata": {},
   "source": [
    "Загружаем данные о рекомендации:"
   ]
  },
  {
   "cell_type": "code",
   "execution_count": 225,
   "metadata": {},
   "outputs": [
    {
     "data": {
      "text/plain": [
       "['first_attempt_avg_score',\n",
       " 'train_count_avg',\n",
       " 'final_score_avg',\n",
       " 'train_count_80_avg',\n",
       " 'oz_done_count',\n",
       " 'oz_subject_count',\n",
       " 'oz_percent_avg',\n",
       " 'course_start',\n",
       " 'course_50',\n",
       " 'olymp_start',\n",
       " 'week_first_login_this_year',\n",
       " 'wave_login_first',\n",
       " 'week_first_login_wave',\n",
       " 'grade']"
      ]
     },
     "execution_count": 225,
     "metadata": {},
     "output_type": "execute_result"
    }
   ],
   "source": [
    "feat_names = feat[23].columns[1:].tolist()\n",
    "feat_names"
   ]
  },
  {
   "cell_type": "code",
   "execution_count": 226,
   "metadata": {},
   "outputs": [
    {
     "data": {
      "text/plain": [
       "14"
      ]
     },
     "metadata": {},
     "output_type": "display_data"
    },
    {
     "data": {
      "text/plain": [
       "{'first_attempt_avg_score': 'Результат нач. попытки, %, сред.',\n",
       " 'train_count_avg': 'Кол-во тренировок, сред.',\n",
       " 'final_score_avg': 'Финальный результат, %, сред.',\n",
       " 'train_count_80_avg': 'Кол-во тренировок до 80%, сред.',\n",
       " 'oz_done_count': 'Кол-во решенных ОЗ',\n",
       " 'oz_subject_count': 'Кол-во предметов в ОЗ',\n",
       " 'oz_percent_avg': 'Средний результат ОЗ, %',\n",
       " 'course_start': 'Кол-во начатых курсов',\n",
       " 'course_50': 'Кол-во курсов, пройденных хотя бы на половину',\n",
       " 'olymp_start': 'Кол-во начатых олимп.',\n",
       " 'week_first_login_this_year': 'Неделя первого логина в тек. уч. году',\n",
       " 'wave_login_first': 'Уч. год первого логина',\n",
       " 'week_first_login_wave': 'Неделя первого логина',\n",
       " 'grade': 'Класс'}"
      ]
     },
     "execution_count": 226,
     "metadata": {},
     "output_type": "execute_result"
    }
   ],
   "source": [
    "ru_names = [\n",
    "    \"Результат нач. попытки, %, сред.\",\n",
    "    \"Кол-во тренировок, сред.\",\n",
    "    \"Финальный результат, %, сред.\",\n",
    "    \"Кол-во тренировок до 80%, сред.\",\n",
    "    \"Кол-во решенных ОЗ\",\n",
    "    \"Кол-во предметов в ОЗ\",\n",
    "    \"Средний результат ОЗ, %\",\n",
    "    \"Кол-во начатых курсов\",\n",
    "    \"Кол-во курсов, пройденных хотя бы на половину\",\n",
    "    \"Кол-во начатых олимп.\",\n",
    "    \"Неделя первого логина в тек. уч. году\",\n",
    "    \"Уч. год первого логина\",\n",
    "    \"Неделя первого логина\",\n",
    "    \"Класс\",\n",
    "]\n",
    "\n",
    "ru_dict = dict(zip(feat_names, ru_names))\n",
    "display(len(ru_dict))\n",
    "ru_dict"
   ]
  },
  {
   "attachments": {},
   "cell_type": "markdown",
   "metadata": {},
   "source": [
    "Ученики, подавшие заявку в школу в 2021-2022, а также рекомендованные к поступлению"
   ]
  },
  {
   "cell_type": "code",
   "execution_count": 227,
   "metadata": {},
   "outputs": [],
   "source": [
    "claims = {}"
   ]
  },
  {
   "cell_type": "markdown",
   "metadata": {},
   "source": [
    "Для текущего года у нас уже есть готовая выгрузка"
   ]
  },
  {
   "cell_type": "code",
   "execution_count": 228,
   "metadata": {},
   "outputs": [
    {
     "data": {
      "text/html": [
       "<div>\n",
       "<style scoped>\n",
       "    .dataframe tbody tr th:only-of-type {\n",
       "        vertical-align: middle;\n",
       "    }\n",
       "\n",
       "    .dataframe tbody tr th {\n",
       "        vertical-align: top;\n",
       "    }\n",
       "\n",
       "    .dataframe thead th {\n",
       "        text-align: right;\n",
       "    }\n",
       "</style>\n",
       "<table border=\"1\" class=\"dataframe\">\n",
       "  <thead>\n",
       "    <tr style=\"text-align: right;\">\n",
       "      <th></th>\n",
       "      <th>lo_id</th>\n",
       "      <th>submitted_at</th>\n",
       "      <th>recomended</th>\n",
       "    </tr>\n",
       "  </thead>\n",
       "  <tbody>\n",
       "    <tr>\n",
       "      <th>0</th>\n",
       "      <td>538975</td>\n",
       "      <td>2022-09-30 22:12:40</td>\n",
       "      <td>0</td>\n",
       "    </tr>\n",
       "    <tr>\n",
       "      <th>1</th>\n",
       "      <td>499683</td>\n",
       "      <td>2022-09-28 11:08:42</td>\n",
       "      <td>0</td>\n",
       "    </tr>\n",
       "    <tr>\n",
       "      <th>2</th>\n",
       "      <td>600915</td>\n",
       "      <td>2022-09-29 22:10:20</td>\n",
       "      <td>0</td>\n",
       "    </tr>\n",
       "    <tr>\n",
       "      <th>3</th>\n",
       "      <td>500082</td>\n",
       "      <td>2022-09-01 07:18:02</td>\n",
       "      <td>0</td>\n",
       "    </tr>\n",
       "    <tr>\n",
       "      <th>4</th>\n",
       "      <td>505971</td>\n",
       "      <td>2022-09-18 11:54:59</td>\n",
       "      <td>1</td>\n",
       "    </tr>\n",
       "    <tr>\n",
       "      <th>...</th>\n",
       "      <td>...</td>\n",
       "      <td>...</td>\n",
       "      <td>...</td>\n",
       "    </tr>\n",
       "    <tr>\n",
       "      <th>4589</th>\n",
       "      <td>625282</td>\n",
       "      <td>2022-10-28 06:57:24</td>\n",
       "      <td>0</td>\n",
       "    </tr>\n",
       "    <tr>\n",
       "      <th>4590</th>\n",
       "      <td>625271</td>\n",
       "      <td>2022-10-28 09:11:40</td>\n",
       "      <td>0</td>\n",
       "    </tr>\n",
       "    <tr>\n",
       "      <th>4591</th>\n",
       "      <td>625150</td>\n",
       "      <td>2022-10-28 03:13:42</td>\n",
       "      <td>0</td>\n",
       "    </tr>\n",
       "    <tr>\n",
       "      <th>4592</th>\n",
       "      <td>625146</td>\n",
       "      <td>2022-10-27 21:34:54</td>\n",
       "      <td>0</td>\n",
       "    </tr>\n",
       "    <tr>\n",
       "      <th>4593</th>\n",
       "      <td>624706</td>\n",
       "      <td>2022-11-11 18:08:41</td>\n",
       "      <td>0</td>\n",
       "    </tr>\n",
       "  </tbody>\n",
       "</table>\n",
       "<p>4594 rows × 3 columns</p>\n",
       "</div>"
      ],
      "text/plain": [
       "       lo_id        submitted_at  recomended\n",
       "0     538975 2022-09-30 22:12:40           0\n",
       "1     499683 2022-09-28 11:08:42           0\n",
       "2     600915 2022-09-29 22:10:20           0\n",
       "3     500082 2022-09-01 07:18:02           0\n",
       "4     505971 2022-09-18 11:54:59           1\n",
       "...      ...                 ...         ...\n",
       "4589  625282 2022-10-28 06:57:24           0\n",
       "4590  625271 2022-10-28 09:11:40           0\n",
       "4591  625150 2022-10-28 03:13:42           0\n",
       "4592  625146 2022-10-27 21:34:54           0\n",
       "4593  624706 2022-11-11 18:08:41           0\n",
       "\n",
       "[4594 rows x 3 columns]"
      ]
     },
     "execution_count": 228,
     "metadata": {},
     "output_type": "execute_result"
    }
   ],
   "source": [
    "claims[23] = pd.read_csv(\n",
    "    PATH + \"claims_recomend_2022_2023.csv\", parse_dates=[\"submitted_at\"]\n",
    ")\n",
    "claims[23] = claims[23].drop(columns=\"grade\")\n",
    "claims[23]"
   ]
  },
  {
   "cell_type": "markdown",
   "metadata": {},
   "source": [
    "Для прошлого года придется ее собрать по кусочкам"
   ]
  },
  {
   "cell_type": "code",
   "execution_count": 229,
   "metadata": {},
   "outputs": [
    {
     "data": {
      "text/html": [
       "<div>\n",
       "<style scoped>\n",
       "    .dataframe tbody tr th:only-of-type {\n",
       "        vertical-align: middle;\n",
       "    }\n",
       "\n",
       "    .dataframe tbody tr th {\n",
       "        vertical-align: top;\n",
       "    }\n",
       "\n",
       "    .dataframe thead th {\n",
       "        text-align: right;\n",
       "    }\n",
       "</style>\n",
       "<table border=\"1\" class=\"dataframe\">\n",
       "  <thead>\n",
       "    <tr style=\"text-align: right;\">\n",
       "      <th></th>\n",
       "      <th>crm_lead_id</th>\n",
       "      <th>recomended</th>\n",
       "    </tr>\n",
       "  </thead>\n",
       "  <tbody>\n",
       "    <tr>\n",
       "      <th>0</th>\n",
       "      <td>3907</td>\n",
       "      <td>0</td>\n",
       "    </tr>\n",
       "    <tr>\n",
       "      <th>1</th>\n",
       "      <td>3302</td>\n",
       "      <td>0</td>\n",
       "    </tr>\n",
       "    <tr>\n",
       "      <th>2</th>\n",
       "      <td>1158</td>\n",
       "      <td>0</td>\n",
       "    </tr>\n",
       "    <tr>\n",
       "      <th>3</th>\n",
       "      <td>3745</td>\n",
       "      <td>0</td>\n",
       "    </tr>\n",
       "    <tr>\n",
       "      <th>4</th>\n",
       "      <td>3617</td>\n",
       "      <td>0</td>\n",
       "    </tr>\n",
       "    <tr>\n",
       "      <th>...</th>\n",
       "      <td>...</td>\n",
       "      <td>...</td>\n",
       "    </tr>\n",
       "    <tr>\n",
       "      <th>6895</th>\n",
       "      <td>96622</td>\n",
       "      <td>0</td>\n",
       "    </tr>\n",
       "    <tr>\n",
       "      <th>6896</th>\n",
       "      <td>231901</td>\n",
       "      <td>0</td>\n",
       "    </tr>\n",
       "    <tr>\n",
       "      <th>6897</th>\n",
       "      <td>176019</td>\n",
       "      <td>0</td>\n",
       "    </tr>\n",
       "    <tr>\n",
       "      <th>6898</th>\n",
       "      <td>44837</td>\n",
       "      <td>0</td>\n",
       "    </tr>\n",
       "    <tr>\n",
       "      <th>6899</th>\n",
       "      <td>231913</td>\n",
       "      <td>0</td>\n",
       "    </tr>\n",
       "  </tbody>\n",
       "</table>\n",
       "<p>6900 rows × 2 columns</p>\n",
       "</div>"
      ],
      "text/plain": [
       "      crm_lead_id  recomended\n",
       "0            3907           0\n",
       "1            3302           0\n",
       "2            1158           0\n",
       "3            3745           0\n",
       "4            3617           0\n",
       "...           ...         ...\n",
       "6895        96622           0\n",
       "6896       231901           0\n",
       "6897       176019           0\n",
       "6898        44837           0\n",
       "6899       231913           0\n",
       "\n",
       "[6900 rows x 2 columns]"
      ]
     },
     "execution_count": 229,
     "metadata": {},
     "output_type": "execute_result"
    }
   ],
   "source": [
    "claims[22] = pd.read_csv(\"claims_2021_2022.csv\")\n",
    "claims[22]"
   ]
  },
  {
   "cell_type": "code",
   "execution_count": 230,
   "metadata": {},
   "outputs": [
    {
     "data": {
      "text/html": [
       "<div>\n",
       "<style scoped>\n",
       "    .dataframe tbody tr th:only-of-type {\n",
       "        vertical-align: middle;\n",
       "    }\n",
       "\n",
       "    .dataframe tbody tr th {\n",
       "        vertical-align: top;\n",
       "    }\n",
       "\n",
       "    .dataframe thead th {\n",
       "        text-align: right;\n",
       "    }\n",
       "</style>\n",
       "<table border=\"1\" class=\"dataframe\">\n",
       "  <thead>\n",
       "    <tr style=\"text-align: right;\">\n",
       "      <th></th>\n",
       "      <th>22</th>\n",
       "      <th>23</th>\n",
       "    </tr>\n",
       "  </thead>\n",
       "  <tbody>\n",
       "    <tr>\n",
       "      <th>Заявки</th>\n",
       "      <td>6900</td>\n",
       "      <td>4594</td>\n",
       "    </tr>\n",
       "    <tr>\n",
       "      <th>Рекомендовано</th>\n",
       "      <td>438</td>\n",
       "      <td>252</td>\n",
       "    </tr>\n",
       "  </tbody>\n",
       "</table>\n",
       "</div>"
      ],
      "text/plain": [
       "                 22    23\n",
       "Заявки         6900  4594\n",
       "Рекомендовано   438   252"
      ]
     },
     "execution_count": 230,
     "metadata": {},
     "output_type": "execute_result"
    }
   ],
   "source": [
    "recom_cnt = {}\n",
    "\n",
    "for i in YEARS:\n",
    "    recom_cnt[i] = (claims[i].shape[0], claims[i][\"recomended\"].sum())\n",
    "\n",
    "claim_cnt = pd.DataFrame(recom_cnt, index=[\"Заявки\", \"Рекомендовано\"])\n",
    "claim_cnt"
   ]
  },
  {
   "cell_type": "markdown",
   "metadata": {},
   "source": [
    "## <a id='toc3_3_'></a>[Transform](#toc0_)"
   ]
  },
  {
   "cell_type": "markdown",
   "metadata": {},
   "source": [
    "В этом разделе подготовим данные для моделирования в формате удобном для sklearn, т.е. `numpy.array`"
   ]
  },
  {
   "cell_type": "code",
   "execution_count": 231,
   "metadata": {},
   "outputs": [],
   "source": [
    "data = {}"
   ]
  },
  {
   "cell_type": "code",
   "execution_count": 232,
   "metadata": {},
   "outputs": [
    {
     "data": {
      "text/plain": [
       "(      first_attempt_avg_score  train_count_avg  final_score_avg  \\\n",
       " 0                    100.0000              0.0         100.0000   \n",
       " 1                         NaN              NaN              NaN   \n",
       " 2                     26.5000              0.0          26.5000   \n",
       " 3                     23.6667              8.0          90.3333   \n",
       " 4                     74.6667              2.0         100.0000   \n",
       " ...                       ...              ...              ...   \n",
       " 5154                   0.0000              0.0           0.0000   \n",
       " 5155                  41.0000              0.0          41.0000   \n",
       " 5156                   0.0000              0.0           0.0000   \n",
       " 5157                  44.3333              3.0          81.3333   \n",
       " 5158                   0.0000              0.0           0.0000   \n",
       " \n",
       "       train_count_80_avg  oz_done_count  oz_subject_count  oz_percent_avg  \\\n",
       " 0                 0.0000            1.0               1.0       33.333333   \n",
       " 1                    NaN            0.0               0.0        0.000000   \n",
       " 2                    NaN            NaN               NaN             NaN   \n",
       " 3                 4.0000            0.0               0.0        0.000000   \n",
       " 4                 0.6667           29.0               3.0       50.892857   \n",
       " ...                  ...            ...               ...             ...   \n",
       " 5154                 NaN            4.0               1.0       50.000000   \n",
       " 5155                 NaN            NaN               NaN             NaN   \n",
       " 5156                 NaN            1.0               1.0        7.692308   \n",
       " 5157              2.3333            NaN               NaN             NaN   \n",
       " 5158                 NaN            NaN               NaN             NaN   \n",
       " \n",
       "       course_start  course_50  olymp_start  week_first_login_this_year  \\\n",
       " 0              NaN        NaN          NaN                          19   \n",
       " 1              NaN        NaN          NaN                           1   \n",
       " 2              NaN        NaN          1.0                           1   \n",
       " 3              NaN        NaN          NaN                           2   \n",
       " 4              NaN        NaN          NaN                          21   \n",
       " ...            ...        ...          ...                         ...   \n",
       " 5154           NaN        NaN          NaN                          22   \n",
       " 5155           NaN        NaN          NaN                          23   \n",
       " 5156           NaN        NaN          NaN                          23   \n",
       " 5157           NaN        NaN          NaN                          24   \n",
       " 5158           NaN        NaN          NaN                          26   \n",
       " \n",
       "       wave_login_first  week_first_login_wave  grade  \n",
       " 0                    2                     17      7  \n",
       " 1                    2                     11      7  \n",
       " 2                    2                     16      8  \n",
       " 3                    2                      3      8  \n",
       " 4                    0                     21      6  \n",
       " ...                ...                    ...    ...  \n",
       " 5154                 0                     22      7  \n",
       " 5155                 0                     23      6  \n",
       " 5156                 0                     23      7  \n",
       " 5157                 0                     24      7  \n",
       " 5158                 0                     26      7  \n",
       " \n",
       " [5159 rows x 14 columns],\n",
       " 0       1\n",
       " 1       1\n",
       " 2       0\n",
       " 3       0\n",
       " 4       1\n",
       "        ..\n",
       " 5154    0\n",
       " 5155    0\n",
       " 5156    0\n",
       " 5157    0\n",
       " 5158    0\n",
       " Name: recomended, Length: 5159, dtype: int64)"
      ]
     },
     "execution_count": 232,
     "metadata": {},
     "output_type": "execute_result"
    }
   ],
   "source": [
    "data[22] = feat[22].merge(claims[22], on=\"crm_lead_id\")\n",
    "data[22] = data[22][feat_names], data[22][\"recomended\"]\n",
    "data[22]"
   ]
  },
  {
   "cell_type": "code",
   "execution_count": 233,
   "metadata": {},
   "outputs": [
    {
     "data": {
      "text/plain": [
       "(      first_attempt_avg_score  train_count_avg  final_score_avg  \\\n",
       " 0                     76.3333           1.6667          14.0000   \n",
       " 1                     52.5000           9.5000           4.5000   \n",
       " 2                     40.3333           0.6667           5.3333   \n",
       " 3                     22.0000           3.6667          17.0000   \n",
       " 4                     76.0000           6.6667          14.6667   \n",
       " ...                       ...              ...              ...   \n",
       " 3395                  46.0000           1.0000           5.0000   \n",
       " 3396                   0.0000           0.0000              NaN   \n",
       " 3397                  32.0000           0.3333           8.0000   \n",
       " 3398                   0.0000           0.0000              NaN   \n",
       " 3399                  21.0000           0.0000           3.0000   \n",
       " \n",
       "       train_count_80_avg  oz_done_count  oz_subject_count  oz_percent_avg  \\\n",
       " 0                 0.6667            NaN               NaN             NaN   \n",
       " 1                 0.0000            1.0               1.0      100.000000   \n",
       " 2                 0.0000            5.0               1.0       71.428571   \n",
       " 3                 6.0000            0.0               NaN        0.000000   \n",
       " 4                 1.3333           18.0               5.0       33.333333   \n",
       " ...                  ...            ...               ...             ...   \n",
       " 3395                 NaN            NaN               NaN             NaN   \n",
       " 3396                 NaN            0.0               NaN        0.000000   \n",
       " 3397                 NaN            NaN               NaN             NaN   \n",
       " 3398                 NaN            NaN               NaN             NaN   \n",
       " 3399                 NaN            5.0               2.0       50.000000   \n",
       " \n",
       "       course_start  course_50  olymp_start  week_first_login_this_year  \\\n",
       " 0              NaN        NaN          1.0                           0   \n",
       " 1              8.0        6.0          NaN                           0   \n",
       " 2              NaN        NaN          NaN                           0   \n",
       " 3              2.0        1.0          NaN                           0   \n",
       " 4              NaN        NaN          1.0                           0   \n",
       " ...            ...        ...          ...                         ...   \n",
       " 3395           NaN        NaN          NaN                          26   \n",
       " 3396           NaN        NaN          NaN                          26   \n",
       " 3397           NaN        NaN          NaN                          26   \n",
       " 3398           NaN        NaN          NaN                          26   \n",
       " 3399           NaN        NaN          NaN                          26   \n",
       " \n",
       "       wave_login_first  week_first_login_wave  grade  \n",
       " 0                    1                      2      6  \n",
       " 1                    2                     42      6  \n",
       " 2                    1                      4      7  \n",
       " 3                    1                     22      8  \n",
       " 4                    1                     23      6  \n",
       " ...                ...                    ...    ...  \n",
       " 3395                 0                     26      7  \n",
       " 3396                 0                     26      8  \n",
       " 3397                 0                     26      6  \n",
       " 3398                 0                     26      8  \n",
       " 3399                 0                     26      8  \n",
       " \n",
       " [3400 rows x 14 columns],\n",
       " 0       0\n",
       " 1       0\n",
       " 2       0\n",
       " 3       0\n",
       " 4       1\n",
       "        ..\n",
       " 3395    0\n",
       " 3396    0\n",
       " 3397    0\n",
       " 3398    0\n",
       " 3399    0\n",
       " Name: recomended, Length: 3400, dtype: int64)"
      ]
     },
     "execution_count": 233,
     "metadata": {},
     "output_type": "execute_result"
    }
   ],
   "source": [
    "data[23] = feat[23].merge(claims[23], on=\"lo_id\")\n",
    "data[23] = data[23][feat_names], data[23][\"recomended\"]\n",
    "data[23]"
   ]
  },
  {
   "cell_type": "markdown",
   "metadata": {},
   "source": [
    "Также попробуем объединить данные"
   ]
  },
  {
   "cell_type": "code",
   "execution_count": 239,
   "metadata": {},
   "outputs": [
    {
     "data": {
      "text/html": [
       "<div>\n",
       "<style scoped>\n",
       "    .dataframe tbody tr th:only-of-type {\n",
       "        vertical-align: middle;\n",
       "    }\n",
       "\n",
       "    .dataframe tbody tr th {\n",
       "        vertical-align: top;\n",
       "    }\n",
       "\n",
       "    .dataframe thead th {\n",
       "        text-align: right;\n",
       "    }\n",
       "</style>\n",
       "<table border=\"1\" class=\"dataframe\">\n",
       "  <thead>\n",
       "    <tr style=\"text-align: right;\">\n",
       "      <th></th>\n",
       "      <th>first_attempt_avg_score</th>\n",
       "      <th>train_count_avg</th>\n",
       "      <th>final_score_avg</th>\n",
       "      <th>train_count_80_avg</th>\n",
       "      <th>oz_done_count</th>\n",
       "      <th>oz_subject_count</th>\n",
       "      <th>oz_percent_avg</th>\n",
       "      <th>course_start</th>\n",
       "      <th>course_50</th>\n",
       "      <th>olymp_start</th>\n",
       "      <th>week_first_login_this_year</th>\n",
       "      <th>wave_login_first</th>\n",
       "      <th>week_first_login_wave</th>\n",
       "      <th>grade</th>\n",
       "    </tr>\n",
       "  </thead>\n",
       "  <tbody>\n",
       "    <tr>\n",
       "      <th>0</th>\n",
       "      <td>100.0000</td>\n",
       "      <td>0.0000</td>\n",
       "      <td>100.0000</td>\n",
       "      <td>0.0000</td>\n",
       "      <td>1.0</td>\n",
       "      <td>1.0</td>\n",
       "      <td>33.333333</td>\n",
       "      <td>NaN</td>\n",
       "      <td>NaN</td>\n",
       "      <td>NaN</td>\n",
       "      <td>19</td>\n",
       "      <td>2</td>\n",
       "      <td>17</td>\n",
       "      <td>7</td>\n",
       "    </tr>\n",
       "    <tr>\n",
       "      <th>1</th>\n",
       "      <td>NaN</td>\n",
       "      <td>NaN</td>\n",
       "      <td>NaN</td>\n",
       "      <td>NaN</td>\n",
       "      <td>0.0</td>\n",
       "      <td>0.0</td>\n",
       "      <td>0.000000</td>\n",
       "      <td>NaN</td>\n",
       "      <td>NaN</td>\n",
       "      <td>NaN</td>\n",
       "      <td>1</td>\n",
       "      <td>2</td>\n",
       "      <td>11</td>\n",
       "      <td>7</td>\n",
       "    </tr>\n",
       "    <tr>\n",
       "      <th>2</th>\n",
       "      <td>26.5000</td>\n",
       "      <td>0.0000</td>\n",
       "      <td>26.5000</td>\n",
       "      <td>NaN</td>\n",
       "      <td>NaN</td>\n",
       "      <td>NaN</td>\n",
       "      <td>NaN</td>\n",
       "      <td>NaN</td>\n",
       "      <td>NaN</td>\n",
       "      <td>1.0</td>\n",
       "      <td>1</td>\n",
       "      <td>2</td>\n",
       "      <td>16</td>\n",
       "      <td>8</td>\n",
       "    </tr>\n",
       "    <tr>\n",
       "      <th>3</th>\n",
       "      <td>23.6667</td>\n",
       "      <td>8.0000</td>\n",
       "      <td>90.3333</td>\n",
       "      <td>4.0000</td>\n",
       "      <td>0.0</td>\n",
       "      <td>0.0</td>\n",
       "      <td>0.000000</td>\n",
       "      <td>NaN</td>\n",
       "      <td>NaN</td>\n",
       "      <td>NaN</td>\n",
       "      <td>2</td>\n",
       "      <td>2</td>\n",
       "      <td>3</td>\n",
       "      <td>8</td>\n",
       "    </tr>\n",
       "    <tr>\n",
       "      <th>4</th>\n",
       "      <td>74.6667</td>\n",
       "      <td>2.0000</td>\n",
       "      <td>100.0000</td>\n",
       "      <td>0.6667</td>\n",
       "      <td>29.0</td>\n",
       "      <td>3.0</td>\n",
       "      <td>50.892857</td>\n",
       "      <td>NaN</td>\n",
       "      <td>NaN</td>\n",
       "      <td>NaN</td>\n",
       "      <td>21</td>\n",
       "      <td>0</td>\n",
       "      <td>21</td>\n",
       "      <td>6</td>\n",
       "    </tr>\n",
       "    <tr>\n",
       "      <th>...</th>\n",
       "      <td>...</td>\n",
       "      <td>...</td>\n",
       "      <td>...</td>\n",
       "      <td>...</td>\n",
       "      <td>...</td>\n",
       "      <td>...</td>\n",
       "      <td>...</td>\n",
       "      <td>...</td>\n",
       "      <td>...</td>\n",
       "      <td>...</td>\n",
       "      <td>...</td>\n",
       "      <td>...</td>\n",
       "      <td>...</td>\n",
       "      <td>...</td>\n",
       "    </tr>\n",
       "    <tr>\n",
       "      <th>3395</th>\n",
       "      <td>46.0000</td>\n",
       "      <td>1.0000</td>\n",
       "      <td>5.0000</td>\n",
       "      <td>NaN</td>\n",
       "      <td>NaN</td>\n",
       "      <td>NaN</td>\n",
       "      <td>NaN</td>\n",
       "      <td>NaN</td>\n",
       "      <td>NaN</td>\n",
       "      <td>NaN</td>\n",
       "      <td>26</td>\n",
       "      <td>0</td>\n",
       "      <td>26</td>\n",
       "      <td>7</td>\n",
       "    </tr>\n",
       "    <tr>\n",
       "      <th>3396</th>\n",
       "      <td>0.0000</td>\n",
       "      <td>0.0000</td>\n",
       "      <td>NaN</td>\n",
       "      <td>NaN</td>\n",
       "      <td>0.0</td>\n",
       "      <td>NaN</td>\n",
       "      <td>0.000000</td>\n",
       "      <td>NaN</td>\n",
       "      <td>NaN</td>\n",
       "      <td>NaN</td>\n",
       "      <td>26</td>\n",
       "      <td>0</td>\n",
       "      <td>26</td>\n",
       "      <td>8</td>\n",
       "    </tr>\n",
       "    <tr>\n",
       "      <th>3397</th>\n",
       "      <td>32.0000</td>\n",
       "      <td>0.3333</td>\n",
       "      <td>8.0000</td>\n",
       "      <td>NaN</td>\n",
       "      <td>NaN</td>\n",
       "      <td>NaN</td>\n",
       "      <td>NaN</td>\n",
       "      <td>NaN</td>\n",
       "      <td>NaN</td>\n",
       "      <td>NaN</td>\n",
       "      <td>26</td>\n",
       "      <td>0</td>\n",
       "      <td>26</td>\n",
       "      <td>6</td>\n",
       "    </tr>\n",
       "    <tr>\n",
       "      <th>3398</th>\n",
       "      <td>0.0000</td>\n",
       "      <td>0.0000</td>\n",
       "      <td>NaN</td>\n",
       "      <td>NaN</td>\n",
       "      <td>NaN</td>\n",
       "      <td>NaN</td>\n",
       "      <td>NaN</td>\n",
       "      <td>NaN</td>\n",
       "      <td>NaN</td>\n",
       "      <td>NaN</td>\n",
       "      <td>26</td>\n",
       "      <td>0</td>\n",
       "      <td>26</td>\n",
       "      <td>8</td>\n",
       "    </tr>\n",
       "    <tr>\n",
       "      <th>3399</th>\n",
       "      <td>21.0000</td>\n",
       "      <td>0.0000</td>\n",
       "      <td>3.0000</td>\n",
       "      <td>NaN</td>\n",
       "      <td>5.0</td>\n",
       "      <td>2.0</td>\n",
       "      <td>50.000000</td>\n",
       "      <td>NaN</td>\n",
       "      <td>NaN</td>\n",
       "      <td>NaN</td>\n",
       "      <td>26</td>\n",
       "      <td>0</td>\n",
       "      <td>26</td>\n",
       "      <td>8</td>\n",
       "    </tr>\n",
       "  </tbody>\n",
       "</table>\n",
       "<p>8559 rows × 14 columns</p>\n",
       "</div>"
      ],
      "text/plain": [
       "      first_attempt_avg_score  train_count_avg  final_score_avg  \\\n",
       "0                    100.0000           0.0000         100.0000   \n",
       "1                         NaN              NaN              NaN   \n",
       "2                     26.5000           0.0000          26.5000   \n",
       "3                     23.6667           8.0000          90.3333   \n",
       "4                     74.6667           2.0000         100.0000   \n",
       "...                       ...              ...              ...   \n",
       "3395                  46.0000           1.0000           5.0000   \n",
       "3396                   0.0000           0.0000              NaN   \n",
       "3397                  32.0000           0.3333           8.0000   \n",
       "3398                   0.0000           0.0000              NaN   \n",
       "3399                  21.0000           0.0000           3.0000   \n",
       "\n",
       "      train_count_80_avg  oz_done_count  oz_subject_count  oz_percent_avg  \\\n",
       "0                 0.0000            1.0               1.0       33.333333   \n",
       "1                    NaN            0.0               0.0        0.000000   \n",
       "2                    NaN            NaN               NaN             NaN   \n",
       "3                 4.0000            0.0               0.0        0.000000   \n",
       "4                 0.6667           29.0               3.0       50.892857   \n",
       "...                  ...            ...               ...             ...   \n",
       "3395                 NaN            NaN               NaN             NaN   \n",
       "3396                 NaN            0.0               NaN        0.000000   \n",
       "3397                 NaN            NaN               NaN             NaN   \n",
       "3398                 NaN            NaN               NaN             NaN   \n",
       "3399                 NaN            5.0               2.0       50.000000   \n",
       "\n",
       "      course_start  course_50  olymp_start  week_first_login_this_year  \\\n",
       "0              NaN        NaN          NaN                          19   \n",
       "1              NaN        NaN          NaN                           1   \n",
       "2              NaN        NaN          1.0                           1   \n",
       "3              NaN        NaN          NaN                           2   \n",
       "4              NaN        NaN          NaN                          21   \n",
       "...            ...        ...          ...                         ...   \n",
       "3395           NaN        NaN          NaN                          26   \n",
       "3396           NaN        NaN          NaN                          26   \n",
       "3397           NaN        NaN          NaN                          26   \n",
       "3398           NaN        NaN          NaN                          26   \n",
       "3399           NaN        NaN          NaN                          26   \n",
       "\n",
       "      wave_login_first  week_first_login_wave  grade  \n",
       "0                    2                     17      7  \n",
       "1                    2                     11      7  \n",
       "2                    2                     16      8  \n",
       "3                    2                      3      8  \n",
       "4                    0                     21      6  \n",
       "...                ...                    ...    ...  \n",
       "3395                 0                     26      7  \n",
       "3396                 0                     26      8  \n",
       "3397                 0                     26      6  \n",
       "3398                 0                     26      8  \n",
       "3399                 0                     26      8  \n",
       "\n",
       "[8559 rows x 14 columns]"
      ]
     },
     "execution_count": 239,
     "metadata": {},
     "output_type": "execute_result"
    }
   ],
   "source": [
    "pd.concat([data[22][0], data[23][0]], axis=0)"
   ]
  },
  {
   "cell_type": "code",
   "execution_count": 279,
   "metadata": {},
   "outputs": [
    {
     "data": {
      "text/plain": [
       "(      first_attempt_avg_score  train_count_avg  final_score_avg  \\\n",
       " 0                     26.3333              4.0          28.6667   \n",
       " 1                     72.0000              0.0           7.5000   \n",
       " 2                     40.0000              0.0          40.0000   \n",
       " 3                     83.6667              1.0          88.0000   \n",
       " 4                      0.0000              0.0              NaN   \n",
       " ...                       ...              ...              ...   \n",
       " 8554                  57.0000             26.0         100.0000   \n",
       " 8555                  41.6667              0.0          41.6667   \n",
       " 8556                  55.0000             10.0         100.0000   \n",
       " 8557                  54.6667              0.0          36.5000   \n",
       " 8558                  74.0000             10.0          14.0000   \n",
       " \n",
       "       train_count_80_avg  oz_done_count  oz_subject_count  oz_percent_avg  \\\n",
       " 0                    NaN            2.0               1.0       66.666667   \n",
       " 1                 0.0000           24.0               1.0       60.964912   \n",
       " 2                    NaN            NaN               NaN             NaN   \n",
       " 3                 0.3333            NaN               NaN             NaN   \n",
       " 4                    NaN            NaN               NaN             NaN   \n",
       " ...                  ...            ...               ...             ...   \n",
       " 8554              1.0000           50.0               5.0       53.191489   \n",
       " 8555                 NaN            0.0               0.0        0.000000   \n",
       " 8556              0.6667           17.0               2.0       37.777778   \n",
       " 8557                 NaN            NaN               NaN             NaN   \n",
       " 8558              1.0000            NaN               NaN             NaN   \n",
       " \n",
       "       course_start  course_50  olymp_start  week_first_login_this_year  \\\n",
       " 0              NaN        NaN          NaN                           2   \n",
       " 1              1.0        1.0          NaN                          18   \n",
       " 2              NaN        NaN          NaN                           6   \n",
       " 3              NaN        NaN          NaN                           1   \n",
       " 4              NaN        NaN          NaN                           2   \n",
       " ...            ...        ...          ...                         ...   \n",
       " 8554           2.0        1.0          NaN                           0   \n",
       " 8555           NaN        NaN          NaN                          21   \n",
       " 8556           NaN        NaN          NaN                           7   \n",
       " 8557           NaN        NaN          NaN                          23   \n",
       " 8558           1.0        1.0          NaN                           4   \n",
       " \n",
       "       wave_login_first  week_first_login_wave  grade  na_feature_cnt  \n",
       " 0                    1                     22      8             4.0  \n",
       " 1                    0                     18      8             NaN  \n",
       " 2                    0                      6      8             7.0  \n",
       " 3                    2                     22      6             6.0  \n",
       " 4                    1                     36      6             NaN  \n",
       " ...                ...                    ...    ...             ...  \n",
       " 8554                 1                      8      7             1.0  \n",
       " 8555                 0                     21      7             4.0  \n",
       " 8556                 1                     51      6             3.0  \n",
       " 8557                 0                     23      7             7.0  \n",
       " 8558                 0                      4      6             NaN  \n",
       " \n",
       " [8559 rows x 15 columns],\n",
       " 0       0\n",
       " 1       0\n",
       " 2       0\n",
       " 3       0\n",
       " 4       0\n",
       "        ..\n",
       " 8554    0\n",
       " 8555    0\n",
       " 8556    0\n",
       " 8557    0\n",
       " 8558    0\n",
       " Name: recomended, Length: 8559, dtype: int64)"
      ]
     },
     "execution_count": 279,
     "metadata": {},
     "output_type": "execute_result"
    }
   ],
   "source": [
    "data_all = pd.concat([data[22][0], data[23][0]], axis=0).reset_index(\n",
    "    drop=True\n",
    "), pd.concat([data[22][1], data[23][1]], axis=0).reset_index(drop=True)\n",
    "index = data_all[1].index.tolist()\n",
    "random.Random(24).shuffle(index)\n",
    "data_all = data_all[0].loc[index, :].reset_index(drop=True), data_all[1].loc[\n",
    "    index\n",
    "].reset_index(drop=True)\n",
    "data_all"
   ]
  },
  {
   "cell_type": "markdown",
   "metadata": {},
   "source": [
    "## <a id='toc3_4_'></a>[Preprocessing](#toc0_)"
   ]
  },
  {
   "cell_type": "markdown",
   "metadata": {},
   "source": [
    "### <a id='toc3_4_1_'></a>[Дополнительные признаки](#toc0_)"
   ]
  },
  {
   "cell_type": "code",
   "execution_count": 242,
   "metadata": {},
   "outputs": [
    {
     "data": {
      "text/html": [
       "<div>\n",
       "<style scoped>\n",
       "    .dataframe tbody tr th:only-of-type {\n",
       "        vertical-align: middle;\n",
       "    }\n",
       "\n",
       "    .dataframe tbody tr th {\n",
       "        vertical-align: top;\n",
       "    }\n",
       "\n",
       "    .dataframe thead th {\n",
       "        text-align: right;\n",
       "    }\n",
       "</style>\n",
       "<table border=\"1\" class=\"dataframe\">\n",
       "  <thead>\n",
       "    <tr style=\"text-align: right;\">\n",
       "      <th></th>\n",
       "      <th>first_attempt_avg_score</th>\n",
       "      <th>train_count_avg</th>\n",
       "      <th>final_score_avg</th>\n",
       "      <th>train_count_80_avg</th>\n",
       "      <th>oz_done_count</th>\n",
       "      <th>oz_subject_count</th>\n",
       "      <th>oz_percent_avg</th>\n",
       "      <th>course_start</th>\n",
       "      <th>course_50</th>\n",
       "      <th>olymp_start</th>\n",
       "      <th>week_first_login_this_year</th>\n",
       "      <th>wave_login_first</th>\n",
       "      <th>week_first_login_wave</th>\n",
       "      <th>grade</th>\n",
       "      <th>na_feature_cnt</th>\n",
       "    </tr>\n",
       "  </thead>\n",
       "  <tbody>\n",
       "    <tr>\n",
       "      <th>0</th>\n",
       "      <td>100.0000</td>\n",
       "      <td>0.0</td>\n",
       "      <td>100.0000</td>\n",
       "      <td>0.0000</td>\n",
       "      <td>1.0</td>\n",
       "      <td>1.0</td>\n",
       "      <td>33.333333</td>\n",
       "      <td>NaN</td>\n",
       "      <td>NaN</td>\n",
       "      <td>NaN</td>\n",
       "      <td>19</td>\n",
       "      <td>2</td>\n",
       "      <td>17</td>\n",
       "      <td>7</td>\n",
       "      <td>3</td>\n",
       "    </tr>\n",
       "    <tr>\n",
       "      <th>1</th>\n",
       "      <td>NaN</td>\n",
       "      <td>NaN</td>\n",
       "      <td>NaN</td>\n",
       "      <td>NaN</td>\n",
       "      <td>0.0</td>\n",
       "      <td>0.0</td>\n",
       "      <td>0.000000</td>\n",
       "      <td>NaN</td>\n",
       "      <td>NaN</td>\n",
       "      <td>NaN</td>\n",
       "      <td>1</td>\n",
       "      <td>2</td>\n",
       "      <td>11</td>\n",
       "      <td>7</td>\n",
       "      <td>7</td>\n",
       "    </tr>\n",
       "    <tr>\n",
       "      <th>2</th>\n",
       "      <td>26.5000</td>\n",
       "      <td>0.0</td>\n",
       "      <td>26.5000</td>\n",
       "      <td>NaN</td>\n",
       "      <td>NaN</td>\n",
       "      <td>NaN</td>\n",
       "      <td>NaN</td>\n",
       "      <td>NaN</td>\n",
       "      <td>NaN</td>\n",
       "      <td>1.0</td>\n",
       "      <td>1</td>\n",
       "      <td>2</td>\n",
       "      <td>16</td>\n",
       "      <td>8</td>\n",
       "      <td>6</td>\n",
       "    </tr>\n",
       "    <tr>\n",
       "      <th>3</th>\n",
       "      <td>23.6667</td>\n",
       "      <td>8.0</td>\n",
       "      <td>90.3333</td>\n",
       "      <td>4.0000</td>\n",
       "      <td>0.0</td>\n",
       "      <td>0.0</td>\n",
       "      <td>0.000000</td>\n",
       "      <td>NaN</td>\n",
       "      <td>NaN</td>\n",
       "      <td>NaN</td>\n",
       "      <td>2</td>\n",
       "      <td>2</td>\n",
       "      <td>3</td>\n",
       "      <td>8</td>\n",
       "      <td>3</td>\n",
       "    </tr>\n",
       "    <tr>\n",
       "      <th>4</th>\n",
       "      <td>74.6667</td>\n",
       "      <td>2.0</td>\n",
       "      <td>100.0000</td>\n",
       "      <td>0.6667</td>\n",
       "      <td>29.0</td>\n",
       "      <td>3.0</td>\n",
       "      <td>50.892857</td>\n",
       "      <td>NaN</td>\n",
       "      <td>NaN</td>\n",
       "      <td>NaN</td>\n",
       "      <td>21</td>\n",
       "      <td>0</td>\n",
       "      <td>21</td>\n",
       "      <td>6</td>\n",
       "      <td>3</td>\n",
       "    </tr>\n",
       "  </tbody>\n",
       "</table>\n",
       "</div>"
      ],
      "text/plain": [
       "   first_attempt_avg_score  train_count_avg  final_score_avg  \\\n",
       "0                 100.0000              0.0         100.0000   \n",
       "1                      NaN              NaN              NaN   \n",
       "2                  26.5000              0.0          26.5000   \n",
       "3                  23.6667              8.0          90.3333   \n",
       "4                  74.6667              2.0         100.0000   \n",
       "\n",
       "   train_count_80_avg  oz_done_count  oz_subject_count  oz_percent_avg  \\\n",
       "0              0.0000            1.0               1.0       33.333333   \n",
       "1                 NaN            0.0               0.0        0.000000   \n",
       "2                 NaN            NaN               NaN             NaN   \n",
       "3              4.0000            0.0               0.0        0.000000   \n",
       "4              0.6667           29.0               3.0       50.892857   \n",
       "\n",
       "   course_start  course_50  olymp_start  week_first_login_this_year  \\\n",
       "0           NaN        NaN          NaN                          19   \n",
       "1           NaN        NaN          NaN                           1   \n",
       "2           NaN        NaN          1.0                           1   \n",
       "3           NaN        NaN          NaN                           2   \n",
       "4           NaN        NaN          NaN                          21   \n",
       "\n",
       "   wave_login_first  week_first_login_wave  grade  na_feature_cnt  \n",
       "0                 2                     17      7               3  \n",
       "1                 2                     11      7               7  \n",
       "2                 2                     16      8               6  \n",
       "3                 2                      3      8               3  \n",
       "4                 0                     21      6               3  "
      ]
     },
     "execution_count": 242,
     "metadata": {},
     "output_type": "execute_result"
    }
   ],
   "source": [
    "def count_na_features(df):\n",
    "    \"Counts na features in each row\"\n",
    "    df[\"na_feature_cnt\"] = df.isna().sum(axis=1)\n",
    "    return df\n",
    "\n",
    "\n",
    "count_na_features(data[22][0]).head()"
   ]
  },
  {
   "cell_type": "code",
   "execution_count": 243,
   "metadata": {},
   "outputs": [],
   "source": [
    "feature_maker = FunctionTransformer(count_na_features)"
   ]
  },
  {
   "cell_type": "code",
   "execution_count": 244,
   "metadata": {},
   "outputs": [],
   "source": [
    "feat_names.append(\"na_feature_cnt\")\n",
    "ru_dict[\"na_feature_cnt\"] = \"Кол-во отсутствующих признаков\""
   ]
  },
  {
   "cell_type": "markdown",
   "metadata": {},
   "source": [
    "### <a id='toc3_4_2_'></a>[Заполнение пропусков (imputer)](#toc0_)"
   ]
  },
  {
   "cell_type": "markdown",
   "metadata": {},
   "source": [
    "В этом подразделе разберемся с пропущенными данными:"
   ]
  },
  {
   "cell_type": "code",
   "execution_count": 442,
   "metadata": {},
   "outputs": [
    {
     "data": {
      "text/plain": [
       "['first_attempt_avg_score',\n",
       " 'train_count_avg',\n",
       " 'final_score_avg',\n",
       " 'train_count_80_avg',\n",
       " 'oz_done_count',\n",
       " 'oz_subject_count',\n",
       " 'oz_percent_avg',\n",
       " 'course_start',\n",
       " 'course_50',\n",
       " 'olymp_start',\n",
       " 'week_first_login_this_year',\n",
       " 'wave_login_first',\n",
       " 'week_first_login_wave',\n",
       " 'grade']"
      ]
     },
     "execution_count": 442,
     "metadata": {},
     "output_type": "execute_result"
    }
   ],
   "source": [
    "feat_names"
   ]
  },
  {
   "cell_type": "code",
   "execution_count": 245,
   "metadata": {},
   "outputs": [],
   "source": [
    "# fill_with_999 = ['train_count_avg', 'train_count_80_avg']\n",
    "\n",
    "fill_missing = ColumnTransformer(\n",
    "    [\n",
    "        # тренировочные попытки заполняем 999\n",
    "        (\n",
    "            \"fill_missing\",\n",
    "            SimpleImputer(strategy=\"constant\", fill_value=999),\n",
    "            make_column_selector(pattern=\"train\"),\n",
    "        )\n",
    "    ],\n",
    "    # остальные значения заполняем -1\n",
    "    remainder=SimpleImputer(strategy=\"constant\", fill_value=-1),\n",
    "    # не меняем названия признаков\n",
    "    verbose_feature_names_out=False,\n",
    ")"
   ]
  },
  {
   "cell_type": "markdown",
   "metadata": {},
   "source": [
    "### <a id='toc3_4_3_'></a>[Поменяем тип для категорной переменной `grade`](#toc0_)"
   ]
  },
  {
   "cell_type": "code",
   "execution_count": 246,
   "metadata": {},
   "outputs": [],
   "source": [
    "def change_type(df):\n",
    "    try:\n",
    "        df[\"grade\"] = df[\"grade\"].astype(\"int\")\n",
    "    except:\n",
    "        return df\n",
    "    return df\n",
    "\n",
    "\n",
    "change_type_transformer = FunctionTransformer(change_type)"
   ]
  },
  {
   "cell_type": "code",
   "execution_count": 247,
   "metadata": {},
   "outputs": [
    {
     "name": "stdout",
     "output_type": "stream",
     "text": [
      "train_count_avg               0\n",
      "train_count_80_avg            0\n",
      "first_attempt_avg_score       0\n",
      "final_score_avg               0\n",
      "oz_done_count                 0\n",
      "oz_subject_count              0\n",
      "oz_percent_avg                0\n",
      "course_start                  0\n",
      "course_50                     0\n",
      "olymp_start                   0\n",
      "week_first_login_this_year    0\n",
      "wave_login_first              0\n",
      "week_first_login_wave         0\n",
      "grade                         0\n",
      "na_feature_cnt                0\n",
      "dtype: int64\n",
      "<class 'pandas.core.frame.DataFrame'>\n",
      "RangeIndex: 5159 entries, 0 to 5158\n",
      "Data columns (total 15 columns):\n",
      " #   Column                      Non-Null Count  Dtype  \n",
      "---  ------                      --------------  -----  \n",
      " 0   train_count_avg             5159 non-null   float64\n",
      " 1   train_count_80_avg          5159 non-null   float64\n",
      " 2   first_attempt_avg_score     5159 non-null   float64\n",
      " 3   final_score_avg             5159 non-null   float64\n",
      " 4   oz_done_count               5159 non-null   float64\n",
      " 5   oz_subject_count            5159 non-null   float64\n",
      " 6   oz_percent_avg              5159 non-null   float64\n",
      " 7   course_start                5159 non-null   float64\n",
      " 8   course_50                   5159 non-null   float64\n",
      " 9   olymp_start                 5159 non-null   float64\n",
      " 10  week_first_login_this_year  5159 non-null   float64\n",
      " 11  wave_login_first            5159 non-null   float64\n",
      " 12  week_first_login_wave       5159 non-null   float64\n",
      " 13  grade                       5159 non-null   int32  \n",
      " 14  na_feature_cnt              5159 non-null   float64\n",
      "dtypes: float64(14), int32(1)\n",
      "memory usage: 584.5 KB\n",
      "None\n"
     ]
    },
    {
     "data": {
      "text/html": [
       "<div>\n",
       "<style scoped>\n",
       "    .dataframe tbody tr th:only-of-type {\n",
       "        vertical-align: middle;\n",
       "    }\n",
       "\n",
       "    .dataframe tbody tr th {\n",
       "        vertical-align: top;\n",
       "    }\n",
       "\n",
       "    .dataframe thead th {\n",
       "        text-align: right;\n",
       "    }\n",
       "</style>\n",
       "<table border=\"1\" class=\"dataframe\">\n",
       "  <thead>\n",
       "    <tr style=\"text-align: right;\">\n",
       "      <th></th>\n",
       "      <th>train_count_avg</th>\n",
       "      <th>train_count_80_avg</th>\n",
       "      <th>first_attempt_avg_score</th>\n",
       "      <th>final_score_avg</th>\n",
       "      <th>oz_done_count</th>\n",
       "      <th>oz_subject_count</th>\n",
       "      <th>oz_percent_avg</th>\n",
       "      <th>course_start</th>\n",
       "      <th>course_50</th>\n",
       "      <th>olymp_start</th>\n",
       "      <th>week_first_login_this_year</th>\n",
       "      <th>wave_login_first</th>\n",
       "      <th>week_first_login_wave</th>\n",
       "      <th>grade</th>\n",
       "      <th>na_feature_cnt</th>\n",
       "    </tr>\n",
       "  </thead>\n",
       "  <tbody>\n",
       "    <tr>\n",
       "      <th>0</th>\n",
       "      <td>0.0</td>\n",
       "      <td>0.0000</td>\n",
       "      <td>100.0000</td>\n",
       "      <td>100.0000</td>\n",
       "      <td>1.0</td>\n",
       "      <td>1.0</td>\n",
       "      <td>33.333333</td>\n",
       "      <td>-1.0</td>\n",
       "      <td>-1.0</td>\n",
       "      <td>-1.0</td>\n",
       "      <td>19.0</td>\n",
       "      <td>2.0</td>\n",
       "      <td>17.0</td>\n",
       "      <td>7</td>\n",
       "      <td>3.0</td>\n",
       "    </tr>\n",
       "    <tr>\n",
       "      <th>1</th>\n",
       "      <td>999.0</td>\n",
       "      <td>999.0000</td>\n",
       "      <td>-1.0000</td>\n",
       "      <td>-1.0000</td>\n",
       "      <td>0.0</td>\n",
       "      <td>0.0</td>\n",
       "      <td>0.000000</td>\n",
       "      <td>-1.0</td>\n",
       "      <td>-1.0</td>\n",
       "      <td>-1.0</td>\n",
       "      <td>1.0</td>\n",
       "      <td>2.0</td>\n",
       "      <td>11.0</td>\n",
       "      <td>7</td>\n",
       "      <td>7.0</td>\n",
       "    </tr>\n",
       "    <tr>\n",
       "      <th>2</th>\n",
       "      <td>0.0</td>\n",
       "      <td>999.0000</td>\n",
       "      <td>26.5000</td>\n",
       "      <td>26.5000</td>\n",
       "      <td>-1.0</td>\n",
       "      <td>-1.0</td>\n",
       "      <td>-1.000000</td>\n",
       "      <td>-1.0</td>\n",
       "      <td>-1.0</td>\n",
       "      <td>1.0</td>\n",
       "      <td>1.0</td>\n",
       "      <td>2.0</td>\n",
       "      <td>16.0</td>\n",
       "      <td>8</td>\n",
       "      <td>6.0</td>\n",
       "    </tr>\n",
       "    <tr>\n",
       "      <th>3</th>\n",
       "      <td>8.0</td>\n",
       "      <td>4.0000</td>\n",
       "      <td>23.6667</td>\n",
       "      <td>90.3333</td>\n",
       "      <td>0.0</td>\n",
       "      <td>0.0</td>\n",
       "      <td>0.000000</td>\n",
       "      <td>-1.0</td>\n",
       "      <td>-1.0</td>\n",
       "      <td>-1.0</td>\n",
       "      <td>2.0</td>\n",
       "      <td>2.0</td>\n",
       "      <td>3.0</td>\n",
       "      <td>8</td>\n",
       "      <td>3.0</td>\n",
       "    </tr>\n",
       "    <tr>\n",
       "      <th>4</th>\n",
       "      <td>2.0</td>\n",
       "      <td>0.6667</td>\n",
       "      <td>74.6667</td>\n",
       "      <td>100.0000</td>\n",
       "      <td>29.0</td>\n",
       "      <td>3.0</td>\n",
       "      <td>50.892857</td>\n",
       "      <td>-1.0</td>\n",
       "      <td>-1.0</td>\n",
       "      <td>-1.0</td>\n",
       "      <td>21.0</td>\n",
       "      <td>0.0</td>\n",
       "      <td>21.0</td>\n",
       "      <td>6</td>\n",
       "      <td>3.0</td>\n",
       "    </tr>\n",
       "  </tbody>\n",
       "</table>\n",
       "</div>"
      ],
      "text/plain": [
       "   train_count_avg  train_count_80_avg  first_attempt_avg_score  \\\n",
       "0              0.0              0.0000                 100.0000   \n",
       "1            999.0            999.0000                  -1.0000   \n",
       "2              0.0            999.0000                  26.5000   \n",
       "3              8.0              4.0000                  23.6667   \n",
       "4              2.0              0.6667                  74.6667   \n",
       "\n",
       "   final_score_avg  oz_done_count  oz_subject_count  oz_percent_avg  \\\n",
       "0         100.0000            1.0               1.0       33.333333   \n",
       "1          -1.0000            0.0               0.0        0.000000   \n",
       "2          26.5000           -1.0              -1.0       -1.000000   \n",
       "3          90.3333            0.0               0.0        0.000000   \n",
       "4         100.0000           29.0               3.0       50.892857   \n",
       "\n",
       "   course_start  course_50  olymp_start  week_first_login_this_year  \\\n",
       "0          -1.0       -1.0         -1.0                        19.0   \n",
       "1          -1.0       -1.0         -1.0                         1.0   \n",
       "2          -1.0       -1.0          1.0                         1.0   \n",
       "3          -1.0       -1.0         -1.0                         2.0   \n",
       "4          -1.0       -1.0         -1.0                        21.0   \n",
       "\n",
       "   wave_login_first  week_first_login_wave  grade  na_feature_cnt  \n",
       "0               2.0                   17.0      7             3.0  \n",
       "1               2.0                   11.0      7             7.0  \n",
       "2               2.0                   16.0      8             6.0  \n",
       "3               2.0                    3.0      8             3.0  \n",
       "4               0.0                   21.0      6             3.0  "
      ]
     },
     "execution_count": 247,
     "metadata": {},
     "output_type": "execute_result"
    }
   ],
   "source": [
    "X, y = data[22]\n",
    "preprocessor = Pipeline(\n",
    "    steps=[\n",
    "        (\"na_count\", feature_maker),\n",
    "        (\"imputer\", fill_missing),\n",
    "        (\"type_change\", change_type_transformer)\n",
    "        # ('feature_selection', SelectFromModel(CatBoostClassifier(n_estimators=500, random_state=0, cat_features=['grade'], verbose=False), threshold='0.5*median')),\n",
    "    ]\n",
    ").set_output(transform=\"pandas\")\n",
    "\n",
    "X = preprocessor.fit_transform(X, y)\n",
    "print(np.isnan(X).sum())\n",
    "print(X.info())\n",
    "X[:5]"
   ]
  },
  {
   "cell_type": "markdown",
   "metadata": {},
   "source": [
    "## <a id='toc3_5_'></a>[Model](#toc0_)"
   ]
  },
  {
   "attachments": {},
   "cell_type": "markdown",
   "metadata": {},
   "source": [
    "Кастомизируем стандартный catboost, чтобы после скоринга метод `predict` возвращал топ 10%, как успех. "
   ]
  },
  {
   "cell_type": "code",
   "execution_count": 248,
   "metadata": {},
   "outputs": [
    {
     "data": {
      "text/plain": [
       "array([0.  , 0.05, 0.1 , 0.15, 0.2 , 0.25, 0.3 , 0.35, 0.4 , 0.45, 0.5 ,\n",
       "       0.55, 0.6 , 0.65, 0.7 , 0.75, 0.8 , 0.85, 0.9 , 0.95])"
      ]
     },
     "metadata": {},
     "output_type": "display_data"
    },
    {
     "data": {
      "text/plain": [
       "array([0., 0., 0., 0., 0., 0., 0., 0., 0., 0., 0., 0., 0., 0., 0., 0., 0.,\n",
       "       0., 1., 1.])"
      ]
     },
     "execution_count": 248,
     "metadata": {},
     "output_type": "execute_result"
    }
   ],
   "source": [
    "def predict_with_cutoff(y_prob, percent=10, return_threshold=False):\n",
    "    # print(event_rate)\n",
    "    size = int(round(y_prob.shape[0] * percent / 100, 0))\n",
    "    indxs = np.argpartition(y_prob, -size)[-size:]\n",
    "\n",
    "    # print (\"Cutoff/threshold at: \" + str(threshold))\n",
    "    # print(y_prob[np.min(indxs)])\n",
    "    y_pred = np.zeros(y_prob.shape)\n",
    "    y_pred[indxs] = 1\n",
    "\n",
    "    if return_threshold:\n",
    "        threshold = np.min(y_prob[indxs])\n",
    "\n",
    "        return y_pred, threshold\n",
    "\n",
    "    return y_pred\n",
    "\n",
    "\n",
    "y_prob = np.arange(20) / 20\n",
    "display(y_prob)\n",
    "predict_with_cutoff(y_prob, 10)"
   ]
  },
  {
   "cell_type": "code",
   "execution_count": 249,
   "metadata": {},
   "outputs": [
    {
     "data": {
      "text/plain": [
       "(array([0., 0., 0., 0., 0., 0., 0., 0., 0., 0., 0., 0., 0., 0., 0., 0., 0.,\n",
       "        0., 1., 1.]),\n",
       " 0.9)"
      ]
     },
     "execution_count": 249,
     "metadata": {},
     "output_type": "execute_result"
    }
   ],
   "source": [
    "predict_with_cutoff(y_prob, 10, True)"
   ]
  },
  {
   "cell_type": "code",
   "execution_count": 250,
   "metadata": {},
   "outputs": [],
   "source": [
    "class MyCatboostClassifier(CatBoostClassifier):\n",
    "    def predict(self, X, percent=10, **kwargs):\n",
    "        result = super(MyCatboostClassifier, self).predict_proba(X, **kwargs)[:, 1]\n",
    "        predictions = predict_with_cutoff(result, percent)\n",
    "        return predictions"
   ]
  },
  {
   "cell_type": "code",
   "execution_count": 258,
   "metadata": {},
   "outputs": [],
   "source": [
    "def cv_model(\n",
    "    model, X, y, scoring=[\"precision\", \"recall\", \"f1\"], cv=3, feat_names=feat_names\n",
    "):\n",
    "    cv_result = cross_validate(\n",
    "        model, X, y, cv=cv, scoring=scoring, return_estimator=True, n_jobs=-1\n",
    "    )\n",
    "\n",
    "    scores_dict = {}\n",
    "    for scorer in scoring:\n",
    "        scores_dict[scorer] = cv_result[\"test_\" + scorer]\n",
    "\n",
    "    cv_result_df = pd.DataFrame(scores_dict)\n",
    "    cv_result_df = cv_result_df.apply([\"mean\", \"std\"], axis=0).round(2)\n",
    "    print(\"Test scores:\")\n",
    "    display(cv_result_df)\n",
    "\n",
    "    feat_importance_dict = {}\n",
    "    for idx, estimator in enumerate(cv_result[\"estimator\"]):\n",
    "        try:\n",
    "            feat_importance_dict[idx] = estimator[1].feature_importances_\n",
    "        except:\n",
    "            feat_importance_dict[idx] = estimator.feature_importances_\n",
    "\n",
    "    feat_importance = (\n",
    "        pd.DataFrame(\n",
    "            feat_importance_dict,\n",
    "            index=[ru_dict[key] for key in feat_names if key in ru_dict],\n",
    "        )\n",
    "        .apply([\"mean\", \"std\"], axis=1)\n",
    "        .sort_values(\"mean\", ascending=False)\n",
    "        .round(2)\n",
    "    )\n",
    "    print(\"Feature importances:\")\n",
    "    display(feat_importance)\n",
    "\n",
    "    return cv_result"
   ]
  },
  {
   "cell_type": "markdown",
   "metadata": {},
   "source": [
    "## <a id='toc3_6_'></a>[Baseline](#toc0_)"
   ]
  },
  {
   "attachments": {},
   "cell_type": "markdown",
   "metadata": {},
   "source": [
    "Получим базовое значений метрик recall, precision от которого сможем отталкиваться"
   ]
  },
  {
   "cell_type": "markdown",
   "metadata": {},
   "source": [
    "### <a id='toc3_6_1_'></a>[2021-2022](#toc0_)"
   ]
  },
  {
   "cell_type": "code",
   "execution_count": 134,
   "metadata": {},
   "outputs": [],
   "source": [
    "X, y = data[22]"
   ]
  },
  {
   "cell_type": "code",
   "execution_count": 208,
   "metadata": {},
   "outputs": [
    {
     "name": "stdout",
     "output_type": "stream",
     "text": [
      "Test scores:\n"
     ]
    },
    {
     "data": {
      "text/html": [
       "<div>\n",
       "<style scoped>\n",
       "    .dataframe tbody tr th:only-of-type {\n",
       "        vertical-align: middle;\n",
       "    }\n",
       "\n",
       "    .dataframe tbody tr th {\n",
       "        vertical-align: top;\n",
       "    }\n",
       "\n",
       "    .dataframe thead th {\n",
       "        text-align: right;\n",
       "    }\n",
       "</style>\n",
       "<table border=\"1\" class=\"dataframe\">\n",
       "  <thead>\n",
       "    <tr style=\"text-align: right;\">\n",
       "      <th></th>\n",
       "      <th>precision</th>\n",
       "      <th>recall</th>\n",
       "      <th>f1</th>\n",
       "    </tr>\n",
       "  </thead>\n",
       "  <tbody>\n",
       "    <tr>\n",
       "      <th>mean</th>\n",
       "      <td>0.30</td>\n",
       "      <td>0.36</td>\n",
       "      <td>0.33</td>\n",
       "    </tr>\n",
       "    <tr>\n",
       "      <th>std</th>\n",
       "      <td>0.03</td>\n",
       "      <td>0.04</td>\n",
       "      <td>0.03</td>\n",
       "    </tr>\n",
       "  </tbody>\n",
       "</table>\n",
       "</div>"
      ],
      "text/plain": [
       "      precision  recall    f1\n",
       "mean       0.30    0.36  0.33\n",
       "std        0.03    0.04  0.03"
      ]
     },
     "metadata": {},
     "output_type": "display_data"
    },
    {
     "name": "stdout",
     "output_type": "stream",
     "text": [
      "Feature importances:\n"
     ]
    },
    {
     "data": {
      "text/html": [
       "<div>\n",
       "<style scoped>\n",
       "    .dataframe tbody tr th:only-of-type {\n",
       "        vertical-align: middle;\n",
       "    }\n",
       "\n",
       "    .dataframe tbody tr th {\n",
       "        vertical-align: top;\n",
       "    }\n",
       "\n",
       "    .dataframe thead th {\n",
       "        text-align: right;\n",
       "    }\n",
       "</style>\n",
       "<table border=\"1\" class=\"dataframe\">\n",
       "  <thead>\n",
       "    <tr style=\"text-align: right;\">\n",
       "      <th></th>\n",
       "      <th>mean</th>\n",
       "      <th>std</th>\n",
       "    </tr>\n",
       "  </thead>\n",
       "  <tbody>\n",
       "    <tr>\n",
       "      <th>Финальный результат, %, сред.</th>\n",
       "      <td>12.91</td>\n",
       "      <td>0.50</td>\n",
       "    </tr>\n",
       "    <tr>\n",
       "      <th>Класс</th>\n",
       "      <td>11.88</td>\n",
       "      <td>0.87</td>\n",
       "    </tr>\n",
       "    <tr>\n",
       "      <th>Кол-во тренировок, сред.</th>\n",
       "      <td>11.63</td>\n",
       "      <td>2.02</td>\n",
       "    </tr>\n",
       "    <tr>\n",
       "      <th>Кол-во тренировок до 80%, сред.</th>\n",
       "      <td>11.52</td>\n",
       "      <td>1.08</td>\n",
       "    </tr>\n",
       "    <tr>\n",
       "      <th>Неделя первого логина в тек. уч. году</th>\n",
       "      <td>11.50</td>\n",
       "      <td>2.88</td>\n",
       "    </tr>\n",
       "    <tr>\n",
       "      <th>Неделя первого логина</th>\n",
       "      <td>8.72</td>\n",
       "      <td>0.92</td>\n",
       "    </tr>\n",
       "    <tr>\n",
       "      <th>Средний результат ОЗ, %</th>\n",
       "      <td>7.42</td>\n",
       "      <td>0.85</td>\n",
       "    </tr>\n",
       "    <tr>\n",
       "      <th>Результат нач. попытки, %, сред.</th>\n",
       "      <td>6.37</td>\n",
       "      <td>1.02</td>\n",
       "    </tr>\n",
       "    <tr>\n",
       "      <th>Уч. год первого логина</th>\n",
       "      <td>5.75</td>\n",
       "      <td>0.91</td>\n",
       "    </tr>\n",
       "    <tr>\n",
       "      <th>Кол-во решенных ОЗ</th>\n",
       "      <td>5.47</td>\n",
       "      <td>0.43</td>\n",
       "    </tr>\n",
       "    <tr>\n",
       "      <th>Кол-во предметов в ОЗ</th>\n",
       "      <td>4.54</td>\n",
       "      <td>0.53</td>\n",
       "    </tr>\n",
       "    <tr>\n",
       "      <th>Кол-во начатых курсов</th>\n",
       "      <td>1.06</td>\n",
       "      <td>0.07</td>\n",
       "    </tr>\n",
       "    <tr>\n",
       "      <th>Кол-во начатых олимп.</th>\n",
       "      <td>0.89</td>\n",
       "      <td>0.38</td>\n",
       "    </tr>\n",
       "    <tr>\n",
       "      <th>Кол-во курсов, пройденных хотя бы на половину</th>\n",
       "      <td>0.33</td>\n",
       "      <td>0.03</td>\n",
       "    </tr>\n",
       "    <tr>\n",
       "      <th>Кол-во отсутствующих признаков</th>\n",
       "      <td>0.00</td>\n",
       "      <td>0.00</td>\n",
       "    </tr>\n",
       "  </tbody>\n",
       "</table>\n",
       "</div>"
      ],
      "text/plain": [
       "                                                mean   std\n",
       "Финальный результат, %, сред.                  12.91  0.50\n",
       "Класс                                          11.88  0.87\n",
       "Кол-во тренировок, сред.                       11.63  2.02\n",
       "Кол-во тренировок до 80%, сред.                11.52  1.08\n",
       "Неделя первого логина в тек. уч. году          11.50  2.88\n",
       "Неделя первого логина                           8.72  0.92\n",
       "Средний результат ОЗ, %                         7.42  0.85\n",
       "Результат нач. попытки, %, сред.                6.37  1.02\n",
       "Уч. год первого логина                          5.75  0.91\n",
       "Кол-во решенных ОЗ                              5.47  0.43\n",
       "Кол-во предметов в ОЗ                           4.54  0.53\n",
       "Кол-во начатых курсов                           1.06  0.07\n",
       "Кол-во начатых олимп.                           0.89  0.38\n",
       "Кол-во курсов, пройденных хотя бы на половину   0.33  0.03\n",
       "Кол-во отсутствующих признаков                  0.00  0.00"
      ]
     },
     "metadata": {},
     "output_type": "display_data"
    }
   ],
   "source": [
    "cat_features = [\"grade\"]\n",
    "\n",
    "params = {\n",
    "    \"eval_metric\": \"Recall\",\n",
    "    \"cat_features\": cat_features,\n",
    "    \"verbose\": False,\n",
    "    \"random_state\": 0,\n",
    "}\n",
    "\n",
    "cbc = MyCatboostClassifier(**params)\n",
    "pipe = Pipeline(steps=[(\"preprocessor\", preprocessor), (\"catboost\", cbc)])\n",
    "\n",
    "cv_result = cv_model(pipe, X, y)\n",
    "\n",
    "# baseline_scores = cross_val_score(pipe, X, y, scoring=\"recall\", cv=3, n_jobs=-1)\n",
    "# print(f\"Базовый Recall = {baseline_scores.mean():.2%} +- {baseline_scores.std():.2%}\")"
   ]
  },
  {
   "cell_type": "markdown",
   "metadata": {},
   "source": [
    "Мы видим, что наиболее ценными оказались тесты, особенно __финальный результат__, а также __кол-во тренировок. Это было ожидаемо, ведь большинство рекомендованных решили 3 теста хотя бы на 80%. \n",
    "\n",
    "__Класс__ - также понятный признак, поскольку результаты довольно сильно разнятся от класса к классу.\n",
    "\n",
    "__Неделя первого логина в текущем году__ - более неожиданный признак, видимо большниство рекомендованных логинилось в начале года.\n",
    "\n",
    "Олимпиадные задания также дают немалый вклад в предсказание, а вот курсы и олимпиады практически не имеют значения. Созданный нами признак считающий кол-во отсутствующих признаков также не слишком интересен."
   ]
  },
  {
   "cell_type": "markdown",
   "metadata": {},
   "source": [
    "### <a id='toc3_6_2_'></a>[2022-2023](#toc0_)"
   ]
  },
  {
   "cell_type": "markdown",
   "metadata": {},
   "source": [
    "Посмотрим на то же самое в 2022-2023 году"
   ]
  },
  {
   "cell_type": "code",
   "execution_count": 215,
   "metadata": {},
   "outputs": [
    {
     "name": "stdout",
     "output_type": "stream",
     "text": [
      "Test scores:\n"
     ]
    },
    {
     "data": {
      "text/html": [
       "<div>\n",
       "<style scoped>\n",
       "    .dataframe tbody tr th:only-of-type {\n",
       "        vertical-align: middle;\n",
       "    }\n",
       "\n",
       "    .dataframe tbody tr th {\n",
       "        vertical-align: top;\n",
       "    }\n",
       "\n",
       "    .dataframe thead th {\n",
       "        text-align: right;\n",
       "    }\n",
       "</style>\n",
       "<table border=\"1\" class=\"dataframe\">\n",
       "  <thead>\n",
       "    <tr style=\"text-align: right;\">\n",
       "      <th></th>\n",
       "      <th>precision</th>\n",
       "      <th>recall</th>\n",
       "      <th>f1</th>\n",
       "    </tr>\n",
       "  </thead>\n",
       "  <tbody>\n",
       "    <tr>\n",
       "      <th>mean</th>\n",
       "      <td>0.16</td>\n",
       "      <td>0.23</td>\n",
       "      <td>0.19</td>\n",
       "    </tr>\n",
       "    <tr>\n",
       "      <th>std</th>\n",
       "      <td>0.17</td>\n",
       "      <td>0.25</td>\n",
       "      <td>0.20</td>\n",
       "    </tr>\n",
       "  </tbody>\n",
       "</table>\n",
       "</div>"
      ],
      "text/plain": [
       "      precision  recall    f1\n",
       "mean       0.16    0.23  0.19\n",
       "std        0.17    0.25  0.20"
      ]
     },
     "metadata": {},
     "output_type": "display_data"
    },
    {
     "name": "stdout",
     "output_type": "stream",
     "text": [
      "Feature importances:\n"
     ]
    },
    {
     "data": {
      "text/html": [
       "<div>\n",
       "<style scoped>\n",
       "    .dataframe tbody tr th:only-of-type {\n",
       "        vertical-align: middle;\n",
       "    }\n",
       "\n",
       "    .dataframe tbody tr th {\n",
       "        vertical-align: top;\n",
       "    }\n",
       "\n",
       "    .dataframe thead th {\n",
       "        text-align: right;\n",
       "    }\n",
       "</style>\n",
       "<table border=\"1\" class=\"dataframe\">\n",
       "  <thead>\n",
       "    <tr style=\"text-align: right;\">\n",
       "      <th></th>\n",
       "      <th>mean</th>\n",
       "      <th>std</th>\n",
       "    </tr>\n",
       "  </thead>\n",
       "  <tbody>\n",
       "    <tr>\n",
       "      <th>Неделя первого логина в тек. уч. году</th>\n",
       "      <td>22.67</td>\n",
       "      <td>6.09</td>\n",
       "    </tr>\n",
       "    <tr>\n",
       "      <th>Финальный результат, %, сред.</th>\n",
       "      <td>12.43</td>\n",
       "      <td>0.78</td>\n",
       "    </tr>\n",
       "    <tr>\n",
       "      <th>Кол-во тренировок, сред.</th>\n",
       "      <td>8.89</td>\n",
       "      <td>1.75</td>\n",
       "    </tr>\n",
       "    <tr>\n",
       "      <th>Неделя первого логина</th>\n",
       "      <td>8.78</td>\n",
       "      <td>0.66</td>\n",
       "    </tr>\n",
       "    <tr>\n",
       "      <th>Кол-во тренировок до 80%, сред.</th>\n",
       "      <td>8.33</td>\n",
       "      <td>1.80</td>\n",
       "    </tr>\n",
       "    <tr>\n",
       "      <th>Результат нач. попытки, %, сред.</th>\n",
       "      <td>7.81</td>\n",
       "      <td>0.65</td>\n",
       "    </tr>\n",
       "    <tr>\n",
       "      <th>Класс</th>\n",
       "      <td>6.08</td>\n",
       "      <td>2.66</td>\n",
       "    </tr>\n",
       "    <tr>\n",
       "      <th>Средний результат ОЗ, %</th>\n",
       "      <td>4.56</td>\n",
       "      <td>0.60</td>\n",
       "    </tr>\n",
       "    <tr>\n",
       "      <th>Кол-во решенных ОЗ</th>\n",
       "      <td>3.87</td>\n",
       "      <td>0.64</td>\n",
       "    </tr>\n",
       "    <tr>\n",
       "      <th>Кол-во отсутствующих признаков</th>\n",
       "      <td>3.84</td>\n",
       "      <td>1.02</td>\n",
       "    </tr>\n",
       "    <tr>\n",
       "      <th>Уч. год первого логина</th>\n",
       "      <td>3.78</td>\n",
       "      <td>1.42</td>\n",
       "    </tr>\n",
       "    <tr>\n",
       "      <th>Кол-во начатых олимп.</th>\n",
       "      <td>3.20</td>\n",
       "      <td>1.02</td>\n",
       "    </tr>\n",
       "    <tr>\n",
       "      <th>Кол-во начатых курсов</th>\n",
       "      <td>2.56</td>\n",
       "      <td>0.46</td>\n",
       "    </tr>\n",
       "    <tr>\n",
       "      <th>Кол-во курсов, пройденных хотя бы на половину</th>\n",
       "      <td>1.70</td>\n",
       "      <td>0.55</td>\n",
       "    </tr>\n",
       "    <tr>\n",
       "      <th>Кол-во предметов в ОЗ</th>\n",
       "      <td>1.49</td>\n",
       "      <td>0.21</td>\n",
       "    </tr>\n",
       "  </tbody>\n",
       "</table>\n",
       "</div>"
      ],
      "text/plain": [
       "                                                mean   std\n",
       "Неделя первого логина в тек. уч. году          22.67  6.09\n",
       "Финальный результат, %, сред.                  12.43  0.78\n",
       "Кол-во тренировок, сред.                        8.89  1.75\n",
       "Неделя первого логина                           8.78  0.66\n",
       "Кол-во тренировок до 80%, сред.                 8.33  1.80\n",
       "Результат нач. попытки, %, сред.                7.81  0.65\n",
       "Класс                                           6.08  2.66\n",
       "Средний результат ОЗ, %                         4.56  0.60\n",
       "Кол-во решенных ОЗ                              3.87  0.64\n",
       "Кол-во отсутствующих признаков                  3.84  1.02\n",
       "Уч. год первого логина                          3.78  1.42\n",
       "Кол-во начатых олимп.                           3.20  1.02\n",
       "Кол-во начатых курсов                           2.56  0.46\n",
       "Кол-во курсов, пройденных хотя бы на половину   1.70  0.55\n",
       "Кол-во предметов в ОЗ                           1.49  0.21"
      ]
     },
     "metadata": {},
     "output_type": "display_data"
    }
   ],
   "source": [
    "X, y = data[23]\n",
    "cv_model(pipe, X, y)"
   ]
  },
  {
   "cell_type": "markdown",
   "metadata": {},
   "source": [
    "Тут мы видим, что огромное значение модель при обучении придает __неделе первого логина в текущем году__. Т.е. видимо в данном случае, еще сильнее разница во времени логина рекомедованных и всех остальных.\n",
    "\n",
    "Курсы, олимпиады и кол-во отсутствующих признаков по-прежнему в хвосте, но к ним добавился также кругозор ОЗ.\n",
    "\n",
    "Также нужно отметить, что результаты скоринга гораздо хуже. Вероятно это связанно с меньшим кол-во данных, все-таки разница почти в 1,5 раза."
   ]
  },
  {
   "cell_type": "markdown",
   "metadata": {},
   "source": [
    "### <a id='toc3_6_3_'></a>[Все года](#toc0_)"
   ]
  },
  {
   "cell_type": "markdown",
   "metadata": {},
   "source": [
    "Посмотрим на объединенные данные, тут можно взять побольше fold-ов"
   ]
  },
  {
   "cell_type": "code",
   "execution_count": 284,
   "metadata": {},
   "outputs": [],
   "source": [
    "X, y = data_all"
   ]
  },
  {
   "cell_type": "code",
   "execution_count": 285,
   "metadata": {},
   "outputs": [
    {
     "name": "stdout",
     "output_type": "stream",
     "text": [
      "Test scores:\n"
     ]
    },
    {
     "data": {
      "text/html": [
       "<div>\n",
       "<style scoped>\n",
       "    .dataframe tbody tr th:only-of-type {\n",
       "        vertical-align: middle;\n",
       "    }\n",
       "\n",
       "    .dataframe tbody tr th {\n",
       "        vertical-align: top;\n",
       "    }\n",
       "\n",
       "    .dataframe thead th {\n",
       "        text-align: right;\n",
       "    }\n",
       "</style>\n",
       "<table border=\"1\" class=\"dataframe\">\n",
       "  <thead>\n",
       "    <tr style=\"text-align: right;\">\n",
       "      <th></th>\n",
       "      <th>precision</th>\n",
       "      <th>recall</th>\n",
       "      <th>f1</th>\n",
       "    </tr>\n",
       "  </thead>\n",
       "  <tbody>\n",
       "    <tr>\n",
       "      <th>mean</th>\n",
       "      <td>0.29</td>\n",
       "      <td>0.37</td>\n",
       "      <td>0.33</td>\n",
       "    </tr>\n",
       "    <tr>\n",
       "      <th>std</th>\n",
       "      <td>0.02</td>\n",
       "      <td>0.03</td>\n",
       "      <td>0.03</td>\n",
       "    </tr>\n",
       "  </tbody>\n",
       "</table>\n",
       "</div>"
      ],
      "text/plain": [
       "      precision  recall    f1\n",
       "mean       0.29    0.37  0.33\n",
       "std        0.02    0.03  0.03"
      ]
     },
     "metadata": {},
     "output_type": "display_data"
    },
    {
     "name": "stdout",
     "output_type": "stream",
     "text": [
      "Feature importances:\n"
     ]
    },
    {
     "data": {
      "text/html": [
       "<div>\n",
       "<style scoped>\n",
       "    .dataframe tbody tr th:only-of-type {\n",
       "        vertical-align: middle;\n",
       "    }\n",
       "\n",
       "    .dataframe tbody tr th {\n",
       "        vertical-align: top;\n",
       "    }\n",
       "\n",
       "    .dataframe thead th {\n",
       "        text-align: right;\n",
       "    }\n",
       "</style>\n",
       "<table border=\"1\" class=\"dataframe\">\n",
       "  <thead>\n",
       "    <tr style=\"text-align: right;\">\n",
       "      <th></th>\n",
       "      <th>mean</th>\n",
       "      <th>std</th>\n",
       "    </tr>\n",
       "  </thead>\n",
       "  <tbody>\n",
       "    <tr>\n",
       "      <th>Финальный результат, %, сред.</th>\n",
       "      <td>15.59</td>\n",
       "      <td>0.85</td>\n",
       "    </tr>\n",
       "    <tr>\n",
       "      <th>Кол-во тренировок, сред.</th>\n",
       "      <td>11.89</td>\n",
       "      <td>1.09</td>\n",
       "    </tr>\n",
       "    <tr>\n",
       "      <th>Неделя первого логина в тек. уч. году</th>\n",
       "      <td>9.64</td>\n",
       "      <td>0.97</td>\n",
       "    </tr>\n",
       "    <tr>\n",
       "      <th>Кол-во тренировок до 80%, сред.</th>\n",
       "      <td>9.60</td>\n",
       "      <td>0.96</td>\n",
       "    </tr>\n",
       "    <tr>\n",
       "      <th>Результат нач. попытки, %, сред.</th>\n",
       "      <td>8.99</td>\n",
       "      <td>0.49</td>\n",
       "    </tr>\n",
       "    <tr>\n",
       "      <th>Неделя первого логина</th>\n",
       "      <td>8.06</td>\n",
       "      <td>0.62</td>\n",
       "    </tr>\n",
       "    <tr>\n",
       "      <th>Средний результат ОЗ, %</th>\n",
       "      <td>6.96</td>\n",
       "      <td>0.62</td>\n",
       "    </tr>\n",
       "    <tr>\n",
       "      <th>Класс</th>\n",
       "      <td>5.59</td>\n",
       "      <td>1.15</td>\n",
       "    </tr>\n",
       "    <tr>\n",
       "      <th>Кол-во отсутствующих признаков</th>\n",
       "      <td>5.57</td>\n",
       "      <td>0.97</td>\n",
       "    </tr>\n",
       "    <tr>\n",
       "      <th>Кол-во решенных ОЗ</th>\n",
       "      <td>5.41</td>\n",
       "      <td>0.15</td>\n",
       "    </tr>\n",
       "    <tr>\n",
       "      <th>Уч. год первого логина</th>\n",
       "      <td>4.38</td>\n",
       "      <td>0.33</td>\n",
       "    </tr>\n",
       "    <tr>\n",
       "      <th>Кол-во предметов в ОЗ</th>\n",
       "      <td>3.58</td>\n",
       "      <td>0.61</td>\n",
       "    </tr>\n",
       "    <tr>\n",
       "      <th>Кол-во начатых олимп.</th>\n",
       "      <td>2.14</td>\n",
       "      <td>0.30</td>\n",
       "    </tr>\n",
       "    <tr>\n",
       "      <th>Кол-во начатых курсов</th>\n",
       "      <td>1.62</td>\n",
       "      <td>0.30</td>\n",
       "    </tr>\n",
       "    <tr>\n",
       "      <th>Кол-во курсов, пройденных хотя бы на половину</th>\n",
       "      <td>0.98</td>\n",
       "      <td>0.18</td>\n",
       "    </tr>\n",
       "  </tbody>\n",
       "</table>\n",
       "</div>"
      ],
      "text/plain": [
       "                                                mean   std\n",
       "Финальный результат, %, сред.                  15.59  0.85\n",
       "Кол-во тренировок, сред.                       11.89  1.09\n",
       "Неделя первого логина в тек. уч. году           9.64  0.97\n",
       "Кол-во тренировок до 80%, сред.                 9.60  0.96\n",
       "Результат нач. попытки, %, сред.                8.99  0.49\n",
       "Неделя первого логина                           8.06  0.62\n",
       "Средний результат ОЗ, %                         6.96  0.62\n",
       "Класс                                           5.59  1.15\n",
       "Кол-во отсутствующих признаков                  5.57  0.97\n",
       "Кол-во решенных ОЗ                              5.41  0.15\n",
       "Уч. год первого логина                          4.38  0.33\n",
       "Кол-во предметов в ОЗ                           3.58  0.61\n",
       "Кол-во начатых олимп.                           2.14  0.30\n",
       "Кол-во начатых курсов                           1.62  0.30\n",
       "Кол-во курсов, пройденных хотя бы на половину   0.98  0.18"
      ]
     },
     "metadata": {},
     "output_type": "display_data"
    }
   ],
   "source": [
    "cv_model(pipe, X, y, cv=6)"
   ]
  },
  {
   "cell_type": "markdown",
   "metadata": {},
   "source": [
    "Получили нечто среднее между двумя годами, но ближе к 2021-2022. Это объясняется тем, что данных там побольше.\n",
    "\n",
    "Мне нравится идея обучаться на нескольких годах, так мы еще регуляризируем модель, а также даем ей побольше данных."
   ]
  },
  {
   "cell_type": "markdown",
   "metadata": {},
   "source": [
    "Попробуем выкинуть самые слабые признаки, связанные с курсами и олимпиадами:"
   ]
  },
  {
   "cell_type": "code",
   "execution_count": 286,
   "metadata": {},
   "outputs": [
    {
     "name": "stdout",
     "output_type": "stream",
     "text": [
      "Test scores:\n"
     ]
    },
    {
     "data": {
      "text/html": [
       "<div>\n",
       "<style scoped>\n",
       "    .dataframe tbody tr th:only-of-type {\n",
       "        vertical-align: middle;\n",
       "    }\n",
       "\n",
       "    .dataframe tbody tr th {\n",
       "        vertical-align: top;\n",
       "    }\n",
       "\n",
       "    .dataframe thead th {\n",
       "        text-align: right;\n",
       "    }\n",
       "</style>\n",
       "<table border=\"1\" class=\"dataframe\">\n",
       "  <thead>\n",
       "    <tr style=\"text-align: right;\">\n",
       "      <th></th>\n",
       "      <th>precision</th>\n",
       "      <th>recall</th>\n",
       "      <th>f1</th>\n",
       "    </tr>\n",
       "  </thead>\n",
       "  <tbody>\n",
       "    <tr>\n",
       "      <th>mean</th>\n",
       "      <td>0.27</td>\n",
       "      <td>0.35</td>\n",
       "      <td>0.30</td>\n",
       "    </tr>\n",
       "    <tr>\n",
       "      <th>std</th>\n",
       "      <td>0.02</td>\n",
       "      <td>0.03</td>\n",
       "      <td>0.03</td>\n",
       "    </tr>\n",
       "  </tbody>\n",
       "</table>\n",
       "</div>"
      ],
      "text/plain": [
       "      precision  recall    f1\n",
       "mean       0.27    0.35  0.30\n",
       "std        0.02    0.03  0.03"
      ]
     },
     "metadata": {},
     "output_type": "display_data"
    },
    {
     "name": "stdout",
     "output_type": "stream",
     "text": [
      "Feature importances:\n"
     ]
    },
    {
     "data": {
      "text/html": [
       "<div>\n",
       "<style scoped>\n",
       "    .dataframe tbody tr th:only-of-type {\n",
       "        vertical-align: middle;\n",
       "    }\n",
       "\n",
       "    .dataframe tbody tr th {\n",
       "        vertical-align: top;\n",
       "    }\n",
       "\n",
       "    .dataframe thead th {\n",
       "        text-align: right;\n",
       "    }\n",
       "</style>\n",
       "<table border=\"1\" class=\"dataframe\">\n",
       "  <thead>\n",
       "    <tr style=\"text-align: right;\">\n",
       "      <th></th>\n",
       "      <th>mean</th>\n",
       "      <th>std</th>\n",
       "    </tr>\n",
       "  </thead>\n",
       "  <tbody>\n",
       "    <tr>\n",
       "      <th>Финальный результат, %, сред.</th>\n",
       "      <td>16.63</td>\n",
       "      <td>0.97</td>\n",
       "    </tr>\n",
       "    <tr>\n",
       "      <th>Кол-во тренировок, сред.</th>\n",
       "      <td>12.81</td>\n",
       "      <td>0.83</td>\n",
       "    </tr>\n",
       "    <tr>\n",
       "      <th>Неделя первого логина в тек. уч. году</th>\n",
       "      <td>10.45</td>\n",
       "      <td>0.40</td>\n",
       "    </tr>\n",
       "    <tr>\n",
       "      <th>Кол-во тренировок до 80%, сред.</th>\n",
       "      <td>9.99</td>\n",
       "      <td>1.02</td>\n",
       "    </tr>\n",
       "    <tr>\n",
       "      <th>Результат нач. попытки, %, сред.</th>\n",
       "      <td>9.84</td>\n",
       "      <td>0.72</td>\n",
       "    </tr>\n",
       "    <tr>\n",
       "      <th>Неделя первого логина</th>\n",
       "      <td>8.65</td>\n",
       "      <td>0.66</td>\n",
       "    </tr>\n",
       "    <tr>\n",
       "      <th>Средний результат ОЗ, %</th>\n",
       "      <td>7.28</td>\n",
       "      <td>0.71</td>\n",
       "    </tr>\n",
       "    <tr>\n",
       "      <th>Класс</th>\n",
       "      <td>6.46</td>\n",
       "      <td>1.49</td>\n",
       "    </tr>\n",
       "    <tr>\n",
       "      <th>Кол-во решенных ОЗ</th>\n",
       "      <td>5.78</td>\n",
       "      <td>0.18</td>\n",
       "    </tr>\n",
       "    <tr>\n",
       "      <th>Уч. год первого логина</th>\n",
       "      <td>4.73</td>\n",
       "      <td>0.45</td>\n",
       "    </tr>\n",
       "    <tr>\n",
       "      <th>Кол-во отсутствующих признаков</th>\n",
       "      <td>3.84</td>\n",
       "      <td>0.75</td>\n",
       "    </tr>\n",
       "    <tr>\n",
       "      <th>Кол-во предметов в ОЗ</th>\n",
       "      <td>3.54</td>\n",
       "      <td>0.46</td>\n",
       "    </tr>\n",
       "  </tbody>\n",
       "</table>\n",
       "</div>"
      ],
      "text/plain": [
       "                                        mean   std\n",
       "Финальный результат, %, сред.          16.63  0.97\n",
       "Кол-во тренировок, сред.               12.81  0.83\n",
       "Неделя первого логина в тек. уч. году  10.45  0.40\n",
       "Кол-во тренировок до 80%, сред.         9.99  1.02\n",
       "Результат нач. попытки, %, сред.        9.84  0.72\n",
       "Неделя первого логина                   8.65  0.66\n",
       "Средний результат ОЗ, %                 7.28  0.71\n",
       "Класс                                   6.46  1.49\n",
       "Кол-во решенных ОЗ                      5.78  0.18\n",
       "Уч. год первого логина                  4.73  0.45\n",
       "Кол-во отсутствующих признаков          3.84  0.75\n",
       "Кол-во предметов в ОЗ                   3.54  0.46"
      ]
     },
     "metadata": {},
     "output_type": "display_data"
    }
   ],
   "source": [
    "X = X.drop(columns=[\"course_start\", \"course_50\", \"olymp_start\"])\n",
    "cv_model(pipe, X, y, feat_names=feat_names[:7] + feat_names[10:], cv=6)"
   ]
  },
  {
   "cell_type": "markdown",
   "metadata": {},
   "source": [
    "Мы видим, что в принципе стало чуть хуже, поэтому оставим все имеющиеся признаки и перейдем к тюнингу"
   ]
  },
  {
   "cell_type": "markdown",
   "metadata": {},
   "source": [
    "## <a id='toc3_7_'></a>[Tuning](#toc0_)"
   ]
  },
  {
   "cell_type": "markdown",
   "metadata": {},
   "source": [
    "В этом разделе определим применим optuna для тюнинга гиперпараметров модели и препроцессинга. Сам тюнинг лучше осуществлять на серверах Kaggle или чем-то аналогичном"
   ]
  },
  {
   "cell_type": "markdown",
   "metadata": {},
   "source": [
    "Идея писать instantiate фунцкии для optuna взята [отсюда](https://medium.com/@walter_sperat/using-optuna-with-sklearn-the-right-way-part-1-6b4ad0ab2451)"
   ]
  },
  {
   "cell_type": "code",
   "execution_count": 287,
   "metadata": {},
   "outputs": [],
   "source": [
    "def instantiate_processor(trial: Trial):\n",
    "    return preprocessor"
   ]
  },
  {
   "cell_type": "code",
   "execution_count": 288,
   "metadata": {},
   "outputs": [],
   "source": [
    "def instantiate_сatboost(trial: Trial) -> MyCatboostClassifier:\n",
    "    params = {\n",
    "        \"iterations\": trial.suggest_categorical(\n",
    "            \"iterations\", [125, 250, 500, 750, 1000, 1250, 1500, 1750, 2000]\n",
    "        ),\n",
    "        \"learning_rate\": trial.suggest_categorical(\n",
    "            \"learning_rate\", [0.1, 0.05, 0.025, 0.005, 0.0025, 0.001]\n",
    "        ),\n",
    "        \"depth\": trial.suggest_int(\"depth\", 1, 10),\n",
    "        \"random_strength\": trial.suggest_float(\"random_strength\", 0.0, 5.0),\n",
    "        \"l2_leaf_reg\": trial.suggest_float(\"l2_leaf_reg\", 0.0, 6.0),\n",
    "        \"early_stopping_rounds\": trial.suggest_categorical(\n",
    "            \"early_stopping_rounds\", [False, 15, 30]\n",
    "        ),\n",
    "        \"random_state\": 0,\n",
    "        \"verbose\": False,\n",
    "    }\n",
    "\n",
    "    cbc = MyCatboostClassifier(**params)\n",
    "    return cbc"
   ]
  },
  {
   "cell_type": "code",
   "execution_count": 289,
   "metadata": {},
   "outputs": [],
   "source": [
    "def instantiate_model(trial: Trial) -> Pipeline:\n",
    "    processor = instantiate_processor(trial)\n",
    "\n",
    "    cbc = instantiate_сatboost(trial)\n",
    "\n",
    "    model = Pipeline([(\"processor\", processor), (\"catboost\", cbc)])\n",
    "\n",
    "    return model"
   ]
  },
  {
   "cell_type": "code",
   "execution_count": 291,
   "metadata": {},
   "outputs": [],
   "source": [
    "def objective(trial: Trial, X: pd.DataFrame, y: Union[pd.Series, np.ndarray]) -> float:\n",
    "    model = instantiate_model(trial)\n",
    "\n",
    "    scores = cross_val_score(model, X, y, scoring=\"recall\", cv=6, n_jobs=-1)\n",
    "\n",
    "    return np.min([np.mean(scores), np.median([scores])])"
   ]
  },
  {
   "cell_type": "code",
   "execution_count": 292,
   "metadata": {},
   "outputs": [
    {
     "name": "stderr",
     "output_type": "stream",
     "text": [
      "[I 2023-07-20 13:10:47,860] A new study created in memory with name: optimization\n",
      "[I 2023-07-20 13:11:36,329] Trial 0 finished with value: 0.34848484848484845 and parameters: {'iterations': 1500, 'learning_rate': 0.005, 'depth': 2, 'random_strength': 0.43047713027623724, 'l2_leaf_reg': 2.77386690580186, 'early_stopping_rounds': 30}. Best is trial 0 with value: 0.34848484848484845.\n",
      "[I 2023-07-20 13:12:27,505] Trial 1 finished with value: 0.34848484848484845 and parameters: {'iterations': 1750, 'learning_rate': 0.1, 'depth': 2, 'random_strength': 1.2812550116923709, 'l2_leaf_reg': 4.7414039050052175, 'early_stopping_rounds': 30}. Best is trial 0 with value: 0.34848484848484845.\n"
     ]
    }
   ],
   "source": [
    "X, y = data_all\n",
    "\n",
    "study = create_study(study_name=\"optimization\", direction=\"maximize\")\n",
    "study.optimize(lambda trial: objective(trial, X, y), n_trials=OPTUNA_N_TRIALS)"
   ]
  },
  {
   "cell_type": "code",
   "execution_count": 293,
   "metadata": {},
   "outputs": [
    {
     "data": {
      "application/vnd.plotly.v1+json": {
       "config": {
        "plotlyServerURL": "https://plot.ly"
       },
       "data": [
        {
         "mode": "markers",
         "name": "Objective Value",
         "type": "scatter",
         "x": [
          0,
          1
         ],
         "y": [
          0.34848484848484845,
          0.34848484848484845
         ]
        },
        {
         "name": "Best Value",
         "type": "scatter",
         "x": [
          0,
          1
         ],
         "y": [
          0.34848484848484845,
          0.34848484848484845
         ]
        }
       ],
       "layout": {
        "template": {
         "data": {
          "bar": [
           {
            "error_x": {
             "color": "#2a3f5f"
            },
            "error_y": {
             "color": "#2a3f5f"
            },
            "marker": {
             "line": {
              "color": "#E5ECF6",
              "width": 0.5
             },
             "pattern": {
              "fillmode": "overlay",
              "size": 10,
              "solidity": 0.2
             }
            },
            "type": "bar"
           }
          ],
          "barpolar": [
           {
            "marker": {
             "line": {
              "color": "#E5ECF6",
              "width": 0.5
             },
             "pattern": {
              "fillmode": "overlay",
              "size": 10,
              "solidity": 0.2
             }
            },
            "type": "barpolar"
           }
          ],
          "carpet": [
           {
            "aaxis": {
             "endlinecolor": "#2a3f5f",
             "gridcolor": "white",
             "linecolor": "white",
             "minorgridcolor": "white",
             "startlinecolor": "#2a3f5f"
            },
            "baxis": {
             "endlinecolor": "#2a3f5f",
             "gridcolor": "white",
             "linecolor": "white",
             "minorgridcolor": "white",
             "startlinecolor": "#2a3f5f"
            },
            "type": "carpet"
           }
          ],
          "choropleth": [
           {
            "colorbar": {
             "outlinewidth": 0,
             "ticks": ""
            },
            "type": "choropleth"
           }
          ],
          "contour": [
           {
            "colorbar": {
             "outlinewidth": 0,
             "ticks": ""
            },
            "colorscale": [
             [
              0,
              "#0d0887"
             ],
             [
              0.1111111111111111,
              "#46039f"
             ],
             [
              0.2222222222222222,
              "#7201a8"
             ],
             [
              0.3333333333333333,
              "#9c179e"
             ],
             [
              0.4444444444444444,
              "#bd3786"
             ],
             [
              0.5555555555555556,
              "#d8576b"
             ],
             [
              0.6666666666666666,
              "#ed7953"
             ],
             [
              0.7777777777777778,
              "#fb9f3a"
             ],
             [
              0.8888888888888888,
              "#fdca26"
             ],
             [
              1,
              "#f0f921"
             ]
            ],
            "type": "contour"
           }
          ],
          "contourcarpet": [
           {
            "colorbar": {
             "outlinewidth": 0,
             "ticks": ""
            },
            "type": "contourcarpet"
           }
          ],
          "heatmap": [
           {
            "colorbar": {
             "outlinewidth": 0,
             "ticks": ""
            },
            "colorscale": [
             [
              0,
              "#0d0887"
             ],
             [
              0.1111111111111111,
              "#46039f"
             ],
             [
              0.2222222222222222,
              "#7201a8"
             ],
             [
              0.3333333333333333,
              "#9c179e"
             ],
             [
              0.4444444444444444,
              "#bd3786"
             ],
             [
              0.5555555555555556,
              "#d8576b"
             ],
             [
              0.6666666666666666,
              "#ed7953"
             ],
             [
              0.7777777777777778,
              "#fb9f3a"
             ],
             [
              0.8888888888888888,
              "#fdca26"
             ],
             [
              1,
              "#f0f921"
             ]
            ],
            "type": "heatmap"
           }
          ],
          "heatmapgl": [
           {
            "colorbar": {
             "outlinewidth": 0,
             "ticks": ""
            },
            "colorscale": [
             [
              0,
              "#0d0887"
             ],
             [
              0.1111111111111111,
              "#46039f"
             ],
             [
              0.2222222222222222,
              "#7201a8"
             ],
             [
              0.3333333333333333,
              "#9c179e"
             ],
             [
              0.4444444444444444,
              "#bd3786"
             ],
             [
              0.5555555555555556,
              "#d8576b"
             ],
             [
              0.6666666666666666,
              "#ed7953"
             ],
             [
              0.7777777777777778,
              "#fb9f3a"
             ],
             [
              0.8888888888888888,
              "#fdca26"
             ],
             [
              1,
              "#f0f921"
             ]
            ],
            "type": "heatmapgl"
           }
          ],
          "histogram": [
           {
            "marker": {
             "pattern": {
              "fillmode": "overlay",
              "size": 10,
              "solidity": 0.2
             }
            },
            "type": "histogram"
           }
          ],
          "histogram2d": [
           {
            "colorbar": {
             "outlinewidth": 0,
             "ticks": ""
            },
            "colorscale": [
             [
              0,
              "#0d0887"
             ],
             [
              0.1111111111111111,
              "#46039f"
             ],
             [
              0.2222222222222222,
              "#7201a8"
             ],
             [
              0.3333333333333333,
              "#9c179e"
             ],
             [
              0.4444444444444444,
              "#bd3786"
             ],
             [
              0.5555555555555556,
              "#d8576b"
             ],
             [
              0.6666666666666666,
              "#ed7953"
             ],
             [
              0.7777777777777778,
              "#fb9f3a"
             ],
             [
              0.8888888888888888,
              "#fdca26"
             ],
             [
              1,
              "#f0f921"
             ]
            ],
            "type": "histogram2d"
           }
          ],
          "histogram2dcontour": [
           {
            "colorbar": {
             "outlinewidth": 0,
             "ticks": ""
            },
            "colorscale": [
             [
              0,
              "#0d0887"
             ],
             [
              0.1111111111111111,
              "#46039f"
             ],
             [
              0.2222222222222222,
              "#7201a8"
             ],
             [
              0.3333333333333333,
              "#9c179e"
             ],
             [
              0.4444444444444444,
              "#bd3786"
             ],
             [
              0.5555555555555556,
              "#d8576b"
             ],
             [
              0.6666666666666666,
              "#ed7953"
             ],
             [
              0.7777777777777778,
              "#fb9f3a"
             ],
             [
              0.8888888888888888,
              "#fdca26"
             ],
             [
              1,
              "#f0f921"
             ]
            ],
            "type": "histogram2dcontour"
           }
          ],
          "mesh3d": [
           {
            "colorbar": {
             "outlinewidth": 0,
             "ticks": ""
            },
            "type": "mesh3d"
           }
          ],
          "parcoords": [
           {
            "line": {
             "colorbar": {
              "outlinewidth": 0,
              "ticks": ""
             }
            },
            "type": "parcoords"
           }
          ],
          "pie": [
           {
            "automargin": true,
            "type": "pie"
           }
          ],
          "scatter": [
           {
            "fillpattern": {
             "fillmode": "overlay",
             "size": 10,
             "solidity": 0.2
            },
            "type": "scatter"
           }
          ],
          "scatter3d": [
           {
            "line": {
             "colorbar": {
              "outlinewidth": 0,
              "ticks": ""
             }
            },
            "marker": {
             "colorbar": {
              "outlinewidth": 0,
              "ticks": ""
             }
            },
            "type": "scatter3d"
           }
          ],
          "scattercarpet": [
           {
            "marker": {
             "colorbar": {
              "outlinewidth": 0,
              "ticks": ""
             }
            },
            "type": "scattercarpet"
           }
          ],
          "scattergeo": [
           {
            "marker": {
             "colorbar": {
              "outlinewidth": 0,
              "ticks": ""
             }
            },
            "type": "scattergeo"
           }
          ],
          "scattergl": [
           {
            "marker": {
             "colorbar": {
              "outlinewidth": 0,
              "ticks": ""
             }
            },
            "type": "scattergl"
           }
          ],
          "scattermapbox": [
           {
            "marker": {
             "colorbar": {
              "outlinewidth": 0,
              "ticks": ""
             }
            },
            "type": "scattermapbox"
           }
          ],
          "scatterpolar": [
           {
            "marker": {
             "colorbar": {
              "outlinewidth": 0,
              "ticks": ""
             }
            },
            "type": "scatterpolar"
           }
          ],
          "scatterpolargl": [
           {
            "marker": {
             "colorbar": {
              "outlinewidth": 0,
              "ticks": ""
             }
            },
            "type": "scatterpolargl"
           }
          ],
          "scatterternary": [
           {
            "marker": {
             "colorbar": {
              "outlinewidth": 0,
              "ticks": ""
             }
            },
            "type": "scatterternary"
           }
          ],
          "surface": [
           {
            "colorbar": {
             "outlinewidth": 0,
             "ticks": ""
            },
            "colorscale": [
             [
              0,
              "#0d0887"
             ],
             [
              0.1111111111111111,
              "#46039f"
             ],
             [
              0.2222222222222222,
              "#7201a8"
             ],
             [
              0.3333333333333333,
              "#9c179e"
             ],
             [
              0.4444444444444444,
              "#bd3786"
             ],
             [
              0.5555555555555556,
              "#d8576b"
             ],
             [
              0.6666666666666666,
              "#ed7953"
             ],
             [
              0.7777777777777778,
              "#fb9f3a"
             ],
             [
              0.8888888888888888,
              "#fdca26"
             ],
             [
              1,
              "#f0f921"
             ]
            ],
            "type": "surface"
           }
          ],
          "table": [
           {
            "cells": {
             "fill": {
              "color": "#EBF0F8"
             },
             "line": {
              "color": "white"
             }
            },
            "header": {
             "fill": {
              "color": "#C8D4E3"
             },
             "line": {
              "color": "white"
             }
            },
            "type": "table"
           }
          ]
         },
         "layout": {
          "annotationdefaults": {
           "arrowcolor": "#2a3f5f",
           "arrowhead": 0,
           "arrowwidth": 1
          },
          "autotypenumbers": "strict",
          "coloraxis": {
           "colorbar": {
            "outlinewidth": 0,
            "ticks": ""
           }
          },
          "colorscale": {
           "diverging": [
            [
             0,
             "#8e0152"
            ],
            [
             0.1,
             "#c51b7d"
            ],
            [
             0.2,
             "#de77ae"
            ],
            [
             0.3,
             "#f1b6da"
            ],
            [
             0.4,
             "#fde0ef"
            ],
            [
             0.5,
             "#f7f7f7"
            ],
            [
             0.6,
             "#e6f5d0"
            ],
            [
             0.7,
             "#b8e186"
            ],
            [
             0.8,
             "#7fbc41"
            ],
            [
             0.9,
             "#4d9221"
            ],
            [
             1,
             "#276419"
            ]
           ],
           "sequential": [
            [
             0,
             "#0d0887"
            ],
            [
             0.1111111111111111,
             "#46039f"
            ],
            [
             0.2222222222222222,
             "#7201a8"
            ],
            [
             0.3333333333333333,
             "#9c179e"
            ],
            [
             0.4444444444444444,
             "#bd3786"
            ],
            [
             0.5555555555555556,
             "#d8576b"
            ],
            [
             0.6666666666666666,
             "#ed7953"
            ],
            [
             0.7777777777777778,
             "#fb9f3a"
            ],
            [
             0.8888888888888888,
             "#fdca26"
            ],
            [
             1,
             "#f0f921"
            ]
           ],
           "sequentialminus": [
            [
             0,
             "#0d0887"
            ],
            [
             0.1111111111111111,
             "#46039f"
            ],
            [
             0.2222222222222222,
             "#7201a8"
            ],
            [
             0.3333333333333333,
             "#9c179e"
            ],
            [
             0.4444444444444444,
             "#bd3786"
            ],
            [
             0.5555555555555556,
             "#d8576b"
            ],
            [
             0.6666666666666666,
             "#ed7953"
            ],
            [
             0.7777777777777778,
             "#fb9f3a"
            ],
            [
             0.8888888888888888,
             "#fdca26"
            ],
            [
             1,
             "#f0f921"
            ]
           ]
          },
          "colorway": [
           "#636efa",
           "#EF553B",
           "#00cc96",
           "#ab63fa",
           "#FFA15A",
           "#19d3f3",
           "#FF6692",
           "#B6E880",
           "#FF97FF",
           "#FECB52"
          ],
          "font": {
           "color": "#2a3f5f"
          },
          "geo": {
           "bgcolor": "white",
           "lakecolor": "white",
           "landcolor": "#E5ECF6",
           "showlakes": true,
           "showland": true,
           "subunitcolor": "white"
          },
          "hoverlabel": {
           "align": "left"
          },
          "hovermode": "closest",
          "mapbox": {
           "style": "light"
          },
          "paper_bgcolor": "white",
          "plot_bgcolor": "#E5ECF6",
          "polar": {
           "angularaxis": {
            "gridcolor": "white",
            "linecolor": "white",
            "ticks": ""
           },
           "bgcolor": "#E5ECF6",
           "radialaxis": {
            "gridcolor": "white",
            "linecolor": "white",
            "ticks": ""
           }
          },
          "scene": {
           "xaxis": {
            "backgroundcolor": "#E5ECF6",
            "gridcolor": "white",
            "gridwidth": 2,
            "linecolor": "white",
            "showbackground": true,
            "ticks": "",
            "zerolinecolor": "white"
           },
           "yaxis": {
            "backgroundcolor": "#E5ECF6",
            "gridcolor": "white",
            "gridwidth": 2,
            "linecolor": "white",
            "showbackground": true,
            "ticks": "",
            "zerolinecolor": "white"
           },
           "zaxis": {
            "backgroundcolor": "#E5ECF6",
            "gridcolor": "white",
            "gridwidth": 2,
            "linecolor": "white",
            "showbackground": true,
            "ticks": "",
            "zerolinecolor": "white"
           }
          },
          "shapedefaults": {
           "line": {
            "color": "#2a3f5f"
           }
          },
          "ternary": {
           "aaxis": {
            "gridcolor": "white",
            "linecolor": "white",
            "ticks": ""
           },
           "baxis": {
            "gridcolor": "white",
            "linecolor": "white",
            "ticks": ""
           },
           "bgcolor": "#E5ECF6",
           "caxis": {
            "gridcolor": "white",
            "linecolor": "white",
            "ticks": ""
           }
          },
          "title": {
           "x": 0.05
          },
          "xaxis": {
           "automargin": true,
           "gridcolor": "white",
           "linecolor": "white",
           "ticks": "",
           "title": {
            "standoff": 15
           },
           "zerolinecolor": "white",
           "zerolinewidth": 2
          },
          "yaxis": {
           "automargin": true,
           "gridcolor": "white",
           "linecolor": "white",
           "ticks": "",
           "title": {
            "standoff": 15
           },
           "zerolinecolor": "white",
           "zerolinewidth": 2
          }
         }
        },
        "title": {
         "text": "Optimization History Plot"
        },
        "xaxis": {
         "title": {
          "text": "Trial"
         }
        },
        "yaxis": {
         "title": {
          "text": "Objective Value"
         }
        }
       }
      }
     },
     "metadata": {},
     "output_type": "display_data"
    },
    {
     "data": {
      "text/plain": [
       "{'iterations': 1500,\n",
       " 'learning_rate': 0.005,\n",
       " 'depth': 2,\n",
       " 'random_strength': 0.43047713027623724,\n",
       " 'l2_leaf_reg': 2.77386690580186,\n",
       " 'early_stopping_rounds': 30}"
      ]
     },
     "metadata": {},
     "output_type": "display_data"
    },
    {
     "name": "stdout",
     "output_type": "stream",
     "text": [
      "Test scores:\n"
     ]
    },
    {
     "data": {
      "text/html": [
       "<div>\n",
       "<style scoped>\n",
       "    .dataframe tbody tr th:only-of-type {\n",
       "        vertical-align: middle;\n",
       "    }\n",
       "\n",
       "    .dataframe tbody tr th {\n",
       "        vertical-align: top;\n",
       "    }\n",
       "\n",
       "    .dataframe thead th {\n",
       "        text-align: right;\n",
       "    }\n",
       "</style>\n",
       "<table border=\"1\" class=\"dataframe\">\n",
       "  <thead>\n",
       "    <tr style=\"text-align: right;\">\n",
       "      <th></th>\n",
       "      <th>precision</th>\n",
       "      <th>recall</th>\n",
       "      <th>f1</th>\n",
       "    </tr>\n",
       "  </thead>\n",
       "  <tbody>\n",
       "    <tr>\n",
       "      <th>mean</th>\n",
       "      <td>0.30</td>\n",
       "      <td>0.39</td>\n",
       "      <td>0.34</td>\n",
       "    </tr>\n",
       "    <tr>\n",
       "      <th>std</th>\n",
       "      <td>0.01</td>\n",
       "      <td>0.01</td>\n",
       "      <td>0.01</td>\n",
       "    </tr>\n",
       "  </tbody>\n",
       "</table>\n",
       "</div>"
      ],
      "text/plain": [
       "      precision  recall    f1\n",
       "mean       0.30    0.39  0.34\n",
       "std        0.01    0.01  0.01"
      ]
     },
     "metadata": {},
     "output_type": "display_data"
    },
    {
     "ename": "ValueError",
     "evalue": "Length of values (12) does not match length of index (15)",
     "output_type": "error",
     "traceback": [
      "\u001b[1;31m---------------------------------------------------------------------------\u001b[0m",
      "\u001b[1;31mValueError\u001b[0m                                Traceback (most recent call last)",
      "Cell \u001b[1;32mIn[293], line 14\u001b[0m\n\u001b[0;32m     11\u001b[0m display(best_params)\n\u001b[0;32m     13\u001b[0m best_model \u001b[39m=\u001b[39m instantiate_model(study\u001b[39m.\u001b[39mbest_trial)\n\u001b[1;32m---> 14\u001b[0m cv_model(best_model, X, y)\n",
      "Cell \u001b[1;32mIn[258], line 22\u001b[0m, in \u001b[0;36mcv_model\u001b[1;34m(model, X, y, scoring, cv, feat_names)\u001b[0m\n\u001b[0;32m     19\u001b[0m     \u001b[39mexcept\u001b[39;00m:\n\u001b[0;32m     20\u001b[0m         feat_importance_dict[idx] \u001b[39m=\u001b[39m estimator\u001b[39m.\u001b[39mfeature_importances_\n\u001b[1;32m---> 22\u001b[0m feat_importance \u001b[39m=\u001b[39m pd\u001b[39m.\u001b[39;49mDataFrame(\n\u001b[0;32m     23\u001b[0m     feat_importance_dict,\n\u001b[0;32m     24\u001b[0m     index \u001b[39m=\u001b[39;49m [ru_dict[key] \u001b[39mfor\u001b[39;49;00m key \u001b[39min\u001b[39;49;00m feat_names \u001b[39mif\u001b[39;49;00m key \u001b[39min\u001b[39;49;00m ru_dict]\n\u001b[0;32m     25\u001b[0m )\u001b[39m.\u001b[39mapply([\u001b[39m'\u001b[39m\u001b[39mmean\u001b[39m\u001b[39m'\u001b[39m, \u001b[39m'\u001b[39m\u001b[39mstd\u001b[39m\u001b[39m'\u001b[39m], axis\u001b[39m=\u001b[39m\u001b[39m1\u001b[39m)\u001b[39m.\u001b[39msort_values(\u001b[39m'\u001b[39m\u001b[39mmean\u001b[39m\u001b[39m'\u001b[39m, ascending\u001b[39m=\u001b[39m\u001b[39mFalse\u001b[39;00m)\u001b[39m.\u001b[39mround(\u001b[39m2\u001b[39m)\n\u001b[0;32m     26\u001b[0m \u001b[39mprint\u001b[39m(\u001b[39m'\u001b[39m\u001b[39mFeature importances:\u001b[39m\u001b[39m'\u001b[39m)\n\u001b[0;32m     27\u001b[0m display(feat_importance)\n",
      "File \u001b[1;32mc:\\Users\\user\\anaconda3\\envs\\success_model\\lib\\site-packages\\pandas\\core\\frame.py:709\u001b[0m, in \u001b[0;36mDataFrame.__init__\u001b[1;34m(self, data, index, columns, dtype, copy)\u001b[0m\n\u001b[0;32m    703\u001b[0m     mgr \u001b[39m=\u001b[39m \u001b[39mself\u001b[39m\u001b[39m.\u001b[39m_init_mgr(\n\u001b[0;32m    704\u001b[0m         data, axes\u001b[39m=\u001b[39m{\u001b[39m\"\u001b[39m\u001b[39mindex\u001b[39m\u001b[39m\"\u001b[39m: index, \u001b[39m\"\u001b[39m\u001b[39mcolumns\u001b[39m\u001b[39m\"\u001b[39m: columns}, dtype\u001b[39m=\u001b[39mdtype, copy\u001b[39m=\u001b[39mcopy\n\u001b[0;32m    705\u001b[0m     )\n\u001b[0;32m    707\u001b[0m \u001b[39melif\u001b[39;00m \u001b[39misinstance\u001b[39m(data, \u001b[39mdict\u001b[39m):\n\u001b[0;32m    708\u001b[0m     \u001b[39m# GH#38939 de facto copy defaults to False only in non-dict cases\u001b[39;00m\n\u001b[1;32m--> 709\u001b[0m     mgr \u001b[39m=\u001b[39m dict_to_mgr(data, index, columns, dtype\u001b[39m=\u001b[39;49mdtype, copy\u001b[39m=\u001b[39;49mcopy, typ\u001b[39m=\u001b[39;49mmanager)\n\u001b[0;32m    710\u001b[0m \u001b[39melif\u001b[39;00m \u001b[39misinstance\u001b[39m(data, ma\u001b[39m.\u001b[39mMaskedArray):\n\u001b[0;32m    711\u001b[0m     \u001b[39mfrom\u001b[39;00m \u001b[39mnumpy\u001b[39;00m\u001b[39m.\u001b[39;00m\u001b[39mma\u001b[39;00m \u001b[39mimport\u001b[39;00m mrecords\n",
      "File \u001b[1;32mc:\\Users\\user\\anaconda3\\envs\\success_model\\lib\\site-packages\\pandas\\core\\internals\\construction.py:481\u001b[0m, in \u001b[0;36mdict_to_mgr\u001b[1;34m(data, index, columns, dtype, typ, copy)\u001b[0m\n\u001b[0;32m    477\u001b[0m     \u001b[39melse\u001b[39;00m:\n\u001b[0;32m    478\u001b[0m         \u001b[39m# dtype check to exclude e.g. range objects, scalars\u001b[39;00m\n\u001b[0;32m    479\u001b[0m         arrays \u001b[39m=\u001b[39m [x\u001b[39m.\u001b[39mcopy() \u001b[39mif\u001b[39;00m \u001b[39mhasattr\u001b[39m(x, \u001b[39m\"\u001b[39m\u001b[39mdtype\u001b[39m\u001b[39m\"\u001b[39m) \u001b[39melse\u001b[39;00m x \u001b[39mfor\u001b[39;00m x \u001b[39min\u001b[39;00m arrays]\n\u001b[1;32m--> 481\u001b[0m \u001b[39mreturn\u001b[39;00m arrays_to_mgr(arrays, columns, index, dtype\u001b[39m=\u001b[39;49mdtype, typ\u001b[39m=\u001b[39;49mtyp, consolidate\u001b[39m=\u001b[39;49mcopy)\n",
      "File \u001b[1;32mc:\\Users\\user\\anaconda3\\envs\\success_model\\lib\\site-packages\\pandas\\core\\internals\\construction.py:120\u001b[0m, in \u001b[0;36marrays_to_mgr\u001b[1;34m(arrays, columns, index, dtype, verify_integrity, typ, consolidate)\u001b[0m\n\u001b[0;32m    117\u001b[0m         index \u001b[39m=\u001b[39m ensure_index(index)\n\u001b[0;32m    119\u001b[0m     \u001b[39m# don't force copy because getting jammed in an ndarray anyway\u001b[39;00m\n\u001b[1;32m--> 120\u001b[0m     arrays, refs \u001b[39m=\u001b[39m _homogenize(arrays, index, dtype)\n\u001b[0;32m    121\u001b[0m     \u001b[39m# _homogenize ensures\u001b[39;00m\n\u001b[0;32m    122\u001b[0m     \u001b[39m#  - all(len(x) == len(index) for x in arrays)\u001b[39;00m\n\u001b[0;32m    123\u001b[0m     \u001b[39m#  - all(x.ndim == 1 for x in arrays)\u001b[39;00m\n\u001b[1;32m   (...)\u001b[0m\n\u001b[0;32m    126\u001b[0m \n\u001b[0;32m    127\u001b[0m \u001b[39melse\u001b[39;00m:\n\u001b[0;32m    128\u001b[0m     index \u001b[39m=\u001b[39m ensure_index(index)\n",
      "File \u001b[1;32mc:\\Users\\user\\anaconda3\\envs\\success_model\\lib\\site-packages\\pandas\\core\\internals\\construction.py:608\u001b[0m, in \u001b[0;36m_homogenize\u001b[1;34m(data, index, dtype)\u001b[0m\n\u001b[0;32m    605\u001b[0m         val \u001b[39m=\u001b[39m lib\u001b[39m.\u001b[39mfast_multiget(val, oindex\u001b[39m.\u001b[39m_values, default\u001b[39m=\u001b[39mnp\u001b[39m.\u001b[39mnan)\n\u001b[0;32m    607\u001b[0m     val \u001b[39m=\u001b[39m sanitize_array(val, index, dtype\u001b[39m=\u001b[39mdtype, copy\u001b[39m=\u001b[39m\u001b[39mFalse\u001b[39;00m)\n\u001b[1;32m--> 608\u001b[0m     com\u001b[39m.\u001b[39;49mrequire_length_match(val, index)\n\u001b[0;32m    609\u001b[0m     refs\u001b[39m.\u001b[39mappend(\u001b[39mNone\u001b[39;00m)\n\u001b[0;32m    611\u001b[0m homogenized\u001b[39m.\u001b[39mappend(val)\n",
      "File \u001b[1;32mc:\\Users\\user\\anaconda3\\envs\\success_model\\lib\\site-packages\\pandas\\core\\common.py:576\u001b[0m, in \u001b[0;36mrequire_length_match\u001b[1;34m(data, index)\u001b[0m\n\u001b[0;32m    572\u001b[0m \u001b[39m\u001b[39m\u001b[39m\"\"\"\u001b[39;00m\n\u001b[0;32m    573\u001b[0m \u001b[39mCheck the length of data matches the length of the index.\u001b[39;00m\n\u001b[0;32m    574\u001b[0m \u001b[39m\"\"\"\u001b[39;00m\n\u001b[0;32m    575\u001b[0m \u001b[39mif\u001b[39;00m \u001b[39mlen\u001b[39m(data) \u001b[39m!=\u001b[39m \u001b[39mlen\u001b[39m(index):\n\u001b[1;32m--> 576\u001b[0m     \u001b[39mraise\u001b[39;00m \u001b[39mValueError\u001b[39;00m(\n\u001b[0;32m    577\u001b[0m         \u001b[39m\"\u001b[39m\u001b[39mLength of values \u001b[39m\u001b[39m\"\u001b[39m\n\u001b[0;32m    578\u001b[0m         \u001b[39mf\u001b[39m\u001b[39m\"\u001b[39m\u001b[39m(\u001b[39m\u001b[39m{\u001b[39;00m\u001b[39mlen\u001b[39m(data)\u001b[39m}\u001b[39;00m\u001b[39m) \u001b[39m\u001b[39m\"\u001b[39m\n\u001b[0;32m    579\u001b[0m         \u001b[39m\"\u001b[39m\u001b[39mdoes not match length of index \u001b[39m\u001b[39m\"\u001b[39m\n\u001b[0;32m    580\u001b[0m         \u001b[39mf\u001b[39m\u001b[39m\"\u001b[39m\u001b[39m(\u001b[39m\u001b[39m{\u001b[39;00m\u001b[39mlen\u001b[39m(index)\u001b[39m}\u001b[39;00m\u001b[39m)\u001b[39m\u001b[39m\"\u001b[39m\n\u001b[0;32m    581\u001b[0m     )\n",
      "\u001b[1;31mValueError\u001b[0m: Length of values (12) does not match length of index (15)"
     ]
    }
   ],
   "source": [
    "fig = plot_optimization_history(study)\n",
    "display(fig)\n",
    "\n",
    "try:\n",
    "    fig = plot_param_importances(study)\n",
    "    display(fig)\n",
    "except RuntimeError:\n",
    "    1 == 1\n",
    "\n",
    "best_params = study.best_params\n",
    "display(best_params)\n",
    "\n",
    "best_model = instantiate_model(study.best_trial)\n",
    "best_model.save_model(\"best_tuned_model\")\n",
    "cv_model(best_model, X, y)"
   ]
  },
  {
   "cell_type": "markdown",
   "metadata": {},
   "source": [
    "## Application"
   ]
  },
  {
   "cell_type": "markdown",
   "metadata": {},
   "source": [
    "Загрузим уже оттюнингованную модель"
   ]
  },
  {
   "cell_type": "code",
   "execution_count": 296,
   "metadata": {},
   "outputs": [
    {
     "data": {
      "text/plain": [
       "{'random_strength': 1.441532743,\n",
       " 'od_wait': 15,\n",
       " 'verbose': 0,\n",
       " 'iterations': 250,\n",
       " 'loss_function': 'Logloss',\n",
       " 'l2_leaf_reg': 2.647452459,\n",
       " 'depth': 10,\n",
       " 'random_seed': 0,\n",
       " 'learning_rate': 0.001}"
      ]
     },
     "execution_count": 296,
     "metadata": {},
     "output_type": "execute_result"
    }
   ],
   "source": [
    "cbc_tune = MyCatboostClassifier()\n",
    "cbc_tune.load_model(\"best_tuned_model\")\n",
    "cbc_tune.get_params()"
   ]
  },
  {
   "cell_type": "markdown",
   "metadata": {},
   "source": [
    "Удалим данные о рекомендованных учениках 2022-2023, включая Fast Track"
   ]
  },
  {
   "cell_type": "code",
   "execution_count": 302,
   "metadata": {},
   "outputs": [
    {
     "data": {
      "text/plain": [
       "262"
      ]
     },
     "execution_count": 302,
     "metadata": {},
     "output_type": "execute_result"
    }
   ],
   "source": [
    "recomend_ids = [\n",
    "    575488,\n",
    "    639873,\n",
    "    540299,\n",
    "    599996,\n",
    "    618406,\n",
    "    394781,\n",
    "    529895,\n",
    "    566883,\n",
    "    602600,\n",
    "    608726,\n",
    "    612199,\n",
    "    569453,\n",
    "    566371,\n",
    "    527315,\n",
    "    496892,\n",
    "    634017,\n",
    "    586658,\n",
    "    386193,\n",
    "    383221,\n",
    "    569684,\n",
    "    583835,\n",
    "    666766,\n",
    "    559362,\n",
    "    610794,\n",
    "    549630,\n",
    "    600954,\n",
    "    536052,\n",
    "    583106,\n",
    "    530096,\n",
    "    549402,\n",
    "    609095,\n",
    "    605196,\n",
    "    649599,\n",
    "    543039,\n",
    "    593506,\n",
    "    610203,\n",
    "    495529,\n",
    "    614072,\n",
    "    651108,\n",
    "    604868,\n",
    "    431793,\n",
    "    619258,\n",
    "    529866,\n",
    "    592482,\n",
    "    593603,\n",
    "    620648,\n",
    "    614295,\n",
    "    475203,\n",
    "    529068,\n",
    "    621002,\n",
    "    615731,\n",
    "    558299,\n",
    "    527012,\n",
    "    529229,\n",
    "    529290,\n",
    "    605470,\n",
    "    527027,\n",
    "    610721,\n",
    "    547585,\n",
    "    528437,\n",
    "    632960,\n",
    "    451060,\n",
    "    571874,\n",
    "    566699,\n",
    "    614645,\n",
    "    430940,\n",
    "    546054,\n",
    "    612323,\n",
    "    623788,\n",
    "    614822,\n",
    "    527275,\n",
    "    564364,\n",
    "    653659,\n",
    "    647126,\n",
    "    639058,\n",
    "    495508,\n",
    "    613032,\n",
    "    605464,\n",
    "    518622,\n",
    "    603432,\n",
    "    565356,\n",
    "    567003,\n",
    "    633372,\n",
    "    436886,\n",
    "    654681,\n",
    "    614833,\n",
    "    549853,\n",
    "    557949,\n",
    "    662751,\n",
    "    566540,\n",
    "    608821,\n",
    "    604993,\n",
    "    503938,\n",
    "    619316,\n",
    "    618340,\n",
    "    650847,\n",
    "    614476,\n",
    "    453566,\n",
    "    609797,\n",
    "    462133,\n",
    "    638946,\n",
    "    605442,\n",
    "    482247,\n",
    "    619570,\n",
    "    574231,\n",
    "    601926,\n",
    "    616912,\n",
    "    565915,\n",
    "    614408,\n",
    "    608340,\n",
    "    505528,\n",
    "    655582,\n",
    "    509535,\n",
    "    608290,\n",
    "    568114,\n",
    "    502058,\n",
    "    502866,\n",
    "    629068,\n",
    "    545491,\n",
    "    557913,\n",
    "    422534,\n",
    "    504586,\n",
    "    491714,\n",
    "    636284,\n",
    "    570093,\n",
    "    534858,\n",
    "    529533,\n",
    "    548838,\n",
    "    620074,\n",
    "    529970,\n",
    "    635709,\n",
    "    605935,\n",
    "    608915,\n",
    "    528951,\n",
    "    641921,\n",
    "    587384,\n",
    "    648001,\n",
    "    566273,\n",
    "    604367,\n",
    "    539524,\n",
    "    529035,\n",
    "    649180,\n",
    "    574675,\n",
    "    650622,\n",
    "    382951,\n",
    "    569259,\n",
    "    522998,\n",
    "    520365,\n",
    "    654453,\n",
    "    654288,\n",
    "    610907,\n",
    "    500653,\n",
    "    529413,\n",
    "    566958,\n",
    "    624197,\n",
    "    607633,\n",
    "    630751,\n",
    "    532384,\n",
    "    565330,\n",
    "    588808,\n",
    "    533128,\n",
    "    587373,\n",
    "    384839,\n",
    "    640452,\n",
    "    430166,\n",
    "    529562,\n",
    "    637428,\n",
    "    556891,\n",
    "    527242,\n",
    "    524969,\n",
    "    567613,\n",
    "    549949,\n",
    "    570009,\n",
    "    568976,\n",
    "    656526,\n",
    "    585464,\n",
    "    533084,\n",
    "    505971,\n",
    "    571023,\n",
    "    502382,\n",
    "    519967,\n",
    "    618127,\n",
    "    602450,\n",
    "    529173,\n",
    "    467081,\n",
    "    495168,\n",
    "    527313,\n",
    "    500184,\n",
    "    551380,\n",
    "    530324,\n",
    "    572359,\n",
    "    612097,\n",
    "    553615,\n",
    "    629640,\n",
    "    646602,\n",
    "    457248,\n",
    "    608818,\n",
    "    512237,\n",
    "    387007,\n",
    "    650502,\n",
    "    597343,\n",
    "    562998,\n",
    "    480045,\n",
    "    623964,\n",
    "    482263,\n",
    "    547283,\n",
    "    576086,\n",
    "    651121,\n",
    "    552465,\n",
    "    657636,\n",
    "    583104,\n",
    "    608863,\n",
    "    420603,\n",
    "    586589,\n",
    "    559064,\n",
    "    593076,\n",
    "    572536,\n",
    "    616975,\n",
    "    608547,\n",
    "    544593,\n",
    "    551727,\n",
    "    555246,\n",
    "    488473,\n",
    "    613365,\n",
    "    620050,\n",
    "    607983,\n",
    "    527683,\n",
    "    567811,\n",
    "    651290,\n",
    "    520946,\n",
    "    497032,\n",
    "    542886,\n",
    "    615309,\n",
    "    628184,\n",
    "    522955,\n",
    "    464236,\n",
    "    567260,\n",
    "    527491,\n",
    "    558583,\n",
    "    610104,\n",
    "    624181,\n",
    "    528669,\n",
    "    649339,\n",
    "    499282,\n",
    "    536255,\n",
    "    624956,\n",
    "    475353,\n",
    "    565505,\n",
    "    528448,\n",
    "    487711,\n",
    "    381311,\n",
    "    608664,\n",
    "    655274,\n",
    "    611071,\n",
    "    484603,\n",
    "    537695,\n",
    "    614468,\n",
    "    543196,\n",
    "    533023,\n",
    "    453488,\n",
    "    592838,\n",
    "    425411,\n",
    "]\n",
    "len(recomend_ids)"
   ]
  },
  {
   "cell_type": "code",
   "execution_count": 380,
   "metadata": {},
   "outputs": [
    {
     "data": {
      "text/html": [
       "<div>\n",
       "<style scoped>\n",
       "    .dataframe tbody tr th:only-of-type {\n",
       "        vertical-align: middle;\n",
       "    }\n",
       "\n",
       "    .dataframe tbody tr th {\n",
       "        vertical-align: top;\n",
       "    }\n",
       "\n",
       "    .dataframe thead th {\n",
       "        text-align: right;\n",
       "    }\n",
       "</style>\n",
       "<table border=\"1\" class=\"dataframe\">\n",
       "  <thead>\n",
       "    <tr style=\"text-align: right;\">\n",
       "      <th></th>\n",
       "      <th>lo_id</th>\n",
       "      <th>first_attempt_avg_score</th>\n",
       "      <th>train_count_avg</th>\n",
       "      <th>final_score_avg</th>\n",
       "      <th>train_count_80_avg</th>\n",
       "      <th>oz_done_count</th>\n",
       "      <th>oz_subject_count</th>\n",
       "      <th>oz_percent_avg</th>\n",
       "      <th>course_start</th>\n",
       "      <th>course_50</th>\n",
       "      <th>olymp_start</th>\n",
       "      <th>week_first_login_this_year</th>\n",
       "      <th>wave_login_first</th>\n",
       "      <th>week_first_login_wave</th>\n",
       "      <th>grade</th>\n",
       "    </tr>\n",
       "  </thead>\n",
       "  <tbody>\n",
       "    <tr>\n",
       "      <th>0</th>\n",
       "      <td>528789</td>\n",
       "      <td>76.631700</td>\n",
       "      <td>1.6667</td>\n",
       "      <td>92.657333</td>\n",
       "      <td>0.6667</td>\n",
       "      <td>NaN</td>\n",
       "      <td>NaN</td>\n",
       "      <td>NaN</td>\n",
       "      <td>NaN</td>\n",
       "      <td>NaN</td>\n",
       "      <td>1.0</td>\n",
       "      <td>0</td>\n",
       "      <td>1</td>\n",
       "      <td>2</td>\n",
       "      <td>6</td>\n",
       "    </tr>\n",
       "    <tr>\n",
       "      <th>1</th>\n",
       "      <td>587048</td>\n",
       "      <td>NaN</td>\n",
       "      <td>NaN</td>\n",
       "      <td>NaN</td>\n",
       "      <td>NaN</td>\n",
       "      <td>4.0</td>\n",
       "      <td>1.0</td>\n",
       "      <td>80.000000</td>\n",
       "      <td>NaN</td>\n",
       "      <td>NaN</td>\n",
       "      <td>NaN</td>\n",
       "      <td>0</td>\n",
       "      <td>1</td>\n",
       "      <td>23</td>\n",
       "      <td>8</td>\n",
       "    </tr>\n",
       "    <tr>\n",
       "      <th>2</th>\n",
       "      <td>593642</td>\n",
       "      <td>NaN</td>\n",
       "      <td>0.0000</td>\n",
       "      <td>NaN</td>\n",
       "      <td>NaN</td>\n",
       "      <td>12.0</td>\n",
       "      <td>2.0</td>\n",
       "      <td>92.307692</td>\n",
       "      <td>NaN</td>\n",
       "      <td>NaN</td>\n",
       "      <td>NaN</td>\n",
       "      <td>0</td>\n",
       "      <td>1</td>\n",
       "      <td>37</td>\n",
       "      <td>7</td>\n",
       "    </tr>\n",
       "    <tr>\n",
       "      <th>3</th>\n",
       "      <td>601156</td>\n",
       "      <td>66.259233</td>\n",
       "      <td>1.3333</td>\n",
       "      <td>74.051433</td>\n",
       "      <td>1.0000</td>\n",
       "      <td>14.0</td>\n",
       "      <td>1.0</td>\n",
       "      <td>53.846154</td>\n",
       "      <td>7.0</td>\n",
       "      <td>4.0</td>\n",
       "      <td>1.0</td>\n",
       "      <td>0</td>\n",
       "      <td>1</td>\n",
       "      <td>41</td>\n",
       "      <td>8</td>\n",
       "    </tr>\n",
       "    <tr>\n",
       "      <th>4</th>\n",
       "      <td>527197</td>\n",
       "      <td>52.840900</td>\n",
       "      <td>9.5000</td>\n",
       "      <td>52.840900</td>\n",
       "      <td>0.0000</td>\n",
       "      <td>1.0</td>\n",
       "      <td>1.0</td>\n",
       "      <td>100.000000</td>\n",
       "      <td>8.0</td>\n",
       "      <td>6.0</td>\n",
       "      <td>NaN</td>\n",
       "      <td>0</td>\n",
       "      <td>2</td>\n",
       "      <td>42</td>\n",
       "      <td>6</td>\n",
       "    </tr>\n",
       "    <tr>\n",
       "      <th>...</th>\n",
       "      <td>...</td>\n",
       "      <td>...</td>\n",
       "      <td>...</td>\n",
       "      <td>...</td>\n",
       "      <td>...</td>\n",
       "      <td>...</td>\n",
       "      <td>...</td>\n",
       "      <td>...</td>\n",
       "      <td>...</td>\n",
       "      <td>...</td>\n",
       "      <td>...</td>\n",
       "      <td>...</td>\n",
       "      <td>...</td>\n",
       "      <td>...</td>\n",
       "      <td>...</td>\n",
       "    </tr>\n",
       "    <tr>\n",
       "      <th>12378</th>\n",
       "      <td>657926</td>\n",
       "      <td>NaN</td>\n",
       "      <td>NaN</td>\n",
       "      <td>NaN</td>\n",
       "      <td>NaN</td>\n",
       "      <td>0.0</td>\n",
       "      <td>NaN</td>\n",
       "      <td>0.000000</td>\n",
       "      <td>NaN</td>\n",
       "      <td>NaN</td>\n",
       "      <td>NaN</td>\n",
       "      <td>26</td>\n",
       "      <td>0</td>\n",
       "      <td>26</td>\n",
       "      <td>6</td>\n",
       "    </tr>\n",
       "    <tr>\n",
       "      <th>12379</th>\n",
       "      <td>657935</td>\n",
       "      <td>12.500000</td>\n",
       "      <td>0.0000</td>\n",
       "      <td>12.500000</td>\n",
       "      <td>NaN</td>\n",
       "      <td>NaN</td>\n",
       "      <td>NaN</td>\n",
       "      <td>NaN</td>\n",
       "      <td>NaN</td>\n",
       "      <td>NaN</td>\n",
       "      <td>NaN</td>\n",
       "      <td>26</td>\n",
       "      <td>0</td>\n",
       "      <td>26</td>\n",
       "      <td>6</td>\n",
       "    </tr>\n",
       "    <tr>\n",
       "      <th>12380</th>\n",
       "      <td>657937</td>\n",
       "      <td>48.701300</td>\n",
       "      <td>1.0000</td>\n",
       "      <td>48.701300</td>\n",
       "      <td>NaN</td>\n",
       "      <td>NaN</td>\n",
       "      <td>NaN</td>\n",
       "      <td>NaN</td>\n",
       "      <td>NaN</td>\n",
       "      <td>NaN</td>\n",
       "      <td>NaN</td>\n",
       "      <td>26</td>\n",
       "      <td>0</td>\n",
       "      <td>26</td>\n",
       "      <td>8</td>\n",
       "    </tr>\n",
       "    <tr>\n",
       "      <th>12381</th>\n",
       "      <td>648331</td>\n",
       "      <td>21.428600</td>\n",
       "      <td>0.0000</td>\n",
       "      <td>21.428600</td>\n",
       "      <td>NaN</td>\n",
       "      <td>5.0</td>\n",
       "      <td>2.0</td>\n",
       "      <td>50.000000</td>\n",
       "      <td>NaN</td>\n",
       "      <td>NaN</td>\n",
       "      <td>NaN</td>\n",
       "      <td>26</td>\n",
       "      <td>0</td>\n",
       "      <td>26</td>\n",
       "      <td>8</td>\n",
       "    </tr>\n",
       "    <tr>\n",
       "      <th>12382</th>\n",
       "      <td>654271</td>\n",
       "      <td>NaN</td>\n",
       "      <td>NaN</td>\n",
       "      <td>NaN</td>\n",
       "      <td>NaN</td>\n",
       "      <td>1.0</td>\n",
       "      <td>1.0</td>\n",
       "      <td>25.000000</td>\n",
       "      <td>NaN</td>\n",
       "      <td>NaN</td>\n",
       "      <td>NaN</td>\n",
       "      <td>26</td>\n",
       "      <td>0</td>\n",
       "      <td>26</td>\n",
       "      <td>8</td>\n",
       "    </tr>\n",
       "  </tbody>\n",
       "</table>\n",
       "<p>12383 rows × 15 columns</p>\n",
       "</div>"
      ],
      "text/plain": [
       "        lo_id  first_attempt_avg_score  train_count_avg  final_score_avg  \\\n",
       "0      528789                76.631700           1.6667        92.657333   \n",
       "1      587048                      NaN              NaN              NaN   \n",
       "2      593642                      NaN           0.0000              NaN   \n",
       "3      601156                66.259233           1.3333        74.051433   \n",
       "4      527197                52.840900           9.5000        52.840900   \n",
       "...       ...                      ...              ...              ...   \n",
       "12378  657926                      NaN              NaN              NaN   \n",
       "12379  657935                12.500000           0.0000        12.500000   \n",
       "12380  657937                48.701300           1.0000        48.701300   \n",
       "12381  648331                21.428600           0.0000        21.428600   \n",
       "12382  654271                      NaN              NaN              NaN   \n",
       "\n",
       "       train_count_80_avg  oz_done_count  oz_subject_count  oz_percent_avg  \\\n",
       "0                  0.6667            NaN               NaN             NaN   \n",
       "1                     NaN            4.0               1.0       80.000000   \n",
       "2                     NaN           12.0               2.0       92.307692   \n",
       "3                  1.0000           14.0               1.0       53.846154   \n",
       "4                  0.0000            1.0               1.0      100.000000   \n",
       "...                   ...            ...               ...             ...   \n",
       "12378                 NaN            0.0               NaN        0.000000   \n",
       "12379                 NaN            NaN               NaN             NaN   \n",
       "12380                 NaN            NaN               NaN             NaN   \n",
       "12381                 NaN            5.0               2.0       50.000000   \n",
       "12382                 NaN            1.0               1.0       25.000000   \n",
       "\n",
       "       course_start  course_50  olymp_start  week_first_login_this_year  \\\n",
       "0               NaN        NaN          1.0                           0   \n",
       "1               NaN        NaN          NaN                           0   \n",
       "2               NaN        NaN          NaN                           0   \n",
       "3               7.0        4.0          1.0                           0   \n",
       "4               8.0        6.0          NaN                           0   \n",
       "...             ...        ...          ...                         ...   \n",
       "12378           NaN        NaN          NaN                          26   \n",
       "12379           NaN        NaN          NaN                          26   \n",
       "12380           NaN        NaN          NaN                          26   \n",
       "12381           NaN        NaN          NaN                          26   \n",
       "12382           NaN        NaN          NaN                          26   \n",
       "\n",
       "       wave_login_first  week_first_login_wave  grade  \n",
       "0                     1                      2      6  \n",
       "1                     1                     23      8  \n",
       "2                     1                     37      7  \n",
       "3                     1                     41      8  \n",
       "4                     2                     42      6  \n",
       "...                 ...                    ...    ...  \n",
       "12378                 0                     26      6  \n",
       "12379                 0                     26      6  \n",
       "12380                 0                     26      8  \n",
       "12381                 0                     26      8  \n",
       "12382                 0                     26      8  \n",
       "\n",
       "[12383 rows x 15 columns]"
      ]
     },
     "execution_count": 380,
     "metadata": {},
     "output_type": "execute_result"
    }
   ],
   "source": [
    "df_23 = feat[23].loc[~feat[23][\"lo_id\"].isin(recomend_ids)]\n",
    "df_23 = df_23.reset_index(drop=True)\n",
    "\n",
    "df_23"
   ]
  },
  {
   "cell_type": "code",
   "execution_count": 382,
   "metadata": {},
   "outputs": [
    {
     "data": {
      "text/html": [
       "<div>\n",
       "<style scoped>\n",
       "    .dataframe tbody tr th:only-of-type {\n",
       "        vertical-align: middle;\n",
       "    }\n",
       "\n",
       "    .dataframe tbody tr th {\n",
       "        vertical-align: top;\n",
       "    }\n",
       "\n",
       "    .dataframe thead th {\n",
       "        text-align: right;\n",
       "    }\n",
       "</style>\n",
       "<table border=\"1\" class=\"dataframe\">\n",
       "  <thead>\n",
       "    <tr style=\"text-align: right;\">\n",
       "      <th></th>\n",
       "      <th>first_attempt_avg_score</th>\n",
       "      <th>train_count_avg</th>\n",
       "      <th>final_score_avg</th>\n",
       "      <th>train_count_80_avg</th>\n",
       "      <th>oz_done_count</th>\n",
       "      <th>oz_subject_count</th>\n",
       "      <th>oz_percent_avg</th>\n",
       "      <th>course_start</th>\n",
       "      <th>course_50</th>\n",
       "      <th>olymp_start</th>\n",
       "      <th>week_first_login_this_year</th>\n",
       "      <th>wave_login_first</th>\n",
       "      <th>week_first_login_wave</th>\n",
       "      <th>grade</th>\n",
       "    </tr>\n",
       "  </thead>\n",
       "  <tbody>\n",
       "    <tr>\n",
       "      <th>0</th>\n",
       "      <td>76.631700</td>\n",
       "      <td>1.6667</td>\n",
       "      <td>92.657333</td>\n",
       "      <td>0.6667</td>\n",
       "      <td>NaN</td>\n",
       "      <td>NaN</td>\n",
       "      <td>NaN</td>\n",
       "      <td>NaN</td>\n",
       "      <td>NaN</td>\n",
       "      <td>1.0</td>\n",
       "      <td>0</td>\n",
       "      <td>1</td>\n",
       "      <td>2</td>\n",
       "      <td>6</td>\n",
       "    </tr>\n",
       "    <tr>\n",
       "      <th>1</th>\n",
       "      <td>NaN</td>\n",
       "      <td>NaN</td>\n",
       "      <td>NaN</td>\n",
       "      <td>NaN</td>\n",
       "      <td>4.0</td>\n",
       "      <td>1.0</td>\n",
       "      <td>80.000000</td>\n",
       "      <td>NaN</td>\n",
       "      <td>NaN</td>\n",
       "      <td>NaN</td>\n",
       "      <td>0</td>\n",
       "      <td>1</td>\n",
       "      <td>23</td>\n",
       "      <td>8</td>\n",
       "    </tr>\n",
       "    <tr>\n",
       "      <th>2</th>\n",
       "      <td>NaN</td>\n",
       "      <td>0.0000</td>\n",
       "      <td>NaN</td>\n",
       "      <td>NaN</td>\n",
       "      <td>12.0</td>\n",
       "      <td>2.0</td>\n",
       "      <td>92.307692</td>\n",
       "      <td>NaN</td>\n",
       "      <td>NaN</td>\n",
       "      <td>NaN</td>\n",
       "      <td>0</td>\n",
       "      <td>1</td>\n",
       "      <td>37</td>\n",
       "      <td>7</td>\n",
       "    </tr>\n",
       "    <tr>\n",
       "      <th>3</th>\n",
       "      <td>66.259233</td>\n",
       "      <td>1.3333</td>\n",
       "      <td>74.051433</td>\n",
       "      <td>1.0000</td>\n",
       "      <td>14.0</td>\n",
       "      <td>1.0</td>\n",
       "      <td>53.846154</td>\n",
       "      <td>7.0</td>\n",
       "      <td>4.0</td>\n",
       "      <td>1.0</td>\n",
       "      <td>0</td>\n",
       "      <td>1</td>\n",
       "      <td>41</td>\n",
       "      <td>8</td>\n",
       "    </tr>\n",
       "    <tr>\n",
       "      <th>4</th>\n",
       "      <td>52.840900</td>\n",
       "      <td>9.5000</td>\n",
       "      <td>52.840900</td>\n",
       "      <td>0.0000</td>\n",
       "      <td>1.0</td>\n",
       "      <td>1.0</td>\n",
       "      <td>100.000000</td>\n",
       "      <td>8.0</td>\n",
       "      <td>6.0</td>\n",
       "      <td>NaN</td>\n",
       "      <td>0</td>\n",
       "      <td>2</td>\n",
       "      <td>42</td>\n",
       "      <td>6</td>\n",
       "    </tr>\n",
       "    <tr>\n",
       "      <th>...</th>\n",
       "      <td>...</td>\n",
       "      <td>...</td>\n",
       "      <td>...</td>\n",
       "      <td>...</td>\n",
       "      <td>...</td>\n",
       "      <td>...</td>\n",
       "      <td>...</td>\n",
       "      <td>...</td>\n",
       "      <td>...</td>\n",
       "      <td>...</td>\n",
       "      <td>...</td>\n",
       "      <td>...</td>\n",
       "      <td>...</td>\n",
       "      <td>...</td>\n",
       "    </tr>\n",
       "    <tr>\n",
       "      <th>12378</th>\n",
       "      <td>NaN</td>\n",
       "      <td>NaN</td>\n",
       "      <td>NaN</td>\n",
       "      <td>NaN</td>\n",
       "      <td>0.0</td>\n",
       "      <td>NaN</td>\n",
       "      <td>0.000000</td>\n",
       "      <td>NaN</td>\n",
       "      <td>NaN</td>\n",
       "      <td>NaN</td>\n",
       "      <td>26</td>\n",
       "      <td>0</td>\n",
       "      <td>26</td>\n",
       "      <td>6</td>\n",
       "    </tr>\n",
       "    <tr>\n",
       "      <th>12379</th>\n",
       "      <td>12.500000</td>\n",
       "      <td>0.0000</td>\n",
       "      <td>12.500000</td>\n",
       "      <td>NaN</td>\n",
       "      <td>NaN</td>\n",
       "      <td>NaN</td>\n",
       "      <td>NaN</td>\n",
       "      <td>NaN</td>\n",
       "      <td>NaN</td>\n",
       "      <td>NaN</td>\n",
       "      <td>26</td>\n",
       "      <td>0</td>\n",
       "      <td>26</td>\n",
       "      <td>6</td>\n",
       "    </tr>\n",
       "    <tr>\n",
       "      <th>12380</th>\n",
       "      <td>48.701300</td>\n",
       "      <td>1.0000</td>\n",
       "      <td>48.701300</td>\n",
       "      <td>NaN</td>\n",
       "      <td>NaN</td>\n",
       "      <td>NaN</td>\n",
       "      <td>NaN</td>\n",
       "      <td>NaN</td>\n",
       "      <td>NaN</td>\n",
       "      <td>NaN</td>\n",
       "      <td>26</td>\n",
       "      <td>0</td>\n",
       "      <td>26</td>\n",
       "      <td>8</td>\n",
       "    </tr>\n",
       "    <tr>\n",
       "      <th>12381</th>\n",
       "      <td>21.428600</td>\n",
       "      <td>0.0000</td>\n",
       "      <td>21.428600</td>\n",
       "      <td>NaN</td>\n",
       "      <td>5.0</td>\n",
       "      <td>2.0</td>\n",
       "      <td>50.000000</td>\n",
       "      <td>NaN</td>\n",
       "      <td>NaN</td>\n",
       "      <td>NaN</td>\n",
       "      <td>26</td>\n",
       "      <td>0</td>\n",
       "      <td>26</td>\n",
       "      <td>8</td>\n",
       "    </tr>\n",
       "    <tr>\n",
       "      <th>12382</th>\n",
       "      <td>NaN</td>\n",
       "      <td>NaN</td>\n",
       "      <td>NaN</td>\n",
       "      <td>NaN</td>\n",
       "      <td>1.0</td>\n",
       "      <td>1.0</td>\n",
       "      <td>25.000000</td>\n",
       "      <td>NaN</td>\n",
       "      <td>NaN</td>\n",
       "      <td>NaN</td>\n",
       "      <td>26</td>\n",
       "      <td>0</td>\n",
       "      <td>26</td>\n",
       "      <td>8</td>\n",
       "    </tr>\n",
       "  </tbody>\n",
       "</table>\n",
       "<p>12383 rows × 14 columns</p>\n",
       "</div>"
      ],
      "text/plain": [
       "       first_attempt_avg_score  train_count_avg  final_score_avg  \\\n",
       "0                    76.631700           1.6667        92.657333   \n",
       "1                          NaN              NaN              NaN   \n",
       "2                          NaN           0.0000              NaN   \n",
       "3                    66.259233           1.3333        74.051433   \n",
       "4                    52.840900           9.5000        52.840900   \n",
       "...                        ...              ...              ...   \n",
       "12378                      NaN              NaN              NaN   \n",
       "12379                12.500000           0.0000        12.500000   \n",
       "12380                48.701300           1.0000        48.701300   \n",
       "12381                21.428600           0.0000        21.428600   \n",
       "12382                      NaN              NaN              NaN   \n",
       "\n",
       "       train_count_80_avg  oz_done_count  oz_subject_count  oz_percent_avg  \\\n",
       "0                  0.6667            NaN               NaN             NaN   \n",
       "1                     NaN            4.0               1.0       80.000000   \n",
       "2                     NaN           12.0               2.0       92.307692   \n",
       "3                  1.0000           14.0               1.0       53.846154   \n",
       "4                  0.0000            1.0               1.0      100.000000   \n",
       "...                   ...            ...               ...             ...   \n",
       "12378                 NaN            0.0               NaN        0.000000   \n",
       "12379                 NaN            NaN               NaN             NaN   \n",
       "12380                 NaN            NaN               NaN             NaN   \n",
       "12381                 NaN            5.0               2.0       50.000000   \n",
       "12382                 NaN            1.0               1.0       25.000000   \n",
       "\n",
       "       course_start  course_50  olymp_start  week_first_login_this_year  \\\n",
       "0               NaN        NaN          1.0                           0   \n",
       "1               NaN        NaN          NaN                           0   \n",
       "2               NaN        NaN          NaN                           0   \n",
       "3               7.0        4.0          1.0                           0   \n",
       "4               8.0        6.0          NaN                           0   \n",
       "...             ...        ...          ...                         ...   \n",
       "12378           NaN        NaN          NaN                          26   \n",
       "12379           NaN        NaN          NaN                          26   \n",
       "12380           NaN        NaN          NaN                          26   \n",
       "12381           NaN        NaN          NaN                          26   \n",
       "12382           NaN        NaN          NaN                          26   \n",
       "\n",
       "       wave_login_first  week_first_login_wave  grade  \n",
       "0                     1                      2      6  \n",
       "1                     1                     23      8  \n",
       "2                     1                     37      7  \n",
       "3                     1                     41      8  \n",
       "4                     2                     42      6  \n",
       "...                 ...                    ...    ...  \n",
       "12378                 0                     26      6  \n",
       "12379                 0                     26      6  \n",
       "12380                 0                     26      8  \n",
       "12381                 0                     26      8  \n",
       "12382                 0                     26      8  \n",
       "\n",
       "[12383 rows x 14 columns]"
      ]
     },
     "execution_count": 382,
     "metadata": {},
     "output_type": "execute_result"
    }
   ],
   "source": [
    "X = df_23[feat_names[:-1]]\n",
    "# Для 5-ти классников заменим grade на 6\n",
    "X.loc[X.grade == 5, \"grade\"] = 6\n",
    "X"
   ]
  },
  {
   "cell_type": "code",
   "execution_count": 383,
   "metadata": {},
   "outputs": [
    {
     "data": {
      "text/plain": [
       "0        0.403217\n",
       "1        0.309354\n",
       "2        0.311617\n",
       "3        0.428794\n",
       "4        0.407357\n",
       "           ...   \n",
       "12378    0.271882\n",
       "12379    0.249205\n",
       "12380    0.289484\n",
       "12381    0.298222\n",
       "12382    0.287604\n",
       "Name: success_probability, Length: 12383, dtype: float64"
      ]
     },
     "execution_count": 383,
     "metadata": {},
     "output_type": "execute_result"
    }
   ],
   "source": [
    "pipe = Pipeline([(\"preprocessor\", preprocessor), (\"catboost\", cbc_tune)])\n",
    "\n",
    "proba = pd.Series(pipe.predict_proba(X)[:, 1], name=\"success_probability\")\n",
    "proba"
   ]
  },
  {
   "cell_type": "code",
   "execution_count": 384,
   "metadata": {},
   "outputs": [
    {
     "data": {
      "text/html": [
       "<div>\n",
       "<style scoped>\n",
       "    .dataframe tbody tr th:only-of-type {\n",
       "        vertical-align: middle;\n",
       "    }\n",
       "\n",
       "    .dataframe tbody tr th {\n",
       "        vertical-align: top;\n",
       "    }\n",
       "\n",
       "    .dataframe thead th {\n",
       "        text-align: right;\n",
       "    }\n",
       "</style>\n",
       "<table border=\"1\" class=\"dataframe\">\n",
       "  <thead>\n",
       "    <tr style=\"text-align: right;\">\n",
       "      <th></th>\n",
       "      <th>lo_id</th>\n",
       "      <th>first_attempt_avg_score</th>\n",
       "      <th>train_count_avg</th>\n",
       "      <th>final_score_avg</th>\n",
       "      <th>train_count_80_avg</th>\n",
       "      <th>oz_done_count</th>\n",
       "      <th>oz_subject_count</th>\n",
       "      <th>oz_percent_avg</th>\n",
       "      <th>course_start</th>\n",
       "      <th>course_50</th>\n",
       "      <th>olymp_start</th>\n",
       "      <th>week_first_login_this_year</th>\n",
       "      <th>wave_login_first</th>\n",
       "      <th>week_first_login_wave</th>\n",
       "      <th>grade</th>\n",
       "      <th>success_probability</th>\n",
       "    </tr>\n",
       "  </thead>\n",
       "  <tbody>\n",
       "    <tr>\n",
       "      <th>190</th>\n",
       "      <td>525181</td>\n",
       "      <td>87.208633</td>\n",
       "      <td>20.6667</td>\n",
       "      <td>100.0000</td>\n",
       "      <td>0.0</td>\n",
       "      <td>48.0</td>\n",
       "      <td>4.0</td>\n",
       "      <td>50.526316</td>\n",
       "      <td>9.0</td>\n",
       "      <td>7.0</td>\n",
       "      <td>1.0</td>\n",
       "      <td>0</td>\n",
       "      <td>2</td>\n",
       "      <td>30</td>\n",
       "      <td>6</td>\n",
       "      <td>0.472796</td>\n",
       "    </tr>\n",
       "    <tr>\n",
       "      <th>922</th>\n",
       "      <td>609024</td>\n",
       "      <td>90.814400</td>\n",
       "      <td>2.6667</td>\n",
       "      <td>100.0000</td>\n",
       "      <td>0.0</td>\n",
       "      <td>83.0</td>\n",
       "      <td>3.0</td>\n",
       "      <td>64.615885</td>\n",
       "      <td>2.0</td>\n",
       "      <td>2.0</td>\n",
       "      <td>NaN</td>\n",
       "      <td>1</td>\n",
       "      <td>0</td>\n",
       "      <td>1</td>\n",
       "      <td>7</td>\n",
       "      <td>0.458512</td>\n",
       "    </tr>\n",
       "    <tr>\n",
       "      <th>1617</th>\n",
       "      <td>602863</td>\n",
       "      <td>87.500000</td>\n",
       "      <td>1.0000</td>\n",
       "      <td>100.0000</td>\n",
       "      <td>0.0</td>\n",
       "      <td>54.0</td>\n",
       "      <td>4.0</td>\n",
       "      <td>65.329218</td>\n",
       "      <td>1.0</td>\n",
       "      <td>NaN</td>\n",
       "      <td>NaN</td>\n",
       "      <td>2</td>\n",
       "      <td>1</td>\n",
       "      <td>42</td>\n",
       "      <td>5</td>\n",
       "      <td>0.458303</td>\n",
       "    </tr>\n",
       "    <tr>\n",
       "      <th>1077</th>\n",
       "      <td>567361</td>\n",
       "      <td>93.269233</td>\n",
       "      <td>1.0000</td>\n",
       "      <td>100.0000</td>\n",
       "      <td>0.0</td>\n",
       "      <td>53.0</td>\n",
       "      <td>4.0</td>\n",
       "      <td>63.253012</td>\n",
       "      <td>NaN</td>\n",
       "      <td>NaN</td>\n",
       "      <td>NaN</td>\n",
       "      <td>2</td>\n",
       "      <td>2</td>\n",
       "      <td>42</td>\n",
       "      <td>6</td>\n",
       "      <td>0.458236</td>\n",
       "    </tr>\n",
       "    <tr>\n",
       "      <th>188</th>\n",
       "      <td>551395</td>\n",
       "      <td>95.000000</td>\n",
       "      <td>1.6667</td>\n",
       "      <td>100.0000</td>\n",
       "      <td>0.0</td>\n",
       "      <td>24.0</td>\n",
       "      <td>4.0</td>\n",
       "      <td>62.500000</td>\n",
       "      <td>5.0</td>\n",
       "      <td>4.0</td>\n",
       "      <td>NaN</td>\n",
       "      <td>0</td>\n",
       "      <td>1</td>\n",
       "      <td>36</td>\n",
       "      <td>5</td>\n",
       "      <td>0.456227</td>\n",
       "    </tr>\n",
       "    <tr>\n",
       "      <th>...</th>\n",
       "      <td>...</td>\n",
       "      <td>...</td>\n",
       "      <td>...</td>\n",
       "      <td>...</td>\n",
       "      <td>...</td>\n",
       "      <td>...</td>\n",
       "      <td>...</td>\n",
       "      <td>...</td>\n",
       "      <td>...</td>\n",
       "      <td>...</td>\n",
       "      <td>...</td>\n",
       "      <td>...</td>\n",
       "      <td>...</td>\n",
       "      <td>...</td>\n",
       "      <td>...</td>\n",
       "      <td>...</td>\n",
       "    </tr>\n",
       "    <tr>\n",
       "      <th>11619</th>\n",
       "      <td>613948</td>\n",
       "      <td>NaN</td>\n",
       "      <td>0.0000</td>\n",
       "      <td>NaN</td>\n",
       "      <td>NaN</td>\n",
       "      <td>0.0</td>\n",
       "      <td>NaN</td>\n",
       "      <td>0.000000</td>\n",
       "      <td>NaN</td>\n",
       "      <td>NaN</td>\n",
       "      <td>NaN</td>\n",
       "      <td>22</td>\n",
       "      <td>0</td>\n",
       "      <td>22</td>\n",
       "      <td>6</td>\n",
       "      <td>0.241139</td>\n",
       "    </tr>\n",
       "    <tr>\n",
       "      <th>11571</th>\n",
       "      <td>654801</td>\n",
       "      <td>3.846200</td>\n",
       "      <td>0.0000</td>\n",
       "      <td>3.8462</td>\n",
       "      <td>NaN</td>\n",
       "      <td>NaN</td>\n",
       "      <td>NaN</td>\n",
       "      <td>NaN</td>\n",
       "      <td>NaN</td>\n",
       "      <td>NaN</td>\n",
       "      <td>NaN</td>\n",
       "      <td>21</td>\n",
       "      <td>0</td>\n",
       "      <td>21</td>\n",
       "      <td>6</td>\n",
       "      <td>0.240680</td>\n",
       "    </tr>\n",
       "    <tr>\n",
       "      <th>11555</th>\n",
       "      <td>654714</td>\n",
       "      <td>3.846200</td>\n",
       "      <td>0.0000</td>\n",
       "      <td>3.8462</td>\n",
       "      <td>NaN</td>\n",
       "      <td>NaN</td>\n",
       "      <td>NaN</td>\n",
       "      <td>NaN</td>\n",
       "      <td>NaN</td>\n",
       "      <td>NaN</td>\n",
       "      <td>NaN</td>\n",
       "      <td>21</td>\n",
       "      <td>0</td>\n",
       "      <td>21</td>\n",
       "      <td>6</td>\n",
       "      <td>0.240680</td>\n",
       "    </tr>\n",
       "    <tr>\n",
       "      <th>11469</th>\n",
       "      <td>653824</td>\n",
       "      <td>3.846200</td>\n",
       "      <td>0.0000</td>\n",
       "      <td>3.8462</td>\n",
       "      <td>NaN</td>\n",
       "      <td>NaN</td>\n",
       "      <td>NaN</td>\n",
       "      <td>NaN</td>\n",
       "      <td>NaN</td>\n",
       "      <td>NaN</td>\n",
       "      <td>NaN</td>\n",
       "      <td>21</td>\n",
       "      <td>0</td>\n",
       "      <td>21</td>\n",
       "      <td>6</td>\n",
       "      <td>0.240680</td>\n",
       "    </tr>\n",
       "    <tr>\n",
       "      <th>11428</th>\n",
       "      <td>619411</td>\n",
       "      <td>NaN</td>\n",
       "      <td>0.0000</td>\n",
       "      <td>NaN</td>\n",
       "      <td>NaN</td>\n",
       "      <td>0.0</td>\n",
       "      <td>NaN</td>\n",
       "      <td>0.000000</td>\n",
       "      <td>NaN</td>\n",
       "      <td>NaN</td>\n",
       "      <td>NaN</td>\n",
       "      <td>21</td>\n",
       "      <td>0</td>\n",
       "      <td>21</td>\n",
       "      <td>6</td>\n",
       "      <td>0.240545</td>\n",
       "    </tr>\n",
       "  </tbody>\n",
       "</table>\n",
       "<p>12383 rows × 16 columns</p>\n",
       "</div>"
      ],
      "text/plain": [
       "        lo_id  first_attempt_avg_score  train_count_avg  final_score_avg  \\\n",
       "190    525181                87.208633          20.6667         100.0000   \n",
       "922    609024                90.814400           2.6667         100.0000   \n",
       "1617   602863                87.500000           1.0000         100.0000   \n",
       "1077   567361                93.269233           1.0000         100.0000   \n",
       "188    551395                95.000000           1.6667         100.0000   \n",
       "...       ...                      ...              ...              ...   \n",
       "11619  613948                      NaN           0.0000              NaN   \n",
       "11571  654801                 3.846200           0.0000           3.8462   \n",
       "11555  654714                 3.846200           0.0000           3.8462   \n",
       "11469  653824                 3.846200           0.0000           3.8462   \n",
       "11428  619411                      NaN           0.0000              NaN   \n",
       "\n",
       "       train_count_80_avg  oz_done_count  oz_subject_count  oz_percent_avg  \\\n",
       "190                   0.0           48.0               4.0       50.526316   \n",
       "922                   0.0           83.0               3.0       64.615885   \n",
       "1617                  0.0           54.0               4.0       65.329218   \n",
       "1077                  0.0           53.0               4.0       63.253012   \n",
       "188                   0.0           24.0               4.0       62.500000   \n",
       "...                   ...            ...               ...             ...   \n",
       "11619                 NaN            0.0               NaN        0.000000   \n",
       "11571                 NaN            NaN               NaN             NaN   \n",
       "11555                 NaN            NaN               NaN             NaN   \n",
       "11469                 NaN            NaN               NaN             NaN   \n",
       "11428                 NaN            0.0               NaN        0.000000   \n",
       "\n",
       "       course_start  course_50  olymp_start  week_first_login_this_year  \\\n",
       "190             9.0        7.0          1.0                           0   \n",
       "922             2.0        2.0          NaN                           1   \n",
       "1617            1.0        NaN          NaN                           2   \n",
       "1077            NaN        NaN          NaN                           2   \n",
       "188             5.0        4.0          NaN                           0   \n",
       "...             ...        ...          ...                         ...   \n",
       "11619           NaN        NaN          NaN                          22   \n",
       "11571           NaN        NaN          NaN                          21   \n",
       "11555           NaN        NaN          NaN                          21   \n",
       "11469           NaN        NaN          NaN                          21   \n",
       "11428           NaN        NaN          NaN                          21   \n",
       "\n",
       "       wave_login_first  week_first_login_wave  grade  success_probability  \n",
       "190                   2                     30      6             0.472796  \n",
       "922                   0                      1      7             0.458512  \n",
       "1617                  1                     42      5             0.458303  \n",
       "1077                  2                     42      6             0.458236  \n",
       "188                   1                     36      5             0.456227  \n",
       "...                 ...                    ...    ...                  ...  \n",
       "11619                 0                     22      6             0.241139  \n",
       "11571                 0                     21      6             0.240680  \n",
       "11555                 0                     21      6             0.240680  \n",
       "11469                 0                     21      6             0.240680  \n",
       "11428                 0                     21      6             0.240545  \n",
       "\n",
       "[12383 rows x 16 columns]"
      ]
     },
     "execution_count": 384,
     "metadata": {},
     "output_type": "execute_result"
    }
   ],
   "source": [
    "df_23 = df_23.join(proba).sort_values(by=\"success_probability\", ascending=False)\n",
    "df_23"
   ]
  },
  {
   "cell_type": "code",
   "execution_count": 388,
   "metadata": {},
   "outputs": [
    {
     "data": {
      "text/html": [
       "<div>\n",
       "<style scoped>\n",
       "    .dataframe tbody tr th:only-of-type {\n",
       "        vertical-align: middle;\n",
       "    }\n",
       "\n",
       "    .dataframe tbody tr th {\n",
       "        vertical-align: top;\n",
       "    }\n",
       "\n",
       "    .dataframe thead th {\n",
       "        text-align: right;\n",
       "    }\n",
       "</style>\n",
       "<table border=\"1\" class=\"dataframe\">\n",
       "  <thead>\n",
       "    <tr style=\"text-align: right;\">\n",
       "      <th></th>\n",
       "      <th>lo_id</th>\n",
       "      <th>first_attempt_avg_score</th>\n",
       "      <th>train_count_avg</th>\n",
       "      <th>final_score_avg</th>\n",
       "      <th>train_count_80_avg</th>\n",
       "      <th>oz_done_count</th>\n",
       "      <th>oz_subject_count</th>\n",
       "      <th>oz_percent_avg</th>\n",
       "      <th>course_start</th>\n",
       "      <th>course_50</th>\n",
       "      <th>olymp_start</th>\n",
       "      <th>week_first_login_this_year</th>\n",
       "      <th>wave_login_first</th>\n",
       "      <th>week_first_login_wave</th>\n",
       "      <th>grade</th>\n",
       "      <th>success_probability</th>\n",
       "    </tr>\n",
       "  </thead>\n",
       "  <tbody>\n",
       "    <tr>\n",
       "      <th>190</th>\n",
       "      <td>525181</td>\n",
       "      <td>87.208633</td>\n",
       "      <td>20.6667</td>\n",
       "      <td>100.00</td>\n",
       "      <td>0.0</td>\n",
       "      <td>48.0</td>\n",
       "      <td>4.0</td>\n",
       "      <td>50.526316</td>\n",
       "      <td>9.0</td>\n",
       "      <td>7.0</td>\n",
       "      <td>1.0</td>\n",
       "      <td>0</td>\n",
       "      <td>2</td>\n",
       "      <td>30</td>\n",
       "      <td>7</td>\n",
       "      <td>0.472796</td>\n",
       "    </tr>\n",
       "    <tr>\n",
       "      <th>922</th>\n",
       "      <td>609024</td>\n",
       "      <td>90.814400</td>\n",
       "      <td>2.6667</td>\n",
       "      <td>100.00</td>\n",
       "      <td>0.0</td>\n",
       "      <td>83.0</td>\n",
       "      <td>3.0</td>\n",
       "      <td>64.615885</td>\n",
       "      <td>2.0</td>\n",
       "      <td>2.0</td>\n",
       "      <td>NaN</td>\n",
       "      <td>1</td>\n",
       "      <td>0</td>\n",
       "      <td>1</td>\n",
       "      <td>8</td>\n",
       "      <td>0.458512</td>\n",
       "    </tr>\n",
       "    <tr>\n",
       "      <th>1617</th>\n",
       "      <td>602863</td>\n",
       "      <td>87.500000</td>\n",
       "      <td>1.0000</td>\n",
       "      <td>100.00</td>\n",
       "      <td>0.0</td>\n",
       "      <td>54.0</td>\n",
       "      <td>4.0</td>\n",
       "      <td>65.329218</td>\n",
       "      <td>1.0</td>\n",
       "      <td>NaN</td>\n",
       "      <td>NaN</td>\n",
       "      <td>2</td>\n",
       "      <td>1</td>\n",
       "      <td>42</td>\n",
       "      <td>6</td>\n",
       "      <td>0.458303</td>\n",
       "    </tr>\n",
       "    <tr>\n",
       "      <th>1077</th>\n",
       "      <td>567361</td>\n",
       "      <td>93.269233</td>\n",
       "      <td>1.0000</td>\n",
       "      <td>100.00</td>\n",
       "      <td>0.0</td>\n",
       "      <td>53.0</td>\n",
       "      <td>4.0</td>\n",
       "      <td>63.253012</td>\n",
       "      <td>NaN</td>\n",
       "      <td>NaN</td>\n",
       "      <td>NaN</td>\n",
       "      <td>2</td>\n",
       "      <td>2</td>\n",
       "      <td>42</td>\n",
       "      <td>7</td>\n",
       "      <td>0.458236</td>\n",
       "    </tr>\n",
       "    <tr>\n",
       "      <th>188</th>\n",
       "      <td>551395</td>\n",
       "      <td>95.000000</td>\n",
       "      <td>1.6667</td>\n",
       "      <td>100.00</td>\n",
       "      <td>0.0</td>\n",
       "      <td>24.0</td>\n",
       "      <td>4.0</td>\n",
       "      <td>62.500000</td>\n",
       "      <td>5.0</td>\n",
       "      <td>4.0</td>\n",
       "      <td>NaN</td>\n",
       "      <td>0</td>\n",
       "      <td>1</td>\n",
       "      <td>36</td>\n",
       "      <td>6</td>\n",
       "      <td>0.456227</td>\n",
       "    </tr>\n",
       "    <tr>\n",
       "      <th>...</th>\n",
       "      <td>...</td>\n",
       "      <td>...</td>\n",
       "      <td>...</td>\n",
       "      <td>...</td>\n",
       "      <td>...</td>\n",
       "      <td>...</td>\n",
       "      <td>...</td>\n",
       "      <td>...</td>\n",
       "      <td>...</td>\n",
       "      <td>...</td>\n",
       "      <td>...</td>\n",
       "      <td>...</td>\n",
       "      <td>...</td>\n",
       "      <td>...</td>\n",
       "      <td>...</td>\n",
       "      <td>...</td>\n",
       "    </tr>\n",
       "    <tr>\n",
       "      <th>5462</th>\n",
       "      <td>614060</td>\n",
       "      <td>68.750000</td>\n",
       "      <td>1.5000</td>\n",
       "      <td>68.75</td>\n",
       "      <td>NaN</td>\n",
       "      <td>NaN</td>\n",
       "      <td>NaN</td>\n",
       "      <td>NaN</td>\n",
       "      <td>2.0</td>\n",
       "      <td>1.0</td>\n",
       "      <td>NaN</td>\n",
       "      <td>8</td>\n",
       "      <td>0</td>\n",
       "      <td>8</td>\n",
       "      <td>6</td>\n",
       "      <td>0.302045</td>\n",
       "    </tr>\n",
       "    <tr>\n",
       "      <th>702</th>\n",
       "      <td>551057</td>\n",
       "      <td>30.000000</td>\n",
       "      <td>1.6667</td>\n",
       "      <td>42.50</td>\n",
       "      <td>NaN</td>\n",
       "      <td>2.0</td>\n",
       "      <td>1.0</td>\n",
       "      <td>50.000000</td>\n",
       "      <td>NaN</td>\n",
       "      <td>NaN</td>\n",
       "      <td>NaN</td>\n",
       "      <td>1</td>\n",
       "      <td>1</td>\n",
       "      <td>35</td>\n",
       "      <td>6</td>\n",
       "      <td>0.302029</td>\n",
       "    </tr>\n",
       "    <tr>\n",
       "      <th>508</th>\n",
       "      <td>601471</td>\n",
       "      <td>NaN</td>\n",
       "      <td>NaN</td>\n",
       "      <td>NaN</td>\n",
       "      <td>NaN</td>\n",
       "      <td>NaN</td>\n",
       "      <td>NaN</td>\n",
       "      <td>NaN</td>\n",
       "      <td>1.0</td>\n",
       "      <td>1.0</td>\n",
       "      <td>NaN</td>\n",
       "      <td>1</td>\n",
       "      <td>1</td>\n",
       "      <td>42</td>\n",
       "      <td>6</td>\n",
       "      <td>0.302023</td>\n",
       "    </tr>\n",
       "    <tr>\n",
       "      <th>4920</th>\n",
       "      <td>569619</td>\n",
       "      <td>62.500000</td>\n",
       "      <td>0.0000</td>\n",
       "      <td>62.50</td>\n",
       "      <td>NaN</td>\n",
       "      <td>NaN</td>\n",
       "      <td>NaN</td>\n",
       "      <td>NaN</td>\n",
       "      <td>1.0</td>\n",
       "      <td>1.0</td>\n",
       "      <td>NaN</td>\n",
       "      <td>7</td>\n",
       "      <td>1</td>\n",
       "      <td>4</td>\n",
       "      <td>6</td>\n",
       "      <td>0.301939</td>\n",
       "    </tr>\n",
       "    <tr>\n",
       "      <th>284</th>\n",
       "      <td>601465</td>\n",
       "      <td>NaN</td>\n",
       "      <td>NaN</td>\n",
       "      <td>NaN</td>\n",
       "      <td>NaN</td>\n",
       "      <td>3.0</td>\n",
       "      <td>1.0</td>\n",
       "      <td>33.333333</td>\n",
       "      <td>NaN</td>\n",
       "      <td>NaN</td>\n",
       "      <td>NaN</td>\n",
       "      <td>0</td>\n",
       "      <td>1</td>\n",
       "      <td>40</td>\n",
       "      <td>6</td>\n",
       "      <td>0.301501</td>\n",
       "    </tr>\n",
       "  </tbody>\n",
       "</table>\n",
       "<p>1500 rows × 16 columns</p>\n",
       "</div>"
      ],
      "text/plain": [
       "       lo_id  first_attempt_avg_score  train_count_avg  final_score_avg  \\\n",
       "190   525181                87.208633          20.6667           100.00   \n",
       "922   609024                90.814400           2.6667           100.00   \n",
       "1617  602863                87.500000           1.0000           100.00   \n",
       "1077  567361                93.269233           1.0000           100.00   \n",
       "188   551395                95.000000           1.6667           100.00   \n",
       "...      ...                      ...              ...              ...   \n",
       "5462  614060                68.750000           1.5000            68.75   \n",
       "702   551057                30.000000           1.6667            42.50   \n",
       "508   601471                      NaN              NaN              NaN   \n",
       "4920  569619                62.500000           0.0000            62.50   \n",
       "284   601465                      NaN              NaN              NaN   \n",
       "\n",
       "      train_count_80_avg  oz_done_count  oz_subject_count  oz_percent_avg  \\\n",
       "190                  0.0           48.0               4.0       50.526316   \n",
       "922                  0.0           83.0               3.0       64.615885   \n",
       "1617                 0.0           54.0               4.0       65.329218   \n",
       "1077                 0.0           53.0               4.0       63.253012   \n",
       "188                  0.0           24.0               4.0       62.500000   \n",
       "...                  ...            ...               ...             ...   \n",
       "5462                 NaN            NaN               NaN             NaN   \n",
       "702                  NaN            2.0               1.0       50.000000   \n",
       "508                  NaN            NaN               NaN             NaN   \n",
       "4920                 NaN            NaN               NaN             NaN   \n",
       "284                  NaN            3.0               1.0       33.333333   \n",
       "\n",
       "      course_start  course_50  olymp_start  week_first_login_this_year  \\\n",
       "190            9.0        7.0          1.0                           0   \n",
       "922            2.0        2.0          NaN                           1   \n",
       "1617           1.0        NaN          NaN                           2   \n",
       "1077           NaN        NaN          NaN                           2   \n",
       "188            5.0        4.0          NaN                           0   \n",
       "...            ...        ...          ...                         ...   \n",
       "5462           2.0        1.0          NaN                           8   \n",
       "702            NaN        NaN          NaN                           1   \n",
       "508            1.0        1.0          NaN                           1   \n",
       "4920           1.0        1.0          NaN                           7   \n",
       "284            NaN        NaN          NaN                           0   \n",
       "\n",
       "      wave_login_first  week_first_login_wave  grade  success_probability  \n",
       "190                  2                     30      7             0.472796  \n",
       "922                  0                      1      8             0.458512  \n",
       "1617                 1                     42      6             0.458303  \n",
       "1077                 2                     42      7             0.458236  \n",
       "188                  1                     36      6             0.456227  \n",
       "...                ...                    ...    ...                  ...  \n",
       "5462                 0                      8      6             0.302045  \n",
       "702                  1                     35      6             0.302029  \n",
       "508                  1                     42      6             0.302023  \n",
       "4920                 1                      4      6             0.301939  \n",
       "284                  1                     40      6             0.301501  \n",
       "\n",
       "[1500 rows x 16 columns]"
      ]
     },
     "execution_count": 388,
     "metadata": {},
     "output_type": "execute_result"
    }
   ],
   "source": [
    "result = df_23[df_23[\"grade\"] != 8.0].groupby(\"grade\").head(500)\n",
    "# Увеличим grade на 1, чтобы соответсвовало следующему году\n",
    "result[\"grade\"] += 1\n",
    "result"
   ]
  },
  {
   "cell_type": "code",
   "execution_count": 391,
   "metadata": {},
   "outputs": [
    {
     "data": {
      "text/plain": [
       "grade\n",
       "7    500\n",
       "8    500\n",
       "6    500\n",
       "Name: count, dtype: int64"
      ]
     },
     "execution_count": 391,
     "metadata": {},
     "output_type": "execute_result"
    }
   ],
   "source": [
    "result[\"grade\"].value_counts()"
   ]
  },
  {
   "cell_type": "markdown",
   "metadata": {},
   "source": [
    "## <a id='toc3_9_'></a>[Граница скоринга для 2023-2024 уч. года](#toc0_)"
   ]
  },
  {
   "cell_type": "markdown",
   "metadata": {},
   "source": [
    "В этом разделе определим границу, по которой мы будем отбирать учеников в будущем году.\n",
    "\n",
    "Мы хотим выбрать около 20%. \n",
    "\n",
    "Алгортм:\n",
    "1. Посмотрим на оценки модели всех учеников в 2022-2023 учебном году. \n",
    "2. Выберем 1000 случайных оценок с заменой\n",
    "3. Найдем значение 80-перцентиля $p_{80}$\n",
    "4. Повторим пункты 2-3 1000 раз.\n",
    "5. Возьмем среднее значение от всех $p_{80}$. Это и будет нашей теоритической границей. "
   ]
  },
  {
   "cell_type": "code",
   "execution_count": 418,
   "metadata": {},
   "outputs": [
    {
     "data": {
      "text/plain": [
       "'na_feature_cnt'"
      ]
     },
     "execution_count": 418,
     "metadata": {},
     "output_type": "execute_result"
    }
   ],
   "source": [
    "feat_names.pop()"
   ]
  },
  {
   "cell_type": "code",
   "execution_count": 430,
   "metadata": {},
   "outputs": [
    {
     "data": {
      "text/plain": [
       "array([0.4032175 , 0.30935353, 0.31161733, ..., 0.2894838 , 0.29822169,\n",
       "       0.28760413])"
      ]
     },
     "execution_count": 430,
     "metadata": {},
     "output_type": "execute_result"
    }
   ],
   "source": [
    "X = feat[23][feat[23].grade != 5][feat_names]\n",
    "cbc_tune = MyCatboostClassifier()\n",
    "cbc_tune.load_model(\"best_tuned_model\")\n",
    "\n",
    "pipe = Pipeline([(\"preprocessor\", preprocessor), (\"catboost\", cbc_tune)])\n",
    "\n",
    "proba = pipe.predict_proba(X)[:, 1]\n",
    "proba"
   ]
  },
  {
   "cell_type": "code",
   "execution_count": 431,
   "metadata": {},
   "outputs": [
    {
     "name": "stdout",
     "output_type": "stream",
     "text": [
      "Граница = 0.359 +- 0.005\n"
     ]
    }
   ],
   "source": [
    "def bootstrap_proba_boundary(\n",
    "    probas: np.ndarray, p: i = 20, sample_size: int = 1000, n_iter: int = 1000\n",
    "):\n",
    "    \"\"\"\n",
    "    Function takes an array of probabilities and returns a bootstrap mean and std of the top p% scores.\n",
    "\n",
    "    probas - numpy array of model scores for class 1\n",
    "    p - top p percents to take\n",
    "    sample_size - how large a sample to take from probas on each bootstrap round\n",
    "    n_iter - how many iterations to perform for bootstrap\n",
    "    \"\"\"\n",
    "    percentile_ls = []\n",
    "    for _ in range(n_iter):\n",
    "        sample = np.random.choice(proba, sample_size, replace=True)\n",
    "        percentile_ls.append(np.percentile(sample, 100 - p))\n",
    "    mean_p = np.mean(percentile_ls)\n",
    "    std_p = np.std(percentile_ls)\n",
    "    print(f\"Граница ={mean_p: .3f} +-{std_p: .3f}\")\n",
    "    return mean_p, std_p\n",
    "\n",
    "\n",
    "boundary_mean, boundary_std = bootstrap_proba_boundary(proba)"
   ]
  },
  {
   "cell_type": "markdown",
   "metadata": {},
   "source": [
    "Проверим:"
   ]
  },
  {
   "cell_type": "code",
   "execution_count": 435,
   "metadata": {},
   "outputs": [
    {
     "data": {
      "text/plain": [
       "19.97537162459319"
      ]
     },
     "execution_count": 435,
     "metadata": {},
     "output_type": "execute_result"
    }
   ],
   "source": [
    "len(proba[proba >= boundary_mean]) / len(proba) * 100"
   ]
  },
  {
   "cell_type": "code",
   "execution_count": 443,
   "metadata": {},
   "outputs": [
    {
     "data": {
      "text/plain": [
       "0.3587360299263477"
      ]
     },
     "execution_count": 443,
     "metadata": {},
     "output_type": "execute_result"
    }
   ],
   "source": [
    "boundary_mean"
   ]
  },
  {
   "cell_type": "markdown",
   "metadata": {},
   "source": [
    "Да, реально выбранный процент оказался близким к 20. Также можем оценить сколько из реально рекомендованных попадают в такую выборку:"
   ]
  },
  {
   "cell_type": "code",
   "execution_count": 441,
   "metadata": {},
   "outputs": [
    {
     "name": "stdout",
     "output_type": "stream",
     "text": [
      "Всего рекомендовано 252\n",
      "Процент рекомендованных, попавших в выборку  85.71%\n"
     ]
    }
   ],
   "source": [
    "data = feat[23][feat[23].grade != 5]\n",
    "n_recomended = claims[23][\"recomended\"].sum()\n",
    "print(f\"Всего рекомендовано {n_recomended}\")\n",
    "data[\"success_proba\"] = proba\n",
    "data = data.merge(claims[23], on=\"lo_id\", how=\"left\")\n",
    "data_boundary = data[data[\"success_proba\"] >= boundary_mean]\n",
    "recomended_recall = data_boundary[\"recomended\"].sum() / n_recomended\n",
    "print(f\"Процент рекомендованных, попавших в выборку {recomended_recall: .2%}\")"
   ]
  },
  {
   "cell_type": "code",
   "execution_count": 448,
   "metadata": {},
   "outputs": [],
   "source": [
    "data.sort_values(\"success_proba\", ascending=False).iloc[:, :-2].to_csv(\n",
    "    \"2022_2023_features_and_scores.csv\", index=False\n",
    ")"
   ]
  },
  {
   "cell_type": "markdown",
   "metadata": {},
   "source": [
    "## <a id='toc3_10_'></a>[Вывод](#toc0_)"
   ]
  },
  {
   "cell_type": "markdown",
   "metadata": {},
   "source": [
    "- Выбрана модель CatboostClassifier обученная на данных двух учебных лет с затюнингованными гиперпараметрами в optuna. Она оказалась довольно сильно лучше baseline для базовых гиперпараметров catboost. Eсть надежда, что модель, обученная на последних двух годах, будет более устойчива к колебаниям данных год от года.\n",
    "\n",
    "- Модель обучалась только на тех учениках, которые подавали заявку в школу. \n",
    "\n",
    "- CV показал recall в 40%, при выборе топ 10% процентов по скорингу.\n",
    "\n",
    "- На всех данных 2022-2023 модель показала recall 85% при выборе 20% всех учеников. Определена граница для отбора учеников в будущем году. \n",
    "\n",
    "- Также выполнено предсказание успешности в будущем году (23-24) для 5-7 классов (не показано здесь из-за НДА)."
   ]
  }
 ],
 "metadata": {
  "kernelspec": {
   "display_name": "success_model",
   "language": "python",
   "name": "python3"
  },
  "language_info": {
   "codemirror_mode": {
    "name": "ipython",
    "version": 3
   },
   "file_extension": ".py",
   "mimetype": "text/x-python",
   "name": "python",
   "nbconvert_exporter": "python",
   "pygments_lexer": "ipython3",
   "version": "3.8.17"
  },
  "orig_nbformat": 4
 },
 "nbformat": 4,
 "nbformat_minor": 2
}
